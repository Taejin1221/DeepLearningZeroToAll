{
 "cells": [
  {
   "cell_type": "code",
   "execution_count": 1,
   "metadata": {},
   "outputs": [],
   "source": [
    "import tensorflow as tf\n",
    "import random"
   ]
  },
  {
   "cell_type": "code",
   "execution_count": 2,
   "metadata": {},
   "outputs": [
    {
     "name": "stdout",
     "output_type": "stream",
     "text": [
      "(60000, 28, 28) (10000, 28, 28)\n"
     ]
    }
   ],
   "source": [
    "( x_train, y_train ), ( x_test, y_test ) = tf.keras.datasets.mnist.load_data()\n",
    "\n",
    "x_train = tf.cast( x_train / 255.0, tf.float32 )\n",
    "x_test = tf.cast( x_test / 255.0, tf.float32 )\n",
    "\n",
    "y_train = tf.keras.utils.to_categorical( y_train, 10 )\n",
    "y_test = tf.keras.utils.to_categorical( y_test, 10 )\n",
    "print( x_train.shape, x_test.shape )"
   ]
  },
  {
   "cell_type": "code",
   "execution_count": 3,
   "metadata": {},
   "outputs": [],
   "source": [
    "learning_rate = 0.001\n",
    "training_epochs = 15\n",
    "batch_size = 100"
   ]
  },
  {
   "cell_type": "code",
   "execution_count": 4,
   "metadata": {},
   "outputs": [],
   "source": [
    "W1 = tf.Variable( tf.random.normal( [ 3, 3, 1, 32 ], stddev = 0.01 ) )\n",
    "def Layer1( X, rate ):\n",
    "    l1 = tf.nn.conv2d( X, W1, strides = [ 1, 1, 1, 1 ], padding = 'SAME' )\n",
    "    l1 = tf.nn.relu( l1 )\n",
    "    l1 = tf.nn.max_pool( l1, ksize = [ 1, 2, 2, 1 ],\n",
    "                           strides = [ 1, 2, 2, 1 ], padding = 'SAME' )\n",
    "    return ( tf.nn.dropout( l1, rate ) )\n",
    "\n",
    "W2 = tf.Variable( tf.random.normal( [ 3, 3, 32, 64 ], stddev = 0.01 ) )\n",
    "def Layer2( X, rate ):\n",
    "    l2 = tf.nn.conv2d( Layer1( X, rate ), W2, strides = [ 1, 1, 1, 1 ], padding = 'SAME' )\n",
    "    l2 = tf.nn.relu( l2 )\n",
    "    l2 = ( tf.nn.max_pool( l2, ksize = [ 1, 2, 2, 1 ],\n",
    "                           strides = [ 1, 2, 2, 1 ], padding = 'SAME' ) )\n",
    "    return ( tf.nn.dropout( l2, rate ) )\n",
    "\n",
    "W3 = tf.Variable( tf.random.normal( [ 3, 3, 64, 128 ], stddev = 0.01 ) )\n",
    "def Layer3( X, rate ):\n",
    "    l3 = tf.nn.conv2d( Layer2( X, rate ), W3, strides = [ 1, 1, 1, 1 ], padding = 'SAME' )\n",
    "    l3 = tf.nn.relu( l3 )\n",
    "    l3 = ( tf.nn.max_pool( l3, ksize = [ 1, 2, 2, 1 ],\n",
    "                           strides = [ 1, 2, 2, 1 ], padding = 'SAME' ) )\n",
    "    return ( tf.nn.dropout( l3, rate ) )\n",
    "\n",
    "def Layer3_flat( X, rate ):\n",
    "    return ( tf.reshape( Layer3( X, rate ), [ -1, 128 * 4 * 4 ] ) )\n",
    "\n",
    "xavier = tf.keras.initializers.GlorotUniform()\n",
    "\n",
    "W4 = tf.Variable( xavier( [ 128 * 4 * 4, 625 ] ) )\n",
    "b4 = tf.Variable( tf.random.normal( [ 625 ] ) )\n",
    "def Layer4( X, rate ):\n",
    "    l4 = tf.nn.relu( tf.matmul( Layer3_flat( X, rate ), W4 ) + b4 )\n",
    "    return  ( tf.nn.dropout( l4, rate ) )\n",
    "\n",
    "W5 = tf.Variable( xavier( [ 625, 10 ] ) )\n",
    "b5 = tf.Variable( tf.random.normal( [ 10 ] ) )\n",
    "def Logits( X, rate ):\n",
    "    return ( tf.matmul( Layer4( X, rate ), W5 ) + b5 )"
   ]
  },
  {
   "cell_type": "code",
   "execution_count": 5,
   "metadata": {},
   "outputs": [],
   "source": [
    "@tf.function\n",
    "def Cost( X, Y, rate ):\n",
    "    return ( tf.reduce_mean( \n",
    "        tf.nn.softmax_cross_entropy_with_logits(\n",
    "            logits = Logits( X, rate ), labels = Y )\n",
    "    ) )\n",
    "\n",
    "def Minimize( X, Y, rate ):\n",
    "    loss = lambda: Cost( X, Y, rate )\n",
    "    \n",
    "    tf.keras.optimizers.Adam( learning_rate ).minimize( loss, \n",
    "                                                      [ W1, W2, W3,\n",
    "                                                       b4, b5 ] )"
   ]
  },
  {
   "cell_type": "code",
   "execution_count": 6,
   "metadata": {},
   "outputs": [
    {
     "name": "stdout",
     "output_type": "stream",
     "text": [
      "Learning started. It takes sometime\n",
      "Epoch: 0001, Cost: 0.776947200\n",
      "Epoch: 0002, Cost: 0.273817807\n",
      "Epoch: 0003, Cost: 0.220963582\n",
      "Epoch: 0004, Cost: 0.192832544\n",
      "Epoch: 0005, Cost: 0.174315453\n",
      "Epoch: 0006, Cost: 0.159904182\n",
      "Epoch: 0007, Cost: 0.148792610\n",
      "Epoch: 0008, Cost: 0.137430981\n",
      "Epoch: 0009, Cost: 0.128233299\n",
      "Epoch: 0010, Cost: 0.121030472\n",
      "Epoch: 0011, Cost: 0.118418634\n",
      "Epoch: 0012, Cost: 0.110297635\n",
      "Epoch: 0013, Cost: 0.110754788\n",
      "Epoch: 0014, Cost: 0.103921674\n",
      "Epoch: 0015, Cost: 0.103045061\n",
      "Learning Finished!\n"
     ]
    }
   ],
   "source": [
    "print( 'Learning started. It takes sometime' )\n",
    "for epoch in range( training_epochs ):\n",
    "    avg_cost = 0\n",
    "    total_batch = int( len( x_train ) / batch_size )\n",
    "    \n",
    "    start_batch, end_batch = 0, batch_size\n",
    "    for i in range( total_batch ):\n",
    "        batch_xs, batch_ys = \\\n",
    "            x_train[ start_batch : end_batch ], y_train[start_batch : end_batch ]\n",
    "        batch_xs = tf.reshape( batch_xs, [ -1, 28, 28, 1 ] )\n",
    "        \n",
    "        Minimize( batch_xs, batch_ys, 0.3 )\n",
    "        cost_val = Cost( batch_xs, batch_ys, 0.3 )\n",
    "        \n",
    "        avg_cost += cost_val / total_batch\n",
    "        \n",
    "        start_batch = start_batch + batch_size\n",
    "        end_batch = end_batch + batch_size\n",
    "    \n",
    "    print( 'Epoch: {:04d}, Cost: {:.9f}'.format( epoch + 1, avg_cost ) )\n",
    "print( 'Learning Finished!' )"
   ]
  },
  {
   "cell_type": "code",
   "execution_count": 7,
   "metadata": {},
   "outputs": [],
   "source": [
    "def CorrectPrediction( X, Y ):\n",
    "    return ( tf.equal( tf.argmax( Logits( X, 0 ), 1 ), tf.argmax( Y, 1 ) ) )\n",
    "\n",
    "def Accuracy( X, Y ):\n",
    "    return ( tf.reduce_mean( tf.cast( CorrectPrediction( X, Y ), tf.float32 ) ) )\n",
    "\n",
    "def Evaluate( X_sample, Y_sample, batch_size = 512 ):\n",
    "    N = X_sample.shape[0]\n",
    "    correct_sample = 0\n",
    "    \n",
    "    for i in range( 0, N, batch_size ):\n",
    "        X_batch = X_sample[ i : i + batch_size ]\n",
    "        Y_batch = Y_sample[ i : i + batch_size ]\n",
    "        N_batch = X_batch.shape[ 0 ]\n",
    "        \n",
    "        correct_sample += Accuracy( X_batch, Y_batch ) * N_batch\n",
    "        \n",
    "    return correct_sample / N"
   ]
  },
  {
   "cell_type": "code",
   "execution_count": 8,
   "metadata": {},
   "outputs": [
    {
     "name": "stdout",
     "output_type": "stream",
     "text": [
      "Accuracy:  0.9866\n",
      "Accuracy:  0.9866\n"
     ]
    }
   ],
   "source": [
    "x_img = tf.reshape( x_test, [ -1, 28, 28, 1 ] )\n",
    "tf.print( 'Accuracy: ', Accuracy( x_img, y_test ) )\n",
    "tf.print( 'Accuracy: ', Evaluate( x_img, y_test ) )"
   ]
  },
  {
   "cell_type": "code",
   "execution_count": 9,
   "metadata": {},
   "outputs": [
    {
     "name": "stdout",
     "output_type": "stream",
     "text": [
      "Label:  [0]\n",
      "Prediction:  [0]\n"
     ]
    }
   ],
   "source": [
    "r = random.randint( 0, len( x_test ) - 1 )\n",
    "x_img = tf.reshape( x_test[ r: r + 1], [ -1, 28, 28, 1] )\n",
    "tf.print( 'Label: ', tf.argmax( y_test[ r: r + 1 ], 1 ) )\n",
    "tf.print( 'Prediction: ',\n",
    "     tf.argmax( Logits( x_img, 0 ), 1 ) )"
   ]
  }
 ],
 "metadata": {
  "kernelspec": {
   "display_name": "Python 3",
   "language": "python",
   "name": "python3"
  },
  "language_info": {
   "codemirror_mode": {
    "name": "ipython",
    "version": 3
   },
   "file_extension": ".py",
   "mimetype": "text/x-python",
   "name": "python",
   "nbconvert_exporter": "python",
   "pygments_lexer": "ipython3",
   "version": "3.7.4"
  }
 },
 "nbformat": 4,
 "nbformat_minor": 2
}
