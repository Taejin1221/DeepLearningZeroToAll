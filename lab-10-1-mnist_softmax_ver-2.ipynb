{
 "cells": [
  {
   "cell_type": "code",
   "execution_count": 1,
   "metadata": {},
   "outputs": [],
   "source": [
    "import tensorflow as tf\n",
    "import matplotlib.pyplot as plt\n",
    "import random"
   ]
  },
  {
   "cell_type": "code",
   "execution_count": 2,
   "metadata": {},
   "outputs": [
    {
     "name": "stdout",
     "output_type": "stream",
     "text": [
      "(60000, 28, 28) (60000,)\n"
     ]
    }
   ],
   "source": [
    "mnist = tf.keras.datasets.mnist\n",
    "( x_train, y_train ), ( x_test, y_test ) = mnist.load_data()\n",
    "\n",
    "# Nomalization\n",
    "x_train, x_test = x_train / 255.0, x_test / 255.0\n",
    "x_train = tf.cast( x_train, tf.float32 )\n",
    "x_test = tf.cast( x_test, tf.float32 )\n",
    "\n",
    "print( x_train.shape, y_train.shape )"
   ]
  },
  {
   "cell_type": "code",
   "execution_count": 3,
   "metadata": {},
   "outputs": [],
   "source": [
    "nb_classes = 10"
   ]
  },
  {
   "cell_type": "code",
   "execution_count": 4,
   "metadata": {},
   "outputs": [
    {
     "name": "stdout",
     "output_type": "stream",
     "text": [
      "(60000, 784) (10000, 784)\n"
     ]
    }
   ],
   "source": [
    "# Reshape\n",
    "x_train = tf.reshape( x_train, [ -1, 784 ] )\n",
    "x_test = tf.reshape( x_test, [ -1, 784 ] )\n",
    "print( x_train.shape, x_test.shape )"
   ]
  },
  {
   "cell_type": "code",
   "execution_count": 5,
   "metadata": {},
   "outputs": [
    {
     "name": "stdout",
     "output_type": "stream",
     "text": [
      "(60000, 10) (10000, 10)\n"
     ]
    }
   ],
   "source": [
    "# one-hot Encoding\n",
    "y_train = tf.keras.utils.to_categorical( y_train, nb_classes )\n",
    "y_test = tf.keras.utils.to_categorical( y_test, nb_classes )\n",
    "\n",
    "# or\n",
    "# y_train = tf.one_hot( tf.cast( y_train, tf.int32 ), 10 )\n",
    "# y_train = tf.reshape( y_train, [ -1, 10 ] )\n",
    "# y_test = tf.reshape( tf.one_hot( y_test, 10 ), [ -1, 10 ] )\n",
    "\n",
    "print( y_train.shape, y_test.shape )"
   ]
  },
  {
   "cell_type": "code",
   "execution_count": 6,
   "metadata": {},
   "outputs": [],
   "source": [
    "learning_rate = 0.001\n",
    "batch_size = 100\n",
    "num_epochs = 50\n",
    "num_iterations = int( len( x_train ) / batch_size )"
   ]
  },
  {
   "cell_type": "code",
   "execution_count": 7,
   "metadata": {},
   "outputs": [],
   "source": [
    "W = tf.Variable( tf.random.normal( [ 784, nb_classes ] ) )\n",
    "b = tf.Variable( tf.random.normal( [ nb_classes ] ) )"
   ]
  },
  {
   "cell_type": "code",
   "execution_count": 8,
   "metadata": {},
   "outputs": [],
   "source": [
    "@tf.function\n",
    "def Hypothesis( X ):\n",
    "    return (  tf.matmul( X, W ) + b )\n",
    "\n",
    "@tf.function\n",
    "def Cost( X, Y ):\n",
    "    return ( tf.reduce_mean(\n",
    "        tf.nn.softmax_cross_entropy_with_logits(\n",
    "            logits = Hypothesis( X ), labels = tf.stop_gradient( Y ) )\n",
    "    ) )\n",
    "\n",
    "def Minimize( X, Y ):\n",
    "    loss = lambda: Cost( X ,Y )\n",
    "    \n",
    "    tf.keras.optimizers.Adam( learning_rate ).minimize( loss, [ W, b ] )"
   ]
  },
  {
   "cell_type": "code",
   "execution_count": 9,
   "metadata": {},
   "outputs": [],
   "source": [
    "def CorrectPrediction( X, Y ):\n",
    "    return ( tf.equal( tf.argmax( Hypothesis( X ), axis = 1 ),\n",
    "                      tf.argmax( Y, axis = 1 ) ) )\n",
    "\n",
    "def Accuracy( X, Y ):\n",
    "    return ( tf.reduce_mean( tf.cast( CorrectPrediction( X, Y ), tf.float32 ) ) )"
   ]
  },
  {
   "cell_type": "code",
   "execution_count": 10,
   "metadata": {
    "scrolled": false
   },
   "outputs": [
    {
     "name": "stdout",
     "output_type": "stream",
     "text": [
      "Epoch: 0001, Cost: 4.971765041\n",
      "Epoch: 0002, Cost: 1.494930267\n",
      "Epoch: 0003, Cost: 1.040169477\n",
      "Epoch: 0004, Cost: 0.886379123\n",
      "Epoch: 0005, Cost: 0.812619984\n",
      "Epoch: 0006, Cost: 0.769787967\n",
      "Epoch: 0007, Cost: 0.742399216\n",
      "Epoch: 0008, Cost: 0.723565519\n",
      "Epoch: 0009, Cost: 0.710103571\n",
      "Epoch: 0010, Cost: 0.700298548\n",
      "Epoch: 0011, Cost: 0.692836225\n",
      "Epoch: 0012, Cost: 0.687245727\n",
      "Epoch: 0013, Cost: 0.682766020\n",
      "Epoch: 0014, Cost: 0.679061174\n",
      "Epoch: 0015, Cost: 0.676144719\n",
      "Epoch: 0016, Cost: 0.673806012\n",
      "Epoch: 0017, Cost: 0.671688914\n",
      "Epoch: 0018, Cost: 0.669959843\n",
      "Epoch: 0019, Cost: 0.668563068\n",
      "Epoch: 0020, Cost: 0.667436481\n",
      "Epoch: 0021, Cost: 0.666700900\n",
      "Epoch: 0022, Cost: 0.666157663\n",
      "Epoch: 0023, Cost: 0.665712953\n",
      "Epoch: 0024, Cost: 0.665434897\n",
      "Epoch: 0025, Cost: 0.665210366\n",
      "Epoch: 0026, Cost: 0.665087998\n",
      "Epoch: 0027, Cost: 0.665006697\n",
      "Epoch: 0028, Cost: 0.664994001\n",
      "Epoch: 0029, Cost: 0.665089011\n",
      "Epoch: 0030, Cost: 0.665186226\n",
      "Epoch: 0031, Cost: 0.665223420\n",
      "Epoch: 0032, Cost: 0.665291786\n",
      "Epoch: 0033, Cost: 0.665392637\n",
      "Epoch: 0034, Cost: 0.665481925\n",
      "Epoch: 0035, Cost: 0.665563762\n",
      "Epoch: 0036, Cost: 0.665736198\n",
      "Epoch: 0037, Cost: 0.665931582\n",
      "Epoch: 0038, Cost: 0.666140258\n",
      "Epoch: 0039, Cost: 0.666379809\n",
      "Epoch: 0040, Cost: 0.666608214\n",
      "Epoch: 0041, Cost: 0.666885912\n",
      "Epoch: 0042, Cost: 0.667186022\n",
      "Epoch: 0043, Cost: 0.667517722\n",
      "Epoch: 0044, Cost: 0.667861342\n",
      "Epoch: 0045, Cost: 0.668236256\n",
      "Epoch: 0046, Cost: 0.668628573\n",
      "Epoch: 0047, Cost: 0.669026911\n",
      "Epoch: 0048, Cost: 0.669463933\n",
      "Epoch: 0049, Cost: 0.669928968\n",
      "Epoch: 0050, Cost: 0.670414448\n",
      "Learning finished\n"
     ]
    }
   ],
   "source": [
    "for epoch in range( num_epochs ):\n",
    "    avg_cost = 0\n",
    "    \n",
    "    start_batch, end_batch = 0, batch_size\n",
    "    for iteration in range( num_iterations ):\n",
    "        batch_xs, batch_ys = \\\n",
    "            x_train[ start_batch : end_batch ], y_train[start_batch : end_batch ]\n",
    "        \n",
    "        Minimize( batch_xs, batch_ys )\n",
    "        cost_val = Cost( batch_xs, batch_ys )\n",
    "        \n",
    "        avg_cost += cost_val / num_iterations\n",
    "        \n",
    "        start_batch = start_batch + batch_size\n",
    "        end_batch = end_batch + batch_size\n",
    "    \n",
    "    print( 'Epoch: {:04d}, Cost: {:.9f}'.format( epoch + 1, avg_cost ) )\n",
    "    \n",
    "print( 'Learning finished' )\n",
    "        \n",
    "    "
   ]
  },
  {
   "cell_type": "code",
   "execution_count": 11,
   "metadata": {},
   "outputs": [
    {
     "name": "stdout",
     "output_type": "stream",
     "text": [
      "Accuracy:  0.9159\r\n"
     ]
    }
   ],
   "source": [
    "tf.print( 'Accuracy: ', Accuracy( x_test, y_test ))"
   ]
  },
  {
   "cell_type": "code",
   "execution_count": 12,
   "metadata": {},
   "outputs": [
    {
     "name": "stdout",
     "output_type": "stream",
     "text": [
      "Label:  [1]\n",
      "Prediction:  [1]\n"
     ]
    }
   ],
   "source": [
    "r = random.randint( 0, len( x_test ) - 1 )\n",
    "tf.print( 'Label: ', tf.argmax( y_test[ r: r + 1 ], axis = 1 ) )\n",
    "tf.print( \n",
    "    'Prediction: ', tf.argmax(Hypothesis( x_test[ r: r + 1] ), axis = 1 ) )"
   ]
  },
  {
   "cell_type": "code",
   "execution_count": 13,
   "metadata": {},
   "outputs": [
    {
     "data": {
      "image/png": "[encoded data removed]",
      "text/plain": [
       "<Figure size 432x288 with 1 Axes>"
      ]
     },
     "metadata": {
      "needs_background": "light"
     },
     "output_type": "display_data"
    }
   ],
   "source": [
    "plt.imshow( \n",
    "    tf.reshape( x_test[ r: r + 1], [ 28, 28 ] ),\n",
    "    cmap = 'Greys',\n",
    "    interpolation = 'nearest'\n",
    ")\n",
    "plt.show()"
   ]
  }
 ],
 "metadata": {
  "kernelspec": {
   "display_name": "Python 3",
   "language": "python",
   "name": "python3"
  },
  "language_info": {
   "codemirror_mode": {
    "name": "ipython",
    "version": 3
   },
   "file_extension": ".py",
   "mimetype": "text/x-python",
   "name": "python",
   "nbconvert_exporter": "python",
   "pygments_lexer": "ipython3",
   "version": "3.7.4"
  }
 },
 "nbformat": 4,
 "nbformat_minor": 2
}
