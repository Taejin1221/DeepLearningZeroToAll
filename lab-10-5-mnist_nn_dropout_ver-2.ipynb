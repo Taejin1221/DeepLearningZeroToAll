{
 "cells": [
  {
   "cell_type": "code",
   "execution_count": 1,
   "metadata": {},
   "outputs": [],
   "source": [
    "import tensorflow as tf\n",
    "import random"
   ]
  },
  {
   "cell_type": "code",
   "execution_count": 2,
   "metadata": {},
   "outputs": [
    {
     "name": "stdout",
     "output_type": "stream",
     "text": [
      "(60000, 28, 28) (60000,)\n"
     ]
    }
   ],
   "source": [
    "mnist = tf.keras.datasets.mnist\n",
    "( x_train, y_train ), ( x_test, y_test ) = mnist.load_data()\n",
    "\n",
    "# Nomalization\n",
    "x_train, x_test = x_train / 255.0, x_test / 255.0\n",
    "x_train = tf.cast( x_train, tf.float32 )\n",
    "x_test = tf.cast( x_test, tf.float32 )\n",
    "\n",
    "print( x_train.shape, y_train.shape )"
   ]
  },
  {
   "cell_type": "code",
   "execution_count": 3,
   "metadata": {},
   "outputs": [],
   "source": [
    "nb_classes = 10"
   ]
  },
  {
   "cell_type": "code",
   "execution_count": 4,
   "metadata": {},
   "outputs": [
    {
     "name": "stdout",
     "output_type": "stream",
     "text": [
      "(60000, 784) (10000, 784)\n"
     ]
    }
   ],
   "source": [
    "# Reshape\n",
    "x_train = tf.reshape( x_train, [ -1, 784 ] )\n",
    "x_test = tf.reshape( x_test, [ -1, 784 ] )\n",
    "print( x_train.shape, x_test.shape )"
   ]
  },
  {
   "cell_type": "code",
   "execution_count": 5,
   "metadata": {},
   "outputs": [
    {
     "name": "stdout",
     "output_type": "stream",
     "text": [
      "(60000, 10) (10000, 10)\n"
     ]
    }
   ],
   "source": [
    "# one-hot Encoding\n",
    "y_train = tf.keras.utils.to_categorical( y_train, nb_classes )\n",
    "y_test = tf.keras.utils.to_categorical( y_test, nb_classes )\n",
    "\n",
    "print( y_train.shape, y_test.shape )"
   ]
  },
  {
   "cell_type": "code",
   "execution_count": 6,
   "metadata": {},
   "outputs": [],
   "source": [
    "learning_rate = 0.001\n",
    "training_epochs = 15\n",
    "batch_size = 100\n",
    "total_batch = int( len( x_train ) / batch_size )"
   ]
  },
  {
   "cell_type": "code",
   "execution_count": 7,
   "metadata": {},
   "outputs": [],
   "source": [
    "xavier = tf.keras.initializers.GlorotUniform()\n",
    "W1 = tf.Variable( xavier( [ 784, 512 ] ) )\n",
    "b1 = tf.Variable( tf.random.normal( [ 512 ] ) )\n",
    "def Layer1( X ):\n",
    "    return ( tf.nn.relu( tf.matmul( X, W1 ) + b1 ) )\n",
    "def Dropout1( X, rate ):\n",
    "    return ( tf.nn.dropout( Layer1( X ), rate ) )\n",
    "\n",
    "W2 = tf.Variable( xavier( [ 512, 512 ] ) )\n",
    "b2 = tf.Variable( tf.random.normal( [ 512 ] ) )\n",
    "def Layer2( X, rate ):\n",
    "    return ( tf.nn.relu( tf.matmul( Dropout1( X, rate ), W2 ) + b2 ) )\n",
    "def Dropout2( X, rate ):\n",
    "    return ( tf.nn.dropout( Layer2( X, rate ), rate ) )\n",
    "\n",
    "W3 = tf.Variable( xavier( [ 512, 512 ] ) )\n",
    "b3 = tf.Variable( tf.random.normal( [ 512 ] ) )\n",
    "def Layer3( X, rate ):\n",
    "    return ( tf.nn.relu( tf.matmul( Dropout2( X, rate ), W3 ) + b3 ) )\n",
    "def Dropout3( X, rate ):\n",
    "    return ( tf.nn.dropout( Layer3( X, rate ), rate ) )\n",
    "\n",
    "W4 = tf.Variable( xavier( [ 512, 512 ] ) )\n",
    "b4 = tf.Variable( tf.random.normal( [ 512 ] ) )\n",
    "def Layer4( X, rate ):\n",
    "    return ( tf.nn.relu( tf.matmul( Dropout3( X, rate ), W4 ) + b4 ) )\n",
    "def Dropout4( X, rate ):\n",
    "    return ( tf.nn.dropout( Layer4( X, rate ), rate ) )\n",
    "\n",
    "W5 = tf.Variable( xavier( [ 512, nb_classes ] ) )\n",
    "b5 = tf.Variable( tf.random.normal( [ nb_classes ] ) )\n",
    "\n",
    "@tf.function\n",
    "def Hypothesis( X, rate ):\n",
    "    return (  tf.matmul( Dropout4( X, rate ), W5 ) + b5 )"
   ]
  },
  {
   "cell_type": "code",
   "execution_count": 8,
   "metadata": {},
   "outputs": [],
   "source": [
    "@tf.function\n",
    "def Cost( X, Y, rate ):\n",
    "    return ( tf.reduce_mean(\n",
    "        tf.nn.softmax_cross_entropy_with_logits(\n",
    "            logits = Hypothesis( X, rate ), labels = Y )\n",
    "    ) )\n",
    "\n",
    "def Minimize( X, Y, rate ):\n",
    "    loss = lambda: Cost( X ,Y, rate )\n",
    "    \n",
    "    tf.keras.optimizers.Adam( learning_rate ).minimize( loss, [ W1, W2, W3, W4, W5,\n",
    "                                                               b1, b2, b3, b4, b5 ] )"
   ]
  },
  {
   "cell_type": "code",
   "execution_count": 9,
   "metadata": {},
   "outputs": [],
   "source": [
    "def CorrectPrediction( X, Y, rate ):\n",
    "    return ( tf.equal( tf.argmax( Hypothesis( X, rate ), axis = 1 ),\n",
    "                      tf.argmax( Y, axis = 1 ) ) )\n",
    "\n",
    "def Accuracy( X, Y, rate ):\n",
    "    return ( tf.reduce_mean( tf.cast( CorrectPrediction( X, Y, rate ), tf.float32 ) ) )"
   ]
  },
  {
   "cell_type": "code",
   "execution_count": 10,
   "metadata": {
    "scrolled": false
   },
   "outputs": [
    {
     "name": "stdout",
     "output_type": "stream",
     "text": [
      "Epoch: 0001, Cost: 0.513381422\n",
      "Epoch: 0002, Cost: 0.636638761\n",
      "Epoch: 0003, Cost: 0.644196630\n",
      "Epoch: 0004, Cost: 0.538972676\n",
      "Epoch: 0005, Cost: 0.509360254\n",
      "Epoch: 0006, Cost: 0.447476506\n",
      "Epoch: 0007, Cost: 0.403946608\n",
      "Epoch: 0008, Cost: 0.355715424\n",
      "Epoch: 0009, Cost: 0.329701751\n",
      "Epoch: 0010, Cost: 0.272371858\n",
      "Epoch: 0011, Cost: 0.260264277\n",
      "Epoch: 0012, Cost: 0.227569073\n",
      "Epoch: 0013, Cost: 0.218906552\n",
      "Epoch: 0014, Cost: 0.223903701\n",
      "Epoch: 0015, Cost: 0.206756756\n",
      "Learning finished\n"
     ]
    }
   ],
   "source": [
    "for epoch in range( training_epochs ):\n",
    "    avg_cost = 0\n",
    "    \n",
    "    start_batch, end_batch = 0, batch_size\n",
    "    for i in range( total_batch ):\n",
    "        batch_xs, batch_ys = \\\n",
    "            x_train[ start_batch : end_batch ], y_train[start_batch : end_batch ]\n",
    "        \n",
    "        Minimize( batch_xs, batch_ys, 0.3 )\n",
    "        cost_val = Cost( batch_xs, batch_ys, 0.3 )\n",
    "        \n",
    "        avg_cost += cost_val / total_batch\n",
    "        \n",
    "        start_batch = start_batch + batch_size\n",
    "        end_batch = end_batch + batch_size\n",
    "    \n",
    "    print( 'Epoch: {:04d}, Cost: {:.9f}'.format( epoch + 1, avg_cost ) )\n",
    "    \n",
    "print( 'Learning finished' )    "
   ]
  },
  {
   "cell_type": "code",
   "execution_count": 11,
   "metadata": {},
   "outputs": [
    {
     "name": "stdout",
     "output_type": "stream",
     "text": [
      "Accuracy:  0.9781\r\n"
     ]
    }
   ],
   "source": [
    "tf.print( 'Accuracy: ', Accuracy( x_test, y_test, 0 ))"
   ]
  },
  {
   "cell_type": "code",
   "execution_count": 14,
   "metadata": {},
   "outputs": [
    {
     "name": "stdout",
     "output_type": "stream",
     "text": [
      "Label:  [2]\n",
      "Prediction:  [2]\n"
     ]
    }
   ],
   "source": [
    "r = random.randint( 0, len( x_test ) - 1 )\n",
    "tf.print( 'Label: ', tf.argmax( y_test[ r: r + 1 ], axis = 1 ) )\n",
    "tf.print( \n",
    "    'Prediction: ', tf.argmax( Hypothesis( x_test[ r: r + 1], 0 ), axis = 1 ) )"
   ]
  }
 ],
 "metadata": {
  "kernelspec": {
   "display_name": "Python 3",
   "language": "python",
   "name": "python3"
  },
  "language_info": {
   "codemirror_mode": {
    "name": "ipython",
    "version": 3
   },
   "file_extension": ".py",
   "mimetype": "text/x-python",
   "name": "python",
   "nbconvert_exporter": "python",
   "pygments_lexer": "ipython3",
   "version": "3.7.4"
  }
 },
 "nbformat": 4,
 "nbformat_minor": 2
}
