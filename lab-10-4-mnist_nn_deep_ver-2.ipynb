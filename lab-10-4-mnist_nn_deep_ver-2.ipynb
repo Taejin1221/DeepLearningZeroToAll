{
 "cells": [
  {
   "cell_type": "code",
   "execution_count": 1,
   "metadata": {},
   "outputs": [],
   "source": [
    "import tensorflow as tf\n",
    "import random"
   ]
  },
  {
   "cell_type": "code",
   "execution_count": 2,
   "metadata": {},
   "outputs": [
    {
     "name": "stdout",
     "output_type": "stream",
     "text": [
      "(60000, 28, 28) (60000,)\n"
     ]
    }
   ],
   "source": [
    "mnist = tf.keras.datasets.mnist\n",
    "( x_train, y_train ), ( x_test, y_test ) = mnist.load_data()\n",
    "\n",
    "# Nomalization\n",
    "x_train, x_test = x_train / 255.0, x_test / 255.0\n",
    "x_train = tf.cast( x_train, tf.float32 )\n",
    "x_test = tf.cast( x_test, tf.float32 )\n",
    "\n",
    "print( x_train.shape, y_train.shape )"
   ]
  },
  {
   "cell_type": "code",
   "execution_count": 3,
   "metadata": {},
   "outputs": [],
   "source": [
    "nb_classes = 10"
   ]
  },
  {
   "cell_type": "code",
   "execution_count": 4,
   "metadata": {},
   "outputs": [
    {
     "name": "stdout",
     "output_type": "stream",
     "text": [
      "(60000, 784) (10000, 784)\n"
     ]
    }
   ],
   "source": [
    "# Reshape\n",
    "x_train = tf.reshape( x_train, [ -1, 784 ] )\n",
    "x_test = tf.reshape( x_test, [ -1, 784 ] )\n",
    "print( x_train.shape, x_test.shape )"
   ]
  },
  {
   "cell_type": "code",
   "execution_count": 5,
   "metadata": {},
   "outputs": [
    {
     "name": "stdout",
     "output_type": "stream",
     "text": [
      "(60000, 10) (10000, 10)\n"
     ]
    }
   ],
   "source": [
    "# one-hot Encoding\n",
    "y_train = tf.keras.utils.to_categorical( y_train, nb_classes )\n",
    "y_test = tf.keras.utils.to_categorical( y_test, nb_classes )\n",
    "\n",
    "print( y_train.shape, y_test.shape )"
   ]
  },
  {
   "cell_type": "code",
   "execution_count": 6,
   "metadata": {},
   "outputs": [],
   "source": [
    "learning_rate = 0.001\n",
    "training_epochs = 15\n",
    "batch_size = 100"
   ]
  },
  {
   "cell_type": "code",
   "execution_count": 7,
   "metadata": {},
   "outputs": [],
   "source": [
    "xavier = tf.keras.initializers.GlorotUniform()\n",
    "W1 = tf.Variable( xavier( [ 784, 512 ] ) )\n",
    "b1 = tf.Variable( tf.random.normal( [ 512 ] ) )\n",
    "def Layer1( X ):\n",
    "    return ( tf.nn.relu( tf.matmul( X, W1 ) + b1 ) )\n",
    "\n",
    "W2 = tf.Variable( xavier( [ 512, 512 ] ) )\n",
    "b2 = tf.Variable( tf.random.normal( [ 512 ] ) )\n",
    "def Layer2( X ):\n",
    "    return ( tf.nn.relu( tf.matmul( Layer1( X ), W2 ) + b2 ) )\n",
    "\n",
    "W3 = tf.Variable( xavier( [ 512, 512 ] ) )\n",
    "b3 = tf.Variable( tf.random.normal( [ 512 ] ) )\n",
    "def Layer3( X ):\n",
    "    return ( tf.nn.relu( tf.matmul( Layer2( X ), W3 ) + b3 ) )\n",
    "\n",
    "W4 = tf.Variable( xavier( [ 512, 512 ] ) )\n",
    "b4 = tf.Variable( tf.random.normal( [ 512 ] ) )\n",
    "def Layer4( X ):\n",
    "    return ( tf.nn.relu( tf.matmul( Layer3( X ), W4 ) + b4 ) )\n",
    "\n",
    "W5 = tf.Variable( xavier( [ 512, nb_classes ] ) )\n",
    "b5 = tf.Variable( tf.random.normal( [ nb_classes ] ) )\n",
    "\n",
    "@tf.function\n",
    "def Hypothesis( X ):\n",
    "    return (  tf.matmul( Layer4( X ), W5 ) + b5 )"
   ]
  },
  {
   "cell_type": "code",
   "execution_count": 8,
   "metadata": {},
   "outputs": [],
   "source": [
    "@tf.function\n",
    "def Cost( X, Y ):\n",
    "    return ( tf.reduce_mean(\n",
    "        tf.nn.softmax_cross_entropy_with_logits(\n",
    "            logits = Hypothesis( X ), labels = Y )\n",
    "    ) )\n",
    "\n",
    "def Minimize( X, Y ):\n",
    "    loss = lambda: Cost( X ,Y )\n",
    "    \n",
    "    tf.keras.optimizers.Adam( learning_rate ).minimize( loss, [ W1, W2, W3, W4, W5,\n",
    "                                                               b1, b2, b3, b4, b5 ] )"
   ]
  },
  {
   "cell_type": "code",
   "execution_count": 9,
   "metadata": {},
   "outputs": [],
   "source": [
    "def CorrectPrediction( X, Y ):\n",
    "    return ( tf.equal( tf.argmax( Hypothesis( X ), axis = 1 ),\n",
    "                      tf.argmax( Y, axis = 1 ) ) )\n",
    "\n",
    "def Accuracy( X, Y ):\n",
    "    return ( tf.reduce_mean( tf.cast( CorrectPrediction( X, Y ), tf.float32 ) ) )"
   ]
  },
  {
   "cell_type": "code",
   "execution_count": 10,
   "metadata": {
    "scrolled": false
   },
   "outputs": [
    {
     "name": "stdout",
     "output_type": "stream",
     "text": [
      "Epoch: 0001, Cost: 0.399486929\n",
      "Epoch: 0002, Cost: 0.243531823\n",
      "Epoch: 0003, Cost: 0.106234506\n",
      "Epoch: 0004, Cost: 0.071614519\n",
      "Epoch: 0005, Cost: 0.047530562\n",
      "Epoch: 0006, Cost: 0.038594950\n",
      "Epoch: 0007, Cost: 0.030863831\n",
      "Epoch: 0008, Cost: 0.028324831\n",
      "Epoch: 0009, Cost: 0.024764160\n",
      "Epoch: 0010, Cost: 0.015634175\n",
      "Epoch: 0011, Cost: 0.016665097\n",
      "Epoch: 0012, Cost: 0.013412203\n",
      "Epoch: 0013, Cost: 0.011950971\n",
      "Epoch: 0014, Cost: 0.010452059\n",
      "Epoch: 0015, Cost: 0.011448454\n",
      "Learning finished\n"
     ]
    }
   ],
   "source": [
    "for epoch in range( training_epochs ):\n",
    "    avg_cost = 0\n",
    "    total_batch = int( len( x_train ) / batch_size )\n",
    "    \n",
    "    start_batch, end_batch = 0, batch_size\n",
    "    for i in range( total_batch ):\n",
    "        batch_xs, batch_ys = \\\n",
    "            x_train[ start_batch : end_batch ], y_train[start_batch : end_batch ]\n",
    "        \n",
    "        Minimize( batch_xs, batch_ys )\n",
    "        cost_val = Cost( batch_xs, batch_ys )\n",
    "        \n",
    "        avg_cost += cost_val / total_batch\n",
    "        \n",
    "        start_batch = start_batch + batch_size\n",
    "        end_batch = end_batch + batch_size\n",
    "    \n",
    "    print( 'Epoch: {:04d}, Cost: {:.9f}'.format( epoch + 1, avg_cost ) )\n",
    "    \n",
    "print( 'Learning finished' )\n",
    "        \n",
    "    "
   ]
  },
  {
   "cell_type": "code",
   "execution_count": 11,
   "metadata": {},
   "outputs": [
    {
     "name": "stdout",
     "output_type": "stream",
     "text": [
      "Accuracy:  0.9722\r\n"
     ]
    }
   ],
   "source": [
    "tf.print( 'Accuracy: ', Accuracy( x_test, y_test ))"
   ]
  },
  {
   "cell_type": "code",
   "execution_count": 12,
   "metadata": {},
   "outputs": [
    {
     "name": "stdout",
     "output_type": "stream",
     "text": [
      "Label:  [0]\n",
      "Prediction:  [0]\n"
     ]
    }
   ],
   "source": [
    "r = random.randint( 0, len( x_test ) - 1 )\n",
    "tf.print( 'Label: ', tf.argmax( y_test[ r: r + 1 ], axis = 1 ) )\n",
    "tf.print( \n",
    "    'Prediction: ', tf.argmax(Hypothesis( x_test[ r: r + 1] ), axis = 1 ) )"
   ]
  }
 ],
 "metadata": {
  "kernelspec": {
   "display_name": "Python 3",
   "language": "python",
   "name": "python3"
  },
  "language_info": {
   "codemirror_mode": {
    "name": "ipython",
    "version": 3
   },
   "file_extension": ".py",
   "mimetype": "text/x-python",
   "name": "python",
   "nbconvert_exporter": "python",
   "pygments_lexer": "ipython3",
   "version": "3.7.4"
  }
 },
 "nbformat": 4,
 "nbformat_minor": 2
}
