{
 "cells": [
  {
   "cell_type": "code",
   "execution_count": 1,
   "metadata": {},
   "outputs": [],
   "source": [
    "import tensorflow as tf\n",
    "import numpy as np"
   ]
  },
  {
   "cell_type": "code",
   "execution_count": 2,
   "metadata": {},
   "outputs": [],
   "source": [
    "learning_rate = 0.1"
   ]
  },
  {
   "cell_type": "code",
   "execution_count": 3,
   "metadata": {},
   "outputs": [],
   "source": [
    "x_data = np.array( [\n",
    "    [ 0, 0 ],\n",
    "    [ 0, 1 ],\n",
    "    [ 1, 0 ],\n",
    "    [ 1, 1 ],\n",
    "], dtype = np.float32 )\n",
    "\n",
    "y_data = np.array( [\n",
    "    [ 0 ],\n",
    "    [ 1 ],\n",
    "    [ 1 ],\n",
    "    [ 0 ]\n",
    "], dtype = np.float32 )"
   ]
  },
  {
   "cell_type": "code",
   "execution_count": 4,
   "metadata": {},
   "outputs": [],
   "source": [
    "W1 = tf.Variable( tf.random.normal( [ 2, 2 ] ), name = 'weight1' )\n",
    "b1 = tf.Variable( tf.random.normal( [ 2 ] ), name = 'bias' )\n",
    "l1 = lambda X: ( tf.math.sigmoid( tf.matmul( X, W1 ) + b1 ) )\n",
    "\n",
    "W2 = tf.Variable( tf.random.normal( [ 2, 1 ] ), name = 'weight2' )\n",
    "b2 = tf.Variable( tf.random.normal( [ 1 ] ), name = 'bias2' )\n",
    "Y_pred = lambda X: ( tf.math.sigmoid( tf.matmul( l1( X ), W2 ) + b2 ) )"
   ]
  },
  {
   "cell_type": "code",
   "execution_count": 5,
   "metadata": {},
   "outputs": [],
   "source": [
    "def Cost( X, Y ):\n",
    "    y_pred = Y_pred( X )\n",
    "    \n",
    "    return ( -tf.reduce_mean( Y * tf.math.log( y_pred) + ( 1. - Y) *\n",
    "                            tf.math.log( 1. - y_pred ) ) )"
   ]
  },
  {
   "cell_type": "code",
   "execution_count": 6,
   "metadata": {},
   "outputs": [],
   "source": [
    "def d_Y_pred( X, Y ):\n",
    "    y_pred = Y_pred( X )\n",
    "    return ( y_pred - Y) / (y_pred * (1.0 - y_pred) + 1e-7)\n",
    "\n",
    "d_sigma2 = lambda X: Y_pred( X ) * (1 - Y_pred( X ) )\n",
    "d_a2 = lambda X, Y: d_Y_pred( X, Y ) * d_sigma2( X )\n",
    "d_p2 = lambda X, Y: d_a2( X, Y )\n",
    "d_b2 = lambda X, Y: d_a2( X, Y )\n",
    "d_W2 = lambda X, Y: tf.matmul( tf.transpose( l1( X ) ), d_p2( X, Y ) )\n",
    "\n",
    "d_b2_mean = lambda X, Y: tf.reduce_mean( d_b2( X, Y ), axis = [ 0 ] )\n",
    "d_W2_mean = lambda X, Y: d_W2( X, Y ) / tf.cast( tf.shape( l1( X ) )[ 0 ],\n",
    "                                                dtype = tf.float32)\n",
    "\n",
    "d_l1 = lambda X, Y: tf.matmul( d_p2( X, Y ), tf.transpose( W2 ) )\n",
    "d_sigma1 = lambda X: l1( X ) * (1 - l1( X ) )\n",
    "d_a1 = lambda X, Y: d_l1( X, Y ) * d_sigma1( X )\n",
    "d_b1 = lambda X, Y: d_a1( X, Y )\n",
    "d_p1 = lambda X, Y: d_a1( X, Y )\n",
    "d_W1 = lambda X, Y: tf.matmul( tf.transpose( X ), d_a1( X, Y ) )\n",
    "\n",
    "d_W1_mean = lambda X, Y: d_W1( X, Y ) / tf.cast( tf.shape( X )[ 0 ],\n",
    "                                                dtype = tf.float32 )\n",
    "d_b1_mean = lambda X, Y: tf.reduce_mean( d_b1( X, Y ), axis = [ 0 ] )"
   ]
  },
  {
   "cell_type": "code",
   "execution_count": 7,
   "metadata": {},
   "outputs": [],
   "source": [
    "def Step( X, Y ):\n",
    "    return ( [\n",
    "    W2.assign( W2 - learning_rate * d_W2_mean( X, Y ) ),\n",
    "    b2.assign( b2 - learning_rate * d_b2_mean( X, Y ) ),\n",
    "    W1.assign( W1 - learning_rate * d_W1_mean( X, Y ) ),\n",
    "    b1.assign( b1 - learning_rate * d_b1_mean( X, Y ) )\n",
    "] )\n",
    "\n",
    "predicted = lambda X: tf.cast( Y_pred( X ) > 0.5, dtype = tf.float32 )\n",
    "accuracy = lambda X, Y: tf.reduce_mean( tf.cast( tf.equal( predicted( X ), Y ),\n",
    "                                               dtype = tf.float32 ) )"
   ]
  },
  {
   "cell_type": "code",
   "execution_count": 8,
   "metadata": {},
   "outputs": [
    {
     "name": "stdout",
     "output_type": "stream",
     "text": [
      "shape:  tf.Tensor(4, shape=(), dtype=int32)\n",
      "0 1.29891086 [[-0.112265483 0.229306221]\n",
      " [-0.155986741 0.102845639]] [[-1.42160964 -0.863124669]\n",
      " [-0.797892332 -1.92852497]] [[0.871810079]\n",
      " [-1.46809757]]\n",
      "1000 0.514564872 [[0.0327383131 0.0845496729]\n",
      " [0.0530274659 0.0714549422]] [[-1.12723076 -3.16769791]\n",
      " [-0.888684034 -3.25292754]] [[1.98727584]\n",
      " [-3.58789968]]\n",
      "2000 0.229348242 [[0.0574156344 0.0389345251]\n",
      " [0.058300525 0.0388754942]] [[-2.48450971 -4.67995691]\n",
      " [-2.47961617 -4.6781826]] [[4.47816]\n",
      " [-5.93455553]]\n",
      "3000 0.0925777 [[0.0272065774 0.0178905595]\n",
      " [0.0272213146 0.017912792]] [[-3.49942923 -5.34190416]\n",
      " [-3.49910879 -5.34059954]] [[6.47233725]\n",
      " [-7.44846392]]\n",
      "4000 0.0522871166 [[0.0152419619 0.0105930669]\n",
      " [0.0152442604 0.0106031289]] [[-4.00631618 -5.68421602]\n",
      " [-4.00614882 -5.68328524]] [[7.59995127]\n",
      " [-8.37756252]]\n",
      "5000 0.0354705341 [[0.0101134107 0.00730945729]\n",
      " [0.0101144165 0.00731512159]] [[-4.31553698 -5.90342379]\n",
      " [-4.31540442 -5.90267754]] [[8.3413105]\n",
      " [-9.02240276]]\n",
      "6000 0.0265635177 [[0.00741447136 0.00550590036]\n",
      " [0.00741506927 0.00550953811]] [[-4.53147173 -6.06165886]\n",
      " [-4.53136 -6.06102705]] [[8.88608646]\n",
      " [-9.51140404]]\n",
      "7000 0.0211252272 [[0.0057868287 0.00438304292]\n",
      " [0.00578729715 0.00438558543]] [[-4.69494247 -6.18427896]\n",
      " [-4.69484234 -6.18372488]] [[9.31454372]\n",
      " [-9.90378666]]\n",
      "8000 0.0174852796 [[0.00471183565 0.0036231142]\n",
      " [0.00471223053 0.00362499221]] [[-4.82532024 -6.2837925]\n",
      " [-4.82523 -6.28329468]] [[9.6667757]\n",
      " [-10.2308521]]\n",
      "9000 0.0148888361 [[0.00395468902 0.00307753566]\n",
      " [0.00395491719 0.0030790132]] [[-4.9331336 -6.36720228]\n",
      " [-4.93305254 -6.36674786]] [[9.96543217]\n",
      " [-10.5109797]]\n",
      "10000 0.0129484013 [[0.00339542888 0.00266834139]\n",
      " [0.00339562166 0.00266952836]] [[-5.02467203 -6.43879414]\n",
      " [-5.02459717 -6.43837309]] [[10.224453]\n",
      " [-10.755806]]\n"
     ]
    }
   ],
   "source": [
    "X = x_data\n",
    "Y = y_data\n",
    "\n",
    "print( 'shape: ', tf.shape( X )[0] )\n",
    "for i in range( 10001 ):\n",
    "    Step( X, Y )\n",
    "    if i % 1000 == 0:\n",
    "        tf.print(i,\n",
    "                Cost( X, Y ), d_W1( X, Y ), W1, W2 )"
   ]
  },
  {
   "cell_type": "code",
   "execution_count": 9,
   "metadata": {},
   "outputs": [
    {
     "name": "stdout",
     "output_type": "stream",
     "text": [
      "\n",
      "Hypothesis:  [[0.0104005076]\n",
      " [0.988399744]\n",
      " [0.988400221]\n",
      " [0.0178418942]] \n",
      "Correct:  [[0]\n",
      " [1]\n",
      " [1]\n",
      " [0]] \n",
      "Accuracy:  1\r\n"
     ]
    }
   ],
   "source": [
    "h, c, a = Y_pred( X ), predicted( X ), accuracy( X, Y )\n",
    "tf.print( '\\nHypothesis: ', h, '\\nCorrect: ', c, '\\nAccuracy: ', a )"
   ]
  }
 ],
 "metadata": {
  "kernelspec": {
   "display_name": "Python 3",
   "language": "python",
   "name": "python3"
  },
  "language_info": {
   "codemirror_mode": {
    "name": "ipython",
    "version": 3
   },
   "file_extension": ".py",
   "mimetype": "text/x-python",
   "name": "python",
   "nbconvert_exporter": "python",
   "pygments_lexer": "ipython3",
   "version": "3.7.4"
  }
 },
 "nbformat": 4,
 "nbformat_minor": 2
}
