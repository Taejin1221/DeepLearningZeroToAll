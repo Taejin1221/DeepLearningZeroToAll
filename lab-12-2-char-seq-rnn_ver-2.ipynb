{
 "cells": [
  {
   "cell_type": "code",
   "execution_count": 1,
   "metadata": {},
   "outputs": [],
   "source": [
    "import tensorflow as tf\n",
    "from tensorflow.keras import layers\n",
    "import numpy as np"
   ]
  },
  {
   "cell_type": "code",
   "execution_count": 2,
   "metadata": {},
   "outputs": [],
   "source": [
    "sample = ' if you want you'\n",
    "idx2char = list( set( sample ) )\n",
    "char2idx = { c: i for i, c in enumerate( idx2char ) }\n",
    "\n",
    "sample_idx = [ char2idx[ c ] for c in sample ]\n",
    "x_data = [ sample_idx[ : -1 ] ]\n",
    "y_data = [ sample_idx[ 1 : ] ]"
   ]
  },
  {
   "cell_type": "code",
   "execution_count": 3,
   "metadata": {},
   "outputs": [],
   "source": [
    "dic_size = len( char2idx )\n",
    "num_classes = len( char2idx )\n",
    "hidden_size = len( char2idx )\n",
    "input_dim = len( char2idx )\n",
    "batch_size = 1\n",
    "sequence_length = len( sample ) - 1\n",
    "learning_rate = 0.1"
   ]
  },
  {
   "cell_type": "code",
   "execution_count": 4,
   "metadata": {},
   "outputs": [],
   "source": [
    "x_one_hot = tf.keras.utils.to_categorical( x_data, num_classes )\n",
    "y_one_hot = tf.keras.utils.to_categorical( y_data, num_classes )"
   ]
  },
  {
   "cell_type": "code",
   "execution_count": 5,
   "metadata": {},
   "outputs": [],
   "source": [
    "model = tf.keras.Sequential()"
   ]
  },
  {
   "cell_type": "code",
   "execution_count": 6,
   "metadata": {},
   "outputs": [],
   "source": [
    "cell = layers.LSTMCell( hidden_size,\n",
    "                      input_shape = [ sequence_length, input_dim ] )\n",
    "model.add( layers.RNN( cell, return_sequences = True ) )"
   ]
  },
  {
   "cell_type": "code",
   "execution_count": 7,
   "metadata": {
    "scrolled": false
   },
   "outputs": [],
   "source": [
    "# model.add( layers.Dense( num_classes, 'softmax' ) )\n",
    "fc_layer = layers.Dense( units = num_classes, activation = 'softmax' )\n",
    "model.add( layers.TimeDistributed( fc_layer ) )"
   ]
  },
  {
   "cell_type": "code",
   "execution_count": 8,
   "metadata": {
    "scrolled": true
   },
   "outputs": [
    {
     "name": "stdout",
     "output_type": "stream",
     "text": [
      "Train on 1 samples\n",
      "Epoch 1/50\n",
      "1/1 [==============================] - 1s 735ms/sample - loss: 2.3237 - accuracy: 0.0000e+00\n",
      "Epoch 2/50\n",
      "1/1 [==============================] - 0s 11ms/sample - loss: 2.1866 - accuracy: 0.2667\n",
      "Epoch 3/50\n",
      "1/1 [==============================] - 0s 10ms/sample - loss: 2.0448 - accuracy: 0.4667\n",
      "Epoch 4/50\n",
      "1/1 [==============================] - 0s 9ms/sample - loss: 1.9097 - accuracy: 0.4667\n",
      "Epoch 5/50\n",
      "1/1 [==============================] - 0s 10ms/sample - loss: 1.6962 - accuracy: 0.6000\n",
      "Epoch 6/50\n",
      "1/1 [==============================] - 0s 11ms/sample - loss: 1.4211 - accuracy: 0.6000\n",
      "Epoch 7/50\n",
      "1/1 [==============================] - 0s 9ms/sample - loss: 1.1375 - accuracy: 0.8667\n",
      "Epoch 8/50\n",
      "1/1 [==============================] - 0s 9ms/sample - loss: 0.8745 - accuracy: 0.8667\n",
      "Epoch 9/50\n",
      "1/1 [==============================] - 0s 9ms/sample - loss: 0.6400 - accuracy: 0.9333\n",
      "Epoch 10/50\n",
      "1/1 [==============================] - 0s 9ms/sample - loss: 0.4512 - accuracy: 0.9333\n",
      "Epoch 11/50\n",
      "1/1 [==============================] - 0s 8ms/sample - loss: 0.3126 - accuracy: 0.9333\n",
      "Epoch 12/50\n",
      "1/1 [==============================] - 0s 9ms/sample - loss: 0.2140 - accuracy: 1.0000\n",
      "Epoch 13/50\n",
      "1/1 [==============================] - 0s 10ms/sample - loss: 0.1434 - accuracy: 1.0000\n",
      "Epoch 14/50\n",
      "1/1 [==============================] - 0s 9ms/sample - loss: 0.0936 - accuracy: 1.0000\n",
      "Epoch 15/50\n",
      "1/1 [==============================] - 0s 10ms/sample - loss: 0.0607 - accuracy: 1.0000\n",
      "Epoch 16/50\n",
      "1/1 [==============================] - 0s 11ms/sample - loss: 0.0400 - accuracy: 1.0000\n",
      "Epoch 17/50\n",
      "1/1 [==============================] - 0s 10ms/sample - loss: 0.0272 - accuracy: 1.0000\n",
      "Epoch 18/50\n",
      "1/1 [==============================] - 0s 10ms/sample - loss: 0.0192 - accuracy: 1.0000\n",
      "Epoch 19/50\n",
      "1/1 [==============================] - 0s 9ms/sample - loss: 0.0141 - accuracy: 1.0000\n",
      "Epoch 20/50\n",
      "1/1 [==============================] - 0s 10ms/sample - loss: 0.0105 - accuracy: 1.0000\n",
      "Epoch 21/50\n",
      "1/1 [==============================] - 0s 10ms/sample - loss: 0.0081 - accuracy: 1.0000\n",
      "Epoch 22/50\n",
      "1/1 [==============================] - 0s 10ms/sample - loss: 0.0064 - accuracy: 1.0000\n",
      "Epoch 23/50\n",
      "1/1 [==============================] - 0s 10ms/sample - loss: 0.0052 - accuracy: 1.0000\n",
      "Epoch 24/50\n",
      "1/1 [==============================] - 0s 11ms/sample - loss: 0.0043 - accuracy: 1.0000\n",
      "Epoch 25/50\n",
      "1/1 [==============================] - 0s 9ms/sample - loss: 0.0036 - accuracy: 1.0000\n",
      "Epoch 26/50\n",
      "1/1 [==============================] - 0s 9ms/sample - loss: 0.0031 - accuracy: 1.0000\n",
      "Epoch 27/50\n",
      "1/1 [==============================] - 0s 10ms/sample - loss: 0.0027 - accuracy: 1.0000\n",
      "Epoch 28/50\n",
      "1/1 [==============================] - 0s 9ms/sample - loss: 0.0023 - accuracy: 1.0000\n",
      "Epoch 29/50\n",
      "1/1 [==============================] - 0s 10ms/sample - loss: 0.0021 - accuracy: 1.0000\n",
      "Epoch 30/50\n",
      "1/1 [==============================] - 0s 11ms/sample - loss: 0.0018 - accuracy: 1.0000\n",
      "Epoch 31/50\n",
      "1/1 [==============================] - 0s 11ms/sample - loss: 0.0017 - accuracy: 1.0000\n",
      "Epoch 32/50\n",
      "1/1 [==============================] - 0s 12ms/sample - loss: 0.0015 - accuracy: 1.0000\n",
      "Epoch 33/50\n",
      "1/1 [==============================] - 0s 9ms/sample - loss: 0.0014 - accuracy: 1.0000\n",
      "Epoch 34/50\n",
      "1/1 [==============================] - 0s 11ms/sample - loss: 0.0013 - accuracy: 1.0000\n",
      "Epoch 35/50\n",
      "1/1 [==============================] - 0s 10ms/sample - loss: 0.0012 - accuracy: 1.0000\n",
      "Epoch 36/50\n",
      "1/1 [==============================] - 0s 9ms/sample - loss: 0.0011 - accuracy: 1.0000\n",
      "Epoch 37/50\n",
      "1/1 [==============================] - 0s 10ms/sample - loss: 0.0010 - accuracy: 1.0000\n",
      "Epoch 38/50\n",
      "1/1 [==============================] - 0s 11ms/sample - loss: 9.6701e-04 - accuracy: 1.0000\n",
      "Epoch 39/50\n",
      "1/1 [==============================] - 0s 12ms/sample - loss: 9.1292e-04 - accuracy: 1.0000\n",
      "Epoch 40/50\n",
      "1/1 [==============================] - 0s 11ms/sample - loss: 8.6522e-04 - accuracy: 1.0000\n",
      "Epoch 41/50\n",
      "1/1 [==============================] - 0s 11ms/sample - loss: 8.2287e-04 - accuracy: 1.0000\n",
      "Epoch 42/50\n",
      "1/1 [==============================] - 0s 9ms/sample - loss: 7.8522e-04 - accuracy: 1.0000\n",
      "Epoch 43/50\n",
      "1/1 [==============================] - 0s 11ms/sample - loss: 7.5150e-04 - accuracy: 1.0000\n",
      "Epoch 44/50\n",
      "1/1 [==============================] - 0s 9ms/sample - loss: 7.2130e-04 - accuracy: 1.0000\n",
      "Epoch 45/50\n",
      "1/1 [==============================] - 0s 9ms/sample - loss: 6.9408e-04 - accuracy: 1.0000\n",
      "Epoch 46/50\n",
      "1/1 [==============================] - 0s 11ms/sample - loss: 6.6953e-04 - accuracy: 1.0000\n",
      "Epoch 47/50\n",
      "1/1 [==============================] - 0s 9ms/sample - loss: 6.4729e-04 - accuracy: 1.0000\n",
      "Epoch 48/50\n",
      "1/1 [==============================] - 0s 10ms/sample - loss: 6.2711e-04 - accuracy: 1.0000\n",
      "Epoch 49/50\n",
      "1/1 [==============================] - 0s 10ms/sample - loss: 6.0876e-04 - accuracy: 1.0000\n",
      "Epoch 50/50\n",
      "1/1 [==============================] - 0s 10ms/sample - loss: 5.9202e-04 - accuracy: 1.0000\n"
     ]
    },
    {
     "data": {
      "text/plain": [
       "<tensorflow.python.keras.callbacks.History at 0x290ce33e788>"
      ]
     },
     "execution_count": 8,
     "metadata": {},
     "output_type": "execute_result"
    }
   ],
   "source": [
    "optimizer = tf.keras.optimizers.Adam( learning_rate )\n",
    "model.compile( optimizer, 'categorical_crossentropy', [ 'accuracy' ] )\n",
    "\n",
    "model.fit( x_one_hot, y_one_hot, epochs = 50 )"
   ]
  },
  {
   "cell_type": "code",
   "execution_count": 9,
   "metadata": {},
   "outputs": [
    {
     "name": "stdout",
     "output_type": "stream",
     "text": [
      "Prediction :  if you want you\n"
     ]
    }
   ],
   "source": [
    "predictions = model.predict( x_one_hot )\n",
    "for prediction in predictions:\n",
    "    result_str = [ idx2char[ i ] for i in np.argmax( prediction, 1 ) ]\n",
    "    \n",
    "    print( 'Prediction : ', ''.join( result_str ) )"
   ]
  }
 ],
 "metadata": {
  "kernelspec": {
   "display_name": "Python 3",
   "language": "python",
   "name": "python3"
  },
  "language_info": {
   "codemirror_mode": {
    "name": "ipython",
    "version": 3
   },
   "file_extension": ".py",
   "mimetype": "text/x-python",
   "name": "python",
   "nbconvert_exporter": "python",
   "pygments_lexer": "ipython3",
   "version": "3.7.4"
  }
 },
 "nbformat": 4,
 "nbformat_minor": 2
}
