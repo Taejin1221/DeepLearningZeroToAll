{
 "cells": [
  {
   "cell_type": "code",
   "execution_count": 1,
   "metadata": {},
   "outputs": [],
   "source": [
    "import tensorflow as tf"
   ]
  },
  {
   "cell_type": "code",
   "execution_count": 2,
   "metadata": {},
   "outputs": [
    {
     "name": "stdout",
     "output_type": "stream",
     "text": [
      "(60000, 784) (60000, 10)\n"
     ]
    }
   ],
   "source": [
    "( x_train, y_train ), ( x_test, y_test ) = tf.keras.datasets.mnist.load_data()\n",
    "\n",
    "x_train = x_train / 255.0\n",
    "x_test = x_test / 255.0\n",
    "\n",
    "x_train = x_train.reshape( -1, 784  )\n",
    "x_test = x_test.reshape( -1, 784 )\n",
    "\n",
    "x_train = tf.cast( x_train, tf.float32 )\n",
    "x_test = tf.cast( x_test, tf.float32 )\n",
    "\n",
    "y_train = tf.keras.utils.to_categorical( y_train, 10 )\n",
    "y_test = tf.keras.utils.to_categorical( y_test, 10 )\n",
    "\n",
    "print( x_train.shape, y_train.shape )"
   ]
  },
  {
   "cell_type": "code",
   "execution_count": 3,
   "metadata": {},
   "outputs": [],
   "source": [
    "w1 = tf.Variable( tf.random.truncated_normal( [ 784, 30 ] ) )\n",
    "b1 = tf.Variable( tf.random.truncated_normal( [ 1, 30 ] ) )\n",
    "\n",
    "w2 = tf.Variable( tf.random.truncated_normal( [ 30, 10 ] ) )\n",
    "b2 = tf.Variable( tf.random.truncated_normal( [ 1, 10 ] ) )"
   ]
  },
  {
   "cell_type": "code",
   "execution_count": 4,
   "metadata": {},
   "outputs": [],
   "source": [
    "def sigma( X ):\n",
    "    return tf.divide( tf.constant( 1.0 ),\n",
    "                  tf.add( tf.constant( 1.0 ), tf.exp( -X ) ) )\n",
    "\n",
    "def sigma_prime( X ):\n",
    "    return sigma( X ) * ( 1. - sigma( X ) )"
   ]
  },
  {
   "cell_type": "code",
   "execution_count": 5,
   "metadata": {},
   "outputs": [],
   "source": [
    "l1 = lambda X: tf.add( tf.matmul( X, w1 ), b1 )\n",
    "a1 = lambda X: sigma( l1( X ) )\n",
    "l2 = lambda X: tf.add( tf.matmul( a1( X ), w2 ), b2 )\n",
    "y_pred = lambda X: sigma( l2( X ) )"
   ]
  },
  {
   "cell_type": "code",
   "execution_count": 6,
   "metadata": {},
   "outputs": [],
   "source": [
    "diff = lambda X, Y: y_pred( X ) - Y\n",
    "\n",
    "d_l2 = lambda X, Y: diff( X, Y ) * sigma_prime( l2( X ) )\n",
    "d_b2 = lambda X, Y: d_l2( X, Y )\n",
    "d_w2 = lambda X, Y: tf.matmul( tf.transpose( a1( X ) ), d_l2( X, Y ) )\n",
    "\n",
    "d_a1 = lambda X, Y: tf.matmul( d_l2( X, Y ), tf.transpose( w2 ) )\n",
    "d_l1 = lambda X, Y: d_a1( X, Y ) * sigma_prime( l1( X ) )\n",
    "d_b1 = lambda X, Y: d_l1( X, Y )\n",
    "d_w1 = lambda X, Y: tf.matmul( tf.transpose( X ), d_l1( X, Y ) )"
   ]
  },
  {
   "cell_type": "code",
   "execution_count": 7,
   "metadata": {},
   "outputs": [],
   "source": [
    "learning_rate = 0.5\n",
    "def Step( X, Y ):\n",
    "    return ( [\n",
    "    w1.assign( w1 - learning_rate * d_w1( X, Y ) ),\n",
    "    b1.assign( b1 - learning_rate *\n",
    "              tf.reduce_mean( d_b1( X, Y ) ) ),\n",
    "    w2.assign( w2 - learning_rate * d_w2( X, Y ) ),\n",
    "    b2.assign( b2 - learning_rate *\n",
    "              tf.reduce_mean( d_b2( X, Y ) ) ),\n",
    "] )\n",
    "\n",
    "def Acct( X, Y ):\n",
    "    acct_mat = tf.equal( tf.argmax( y_pred( X ), 1 ), tf.argmax( Y, 1 ) )\n",
    "    \n",
    "    return ( tf.reduce_sum( tf.cast( acct_mat, tf.float32 ) ) )"
   ]
  },
  {
   "cell_type": "code",
   "execution_count": 8,
   "metadata": {},
   "outputs": [
    {
     "name": "stdout",
     "output_type": "stream",
     "text": [
      "85\n",
      "85\n",
      "85\n",
      "85\n",
      "85\n",
      "85\n",
      "85\n",
      "85\n",
      "85\n",
      "85\n",
      "85\n",
      "85\n",
      "85\n",
      "85\n",
      "85\n",
      "85\n",
      "85\n",
      "85\n",
      "85\n",
      "85\n"
     ]
    }
   ],
   "source": [
    "for i in range( 10000 ):\n",
    "    Step( x_train, y_train )\n",
    "    \n",
    "    if ( i % 500 == 0 ):\n",
    "        res = Acct( x_test[ : 1000 ], y_test[ : 1000 ] )\n",
    "        tf.print( res )"
   ]
  }
 ],
 "metadata": {
  "kernelspec": {
   "display_name": "Python 3",
   "language": "python",
   "name": "python3"
  },
  "language_info": {
   "codemirror_mode": {
    "name": "ipython",
    "version": 3
   },
   "file_extension": ".py",
   "mimetype": "text/x-python",
   "name": "python",
   "nbconvert_exporter": "python",
   "pygments_lexer": "ipython3",
   "version": "3.7.4"
  }
 },
 "nbformat": 4,
 "nbformat_minor": 2
}
