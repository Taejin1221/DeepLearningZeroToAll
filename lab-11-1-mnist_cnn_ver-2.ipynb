{
 "cells": [
  {
   "cell_type": "code",
   "execution_count": 1,
   "metadata": {},
   "outputs": [],
   "source": [
    "import tensorflow as tf\n",
    "import random"
   ]
  },
  {
   "cell_type": "code",
   "execution_count": 2,
   "metadata": {},
   "outputs": [
    {
     "name": "stdout",
     "output_type": "stream",
     "text": [
      "(60000, 28, 28) (10000, 28, 28)\n"
     ]
    }
   ],
   "source": [
    "( x_train, y_train ), ( x_test, y_test ) = tf.keras.datasets.mnist.load_data()\n",
    "\n",
    "x_train = tf.cast( x_train / 255.0, tf.float32 )\n",
    "x_test = tf.cast( x_test / 255.0, tf.float32 )\n",
    "\n",
    "y_train = tf.keras.utils.to_categorical( y_train, 10 )\n",
    "y_test = tf.keras.utils.to_categorical( y_test, 10 )\n",
    "print( x_train.shape, x_test.shape )"
   ]
  },
  {
   "cell_type": "code",
   "execution_count": 3,
   "metadata": {},
   "outputs": [],
   "source": [
    "learning_rate = 0.001\n",
    "training_epochs = 15\n",
    "batch_size = 100"
   ]
  },
  {
   "cell_type": "code",
   "execution_count": 4,
   "metadata": {},
   "outputs": [],
   "source": [
    "W1 = tf.Variable( tf.random.normal( [ 3, 3, 1, 32 ], stddev = 0.01 ) )\n",
    "def Layer1( X ):\n",
    "    l1 = tf.nn.conv2d( X, W1, strides = [ 1, 1, 1, 1 ], padding = 'SAME' )\n",
    "    l1 = tf.nn.relu( l1 )\n",
    "    return ( tf.nn.max_pool( l1, ksize = [ 1, 2, 2, 1 ],\n",
    "                           strides = [ 1, 2, 2, 1 ], padding = 'SAME' ) )\n",
    "\n",
    "W2 = tf.Variable( tf.random.normal( [ 3, 3, 32, 64 ], stddev = 0.01 ) )\n",
    "def Layer2( X ):\n",
    "    l2 = tf.nn.conv2d( Layer1( X ), W2, strides = [ 1, 1, 1, 1 ], padding = 'SAME' )\n",
    "    l2 = tf.nn.relu( l2 )\n",
    "    return ( tf.nn.max_pool( l2, ksize = [ 1, 2, 2, 1 ],\n",
    "                           strides = [ 1, 2, 2, 1 ], padding = 'SAME' ) )\n",
    "\n",
    "def Layer2_flat( X ):\n",
    "    return ( tf.reshape( Layer2( X ), [ -1, 7 * 7 * 64 ] ) )\n",
    "\n",
    "xavier = tf.keras.initializers.GlorotUniform()\n",
    "W3 = tf.Variable( xavier( [ 7 * 7 * 64, 10 ] ) )\n",
    "b = tf.Variable( tf.random.normal( [ 10 ] ) )\n",
    "\n",
    "def Logits( X ):\n",
    "    return ( tf.matmul( Layer2_flat( X ), W3 ) + b )"
   ]
  },
  {
   "cell_type": "code",
   "execution_count": 5,
   "metadata": {},
   "outputs": [],
   "source": [
    "@tf.function\n",
    "def Cost( X, Y ):\n",
    "    return ( tf.reduce_mean( \n",
    "        tf.nn.softmax_cross_entropy_with_logits(\n",
    "            logits = Logits( X ), labels = Y )\n",
    "    ) )\n",
    "\n",
    "def Minimize( X, Y ):\n",
    "    loss = lambda: Cost( X, Y )\n",
    "    \n",
    "    tf.keras.optimizers.Adam( learning_rate ).minimize( loss, \n",
    "                                                      [ W1, W2, W3, b ] )"
   ]
  },
  {
   "cell_type": "code",
   "execution_count": 6,
   "metadata": {},
   "outputs": [
    {
     "name": "stdout",
     "output_type": "stream",
     "text": [
      "Learning started. It takes sometime\n",
      "Epoch: 0001, Cost: 0.355469078\n",
      "Epoch: 0002, Cost: 0.099221170\n",
      "Epoch: 0003, Cost: 0.066990636\n",
      "Epoch: 0004, Cost: 0.051718701\n",
      "Epoch: 0005, Cost: 0.042779371\n",
      "Epoch: 0006, Cost: 0.036943484\n",
      "Epoch: 0007, Cost: 0.033430338\n",
      "Epoch: 0008, Cost: 0.030721005\n",
      "Epoch: 0009, Cost: 0.029415105\n",
      "Epoch: 0010, Cost: 0.028434118\n",
      "Epoch: 0011, Cost: 0.027779093\n",
      "Epoch: 0012, Cost: 0.026592292\n",
      "Epoch: 0013, Cost: 0.026220499\n",
      "Epoch: 0014, Cost: 0.025310066\n",
      "Epoch: 0015, Cost: 0.024163112\n",
      "Learning Finished!\n"
     ]
    }
   ],
   "source": [
    "print( 'Learning started. It takes sometime' )\n",
    "for epoch in range( training_epochs ):\n",
    "    avg_cost = 0\n",
    "    total_batch = int( len( x_train ) / batch_size )\n",
    "    \n",
    "    start_batch, end_batch = 0, batch_size\n",
    "    for i in range( total_batch ):\n",
    "        batch_xs, batch_ys = \\\n",
    "            x_train[ start_batch : end_batch ], y_train[start_batch : end_batch ]\n",
    "        batch_xs = tf.reshape( batch_xs, [ -1, 28, 28, 1 ] )\n",
    "        \n",
    "        Minimize( batch_xs, batch_ys )\n",
    "        cost_val = Cost( batch_xs, batch_ys )\n",
    "        \n",
    "        avg_cost += cost_val / total_batch\n",
    "        \n",
    "        start_batch = start_batch + batch_size\n",
    "        end_batch = end_batch + batch_size\n",
    "    \n",
    "    print( 'Epoch: {:04d}, Cost: {:.9f}'.format( epoch + 1, avg_cost ) )\n",
    "print( 'Learning Finished!' )"
   ]
  },
  {
   "cell_type": "code",
   "execution_count": 9,
   "metadata": {},
   "outputs": [],
   "source": [
    "def CorrectPrediction( X, Y ):\n",
    "    return ( tf.equal( tf.argmax( Logits( X ), 1 ), tf.argmax( Y, 1 ) ) )\n",
    "\n",
    "def Accuracy( X, Y ):\n",
    "    return ( tf.reduce_mean( tf.cast( CorrectPrediction( X, Y ), tf.float32 ) ) )"
   ]
  },
  {
   "cell_type": "code",
   "execution_count": 11,
   "metadata": {},
   "outputs": [
    {
     "name": "stdout",
     "output_type": "stream",
     "text": [
      "Accuracy:  0.9867\r\n"
     ]
    }
   ],
   "source": [
    "x_img = tf.reshape( x_test, [ -1, 28, 28, 1 ] )\n",
    "tf.print( 'Accuracy: ', Accuracy( x_img, y_test ) )"
   ]
  },
  {
   "cell_type": "code",
   "execution_count": 13,
   "metadata": {},
   "outputs": [
    {
     "name": "stdout",
     "output_type": "stream",
     "text": [
      "Label:  [4]\n",
      "Prediction:  [4]\n"
     ]
    }
   ],
   "source": [
    "r = random.randint( 0, len( x_test ) - 1 )\n",
    "x_img = tf.reshape( x_test[ r: r + 1], [ -1, 28, 28, 1] )\n",
    "tf.print( 'Label: ', tf.argmax( y_test[ r: r + 1 ], 1 ) )\n",
    "tf.print( 'Prediction: ',\n",
    "     tf.argmax( Logits( x_img ), 1 ) )"
   ]
  }
 ],
 "metadata": {
  "kernelspec": {
   "display_name": "Python 3",
   "language": "python",
   "name": "python3"
  },
  "language_info": {
   "codemirror_mode": {
    "name": "ipython",
    "version": 3
   },
   "file_extension": ".py",
   "mimetype": "text/x-python",
   "name": "python",
   "nbconvert_exporter": "python",
   "pygments_lexer": "ipython3",
   "version": "3.7.4"
  }
 },
 "nbformat": 4,
 "nbformat_minor": 2
}
