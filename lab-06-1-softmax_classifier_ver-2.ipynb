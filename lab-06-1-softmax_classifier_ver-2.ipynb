{
 "cells": [
  {
   "cell_type": "code",
   "execution_count": 1,
   "metadata": {},
   "outputs": [],
   "source": [
    "import tensorflow as tf"
   ]
  },
  {
   "cell_type": "code",
   "execution_count": 2,
   "metadata": {},
   "outputs": [],
   "source": [
    "x_data = [\n",
    "    [ 1, 2, 1, 1 ],\n",
    "    [ 2, 1, 3, 2 ],\n",
    "    [ 3, 1, 3, 4 ],\n",
    "    [ 4, 1, 5, 5 ],\n",
    "    [ 1, 7, 5, 5 ],\n",
    "    [ 1, 2, 5, 6 ],\n",
    "    [ 1, 6, 6, 6 ],\n",
    "    [ 1, 7, 7, 7 ]\n",
    "]\n",
    "\n",
    "y_data = [\n",
    "    [ 0, 0, 1 ],\n",
    "    [ 0, 0, 1 ],\n",
    "    [ 0, 0, 1 ],\n",
    "    [ 0, 1, 0 ],\n",
    "    [ 0, 1, 0 ],\n",
    "    [ 0, 1, 0 ],\n",
    "    [ 1, 0, 0 ],\n",
    "    [ 1, 0, 0 ]\n",
    "]"
   ]
  },
  {
   "cell_type": "code",
   "execution_count": 3,
   "metadata": {},
   "outputs": [],
   "source": [
    "nb_classes = 3"
   ]
  },
  {
   "cell_type": "code",
   "execution_count": 4,
   "metadata": {},
   "outputs": [],
   "source": [
    "W = tf.Variable( tf.random.normal( [ 4, nb_classes ] ), name = 'weight' )\n",
    "b = tf.Variable( tf.random.normal( [ nb_classes ] ), name = 'bias' )"
   ]
  },
  {
   "cell_type": "code",
   "execution_count": 5,
   "metadata": {},
   "outputs": [],
   "source": [
    "@tf.function\n",
    "def Hypothesis( X ):\n",
    "    X = tf.cast( X, dtype = tf.float32)\n",
    "    return ( tf.nn.softmax( tf.matmul( X, W ) + b ) )\n",
    "\n",
    "@tf.function\n",
    "def Cost( X, Y ):\n",
    "    return (\n",
    "        tf.reduce_mean( -tf.reduce_sum( Y * tf.math.log( Hypothesis( X ) ), axis = 1 ) )\n",
    "     )\n",
    "        \n",
    "def Minimize( X, Y ):\n",
    "    loss = lambda : Cost( X, Y )\n",
    "    tf.keras.optimizers.SGD( 0.01 ).minimize( loss, [ W, b ] )"
   ]
  },
  {
   "cell_type": "code",
   "execution_count": 11,
   "metadata": {},
   "outputs": [
    {
     "name": "stdout",
     "output_type": "stream",
     "text": [
      "0 0.238815188\n",
      "200 0.236372709\n",
      "400 0.233977109\n",
      "600 0.231627196\n",
      "800 0.229321823\n",
      "1000 0.227059245\n",
      "1200 0.224838674\n",
      "1400 0.2226592\n",
      "1600 0.220519304\n",
      "1800 0.218418121\n",
      "2000 0.216354609\n"
     ]
    }
   ],
   "source": [
    "X = x_data\n",
    "Y = y_data\n",
    "Hypothesis( X )\n",
    "Cost( X, Y )\n",
    "for step in range( 2001 ):\n",
    "    Minimize( X, Y )\n",
    "    if ( step % 200 == 0 ):\n",
    "        tf.print( step, Cost( X, Y ) )"
   ]
  },
  {
   "cell_type": "code",
   "execution_count": 7,
   "metadata": {},
   "outputs": [
    {
     "name": "stdout",
     "output_type": "stream",
     "text": [
      "[[0.959898651 0.0399725921 0.000128695319]] [0]\n"
     ]
    }
   ],
   "source": [
    "a = Hypothesis( [ [ 1, 11, 7, 9 ] ] )\n",
    "tf.print( a, tf.math.argmax( a, 1 ) )"
   ]
  },
  {
   "cell_type": "code",
   "execution_count": 8,
   "metadata": {},
   "outputs": [
    {
     "name": "stdout",
     "output_type": "stream",
     "text": [
      "[[0.959898651 0.0399725735 0.000128695319]\n",
      " [0.130315468 0.641198218 0.228486285]\n",
      " [0.00803382322 0.0731669515 0.918799162]] [0 1 2]\n"
     ]
    }
   ],
   "source": [
    "all = Hypothesis( [ [ 1, 11, 7, 9 ], [ 1, 3, 4, 3 ], [ 1, 1, 0, 1 ] ] )\n",
    "tf.print( all, tf.math.argmax( all, 1) )"
   ]
  }
 ],
 "metadata": {
  "kernelspec": {
   "display_name": "Python 3",
   "language": "python",
   "name": "python3"
  },
  "language_info": {
   "codemirror_mode": {
    "name": "ipython",
    "version": 3
   },
   "file_extension": ".py",
   "mimetype": "text/x-python",
   "name": "python",
   "nbconvert_exporter": "python",
   "pygments_lexer": "ipython3",
   "version": "3.7.4"
  }
 },
 "nbformat": 4,
 "nbformat_minor": 2
}
