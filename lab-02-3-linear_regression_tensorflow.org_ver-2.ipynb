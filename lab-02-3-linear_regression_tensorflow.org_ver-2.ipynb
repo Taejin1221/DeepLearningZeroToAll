{
 "cells": [
  {
   "cell_type": "code",
   "execution_count": 1,
   "metadata": {},
   "outputs": [],
   "source": [
    "import tensorflow as tf"
   ]
  },
  {
   "cell_type": "code",
   "execution_count": 2,
   "metadata": {},
   "outputs": [],
   "source": [
    "x_train = [ 1, 2, 3, 4 ]\n",
    "y_train = [ 0, -1, -2, -3 ]"
   ]
  },
  {
   "cell_type": "code",
   "execution_count": 3,
   "metadata": {},
   "outputs": [],
   "source": [
    "W = tf.Variable( [ 0.3 ], tf.float32 )\n",
    "b = tf.Variable( [ -0.3 ], tf.float32 )"
   ]
  },
  {
   "cell_type": "code",
   "execution_count": 4,
   "metadata": {},
   "outputs": [],
   "source": [
    "def Hypothesis( X ):\n",
    "    return ( X * W + b )\n",
    "\n",
    "def Cost( X, Y ):\n",
    "    return ( tf.reduce_mean( tf.square( Hypothesis( X ) - Y ) ) )\n",
    "\n",
    "def Minimize( X, Y ):\n",
    "    loss = lambda: Cost( X, Y )\n",
    "    tf.keras.optimizers.SGD( 0.01 ).minimize( loss, [ W, b ] )"
   ]
  },
  {
   "cell_type": "code",
   "execution_count": 5,
   "metadata": {},
   "outputs": [],
   "source": [
    "for step in range( 1000 ):\n",
    "    Minimize( x_train, y_train )"
   ]
  },
  {
   "cell_type": "code",
   "execution_count": 6,
   "metadata": {},
   "outputs": [
    {
     "name": "stdout",
     "output_type": "stream",
     "text": [
      "W:  [-0.973515213] b:  [0.922131658] Cost:  0.00101267768\r\n"
     ]
    }
   ],
   "source": [
    "W_val, b_val, cost_val, = W, b, Cost( x_train, y_train )\n",
    "tf.print( 'W: ', W_val, 'b: ', b_val, 'Cost: ', cost_val )"
   ]
  }
 ],
 "metadata": {
  "kernelspec": {
   "display_name": "Python 3",
   "language": "python",
   "name": "python3"
  },
  "language_info": {
   "codemirror_mode": {
    "name": "ipython",
    "version": 3
   },
   "file_extension": ".py",
   "mimetype": "text/x-python",
   "name": "python",
   "nbconvert_exporter": "python",
   "pygments_lexer": "ipython3",
   "version": "3.7.4"
  }
 },
 "nbformat": 4,
 "nbformat_minor": 2
}
