{
 "cells": [
  {
   "cell_type": "code",
   "execution_count": 1,
   "metadata": {},
   "outputs": [],
   "source": [
    "import tensorflow as tf"
   ]
  },
  {
   "cell_type": "code",
   "execution_count": 9,
   "metadata": {},
   "outputs": [],
   "source": [
    "import numpy as np"
   ]
  },
  {
   "cell_type": "code",
   "execution_count": 2,
   "metadata": {},
   "outputs": [
    {
     "name": "stdout",
     "output_type": "stream",
     "text": [
      "(60000, 28, 28, 1) (60000, 10)\n"
     ]
    }
   ],
   "source": [
    "( x_train, y_train ), ( x_test, y_test ) = tf.keras.datasets.mnist.load_data()\n",
    "\n",
    "x_train = x_train / 255.0\n",
    "x_test = x_test / 255.0\n",
    "\n",
    "x_train = x_train.reshape( -1, 28, 28, 1  )\n",
    "x_test = x_test.reshape( -1, 28, 28, 1 )\n",
    "\n",
    "y_train = tf.keras.utils.to_categorical( y_train, 10 )\n",
    "y_test = tf.keras.utils.to_categorical( y_test, 10 )\n",
    "print( x_train.shape, y_train.shape )"
   ]
  },
  {
   "cell_type": "code",
   "execution_count": 3,
   "metadata": {},
   "outputs": [],
   "source": [
    "learning_rate = 0.001\n",
    "training_epochs = 15\n",
    "batch_size = 100"
   ]
  },
  {
   "cell_type": "code",
   "execution_count": 4,
   "metadata": {},
   "outputs": [],
   "source": [
    "def StackLayers( model ):\n",
    "    # layer 1\n",
    "    model.add( tf.keras.layers.Conv2D( filters = 32, kernel_size = [ 3, 3 ],\n",
    "                                   padding = 'SAME', activation = 'relu' ) )\n",
    "    model.add( tf.keras.layers.MaxPooling2D( pool_size = [ 2, 2 ],\n",
    "                                        padding = 'SAME', strides = 2 ) )\n",
    "    model.add( tf.keras.layers.Dropout( 0.3 ) )\n",
    "\n",
    "    # layer 2\n",
    "    model.add( tf.keras.layers.Conv2D( filters = 64, kernel_size = [ 3, 3 ],\n",
    "                                  padding = 'SAME', activation = 'relu' ) )\n",
    "    model.add( tf.keras.layers.MaxPooling2D( pool_size = [ 2, 2 ],\n",
    "                                        padding = 'SAME', strides = 2 ) )\n",
    "    model.add( tf.keras.layers.Dropout( 0.3 ) )\n",
    "\n",
    "    # layer 3\n",
    "    model.add( tf.keras.layers.Conv2D( filters = 128, kernel_size = [ 3, 3 ],\n",
    "                                  padding = 'SAME', activation = 'relu' ) )\n",
    "    model.add( tf.keras.layers.MaxPooling2D( pool_size = [ 2, 2 ],\n",
    "                                        padding = 'SAME', strides = 2 ) )\n",
    "    model.add( tf.keras.layers.Dropout( 0.3 ) )\n",
    "\n",
    "    model.add( tf.keras.layers.Flatten() )\n",
    "    model.add( tf.keras.layers.Dense( units = 625, activation = 'relu' ) )\n",
    "    model.add( tf.keras.layers.Dropout( 0.5 ) )\n",
    "\n",
    "    model.add( tf.keras.layers.Dense( units = 10, activation = 'softmax' ) )\n",
    "    \n",
    "def CompileModel( model ):\n",
    "    model.compile( loss = 'categorical_crossentropy',\n",
    "           optimizer = tf.keras.optimizers.Adam( learning_rate ), metrics = [ 'accuracy' ] )\n",
    "    \n",
    "def TrainingModel( model ):\n",
    "    model.fit( x_train, y_train, batch_size, training_epochs )\n",
    "    "
   ]
  },
  {
   "cell_type": "code",
   "execution_count": 5,
   "metadata": {},
   "outputs": [],
   "source": [
    "models = []\n",
    "num_models = 5\n",
    "for m in range( num_models ):\n",
    "    models.append( tf.keras.Sequential() )\n",
    "    StackLayers( models[m] )\n",
    "    CompileModel( models[m] )"
   ]
  },
  {
   "cell_type": "code",
   "execution_count": 6,
   "metadata": {},
   "outputs": [
    {
     "name": "stdout",
     "output_type": "stream",
     "text": [
      "Train on 60000 samples\n",
      "Epoch 1/15\n",
      "60000/60000 [==============================] - 4s 73us/sample - loss: 0.2646 - accuracy: 0.9135\n",
      "Epoch 2/15\n",
      "60000/60000 [==============================] - 3s 53us/sample - loss: 0.0845 - accuracy: 0.9729\n",
      "Epoch 3/15\n",
      "60000/60000 [==============================] - 3s 53us/sample - loss: 0.0652 - accuracy: 0.9795\n",
      "Epoch 4/15\n",
      "60000/60000 [==============================] - 3s 54us/sample - loss: 0.0543 - accuracy: 0.9827\n",
      "Epoch 5/15\n",
      "60000/60000 [==============================] - 3s 54us/sample - loss: 0.0488 - accuracy: 0.9850\n",
      "Epoch 6/15\n",
      "60000/60000 [==============================] - 3s 54us/sample - loss: 0.0423 - accuracy: 0.9871\n",
      "Epoch 7/15\n",
      "60000/60000 [==============================] - 3s 53us/sample - loss: 0.0395 - accuracy: 0.9877\n",
      "Epoch 8/15\n",
      "60000/60000 [==============================] - 3s 54us/sample - loss: 0.0383 - accuracy: 0.9878\n",
      "Epoch 9/15\n",
      "60000/60000 [==============================] - 3s 54us/sample - loss: 0.0369 - accuracy: 0.9883\n",
      "Epoch 10/15\n",
      "60000/60000 [==============================] - 3s 55us/sample - loss: 0.0324 - accuracy: 0.9895\n",
      "Epoch 11/15\n",
      "60000/60000 [==============================] - 3s 54us/sample - loss: 0.0323 - accuracy: 0.9898\n",
      "Epoch 12/15\n",
      "60000/60000 [==============================] - 3s 54us/sample - loss: 0.0313 - accuracy: 0.9901\n",
      "Epoch 13/15\n",
      "60000/60000 [==============================] - 3s 54us/sample - loss: 0.0278 - accuracy: 0.9909\n",
      "Epoch 14/15\n",
      "60000/60000 [==============================] - 3s 54us/sample - loss: 0.0268 - accuracy: 0.9911\n",
      "Epoch 15/15\n",
      "60000/60000 [==============================] - 3s 55us/sample - loss: 0.0262 - accuracy: 0.9912\n",
      "Train on 60000 samples\n",
      "Epoch 1/15\n",
      "60000/60000 [==============================] - 4s 61us/sample - loss: 0.2736 - accuracy: 0.9117\n",
      "Epoch 2/15\n",
      "60000/60000 [==============================] - 3s 55us/sample - loss: 0.0872 - accuracy: 0.9731\n",
      "Epoch 3/15\n",
      "60000/60000 [==============================] - 3s 54us/sample - loss: 0.0636 - accuracy: 0.9795\n",
      "Epoch 4/15\n",
      "60000/60000 [==============================] - 3s 53us/sample - loss: 0.0558 - accuracy: 0.9826\n",
      "Epoch 5/15\n",
      "60000/60000 [==============================] - 3s 54us/sample - loss: 0.0478 - accuracy: 0.9848\n",
      "Epoch 6/15\n",
      "60000/60000 [==============================] - 3s 54us/sample - loss: 0.0432 - accuracy: 0.9868\n",
      "Epoch 7/15\n",
      "60000/60000 [==============================] - 3s 55us/sample - loss: 0.0393 - accuracy: 0.9878\n",
      "Epoch 8/15\n",
      "60000/60000 [==============================] - 3s 53us/sample - loss: 0.0363 - accuracy: 0.9887\n",
      "Epoch 9/15\n",
      "60000/60000 [==============================] - 3s 54us/sample - loss: 0.0359 - accuracy: 0.9887\n",
      "Epoch 10/15\n",
      "60000/60000 [==============================] - 3s 55us/sample - loss: 0.0350 - accuracy: 0.9891\n",
      "Epoch 11/15\n",
      "60000/60000 [==============================] - 3s 54us/sample - loss: 0.0316 - accuracy: 0.9900\n",
      "Epoch 12/15\n",
      "60000/60000 [==============================] - 3s 54us/sample - loss: 0.0308 - accuracy: 0.9904\n",
      "Epoch 13/15\n",
      "60000/60000 [==============================] - 3s 54us/sample - loss: 0.0292 - accuracy: 0.9905\n",
      "Epoch 14/15\n",
      "60000/60000 [==============================] - 3s 54us/sample - loss: 0.0266 - accuracy: 0.9915\n",
      "Epoch 15/15\n",
      "60000/60000 [==============================] - 3s 53us/sample - loss: 0.0269 - accuracy: 0.9917\n",
      "Train on 60000 samples\n",
      "Epoch 1/15\n",
      "60000/60000 [==============================] - 3s 58us/sample - loss: 0.2715 - accuracy: 0.9102\n",
      "Epoch 2/15\n",
      "60000/60000 [==============================] - 3s 53us/sample - loss: 0.0852 - accuracy: 0.9738\n",
      "Epoch 3/15\n",
      "60000/60000 [==============================] - 3s 53us/sample - loss: 0.0660 - accuracy: 0.9797\n",
      "Epoch 4/15\n",
      "60000/60000 [==============================] - 3s 53us/sample - loss: 0.0561 - accuracy: 0.9826\n",
      "Epoch 5/15\n",
      "60000/60000 [==============================] - 3s 53us/sample - loss: 0.0486 - accuracy: 0.9852\n",
      "Epoch 6/15\n",
      "60000/60000 [==============================] - 3s 53us/sample - loss: 0.0440 - accuracy: 0.9865\n",
      "Epoch 7/15\n",
      "60000/60000 [==============================] - 3s 53us/sample - loss: 0.0409 - accuracy: 0.9871\n",
      "Epoch 8/15\n",
      "60000/60000 [==============================] - 3s 53us/sample - loss: 0.0374 - accuracy: 0.9881\n",
      "Epoch 9/15\n",
      "60000/60000 [==============================] - 3s 53us/sample - loss: 0.0354 - accuracy: 0.9888\n",
      "Epoch 10/15\n",
      "60000/60000 [==============================] - 3s 53us/sample - loss: 0.0347 - accuracy: 0.9892\n",
      "Epoch 11/15\n",
      "60000/60000 [==============================] - 3s 53us/sample - loss: 0.0311 - accuracy: 0.9904\n",
      "Epoch 12/15\n",
      "60000/60000 [==============================] - 3s 53us/sample - loss: 0.0304 - accuracy: 0.9904\n",
      "Epoch 13/15\n",
      "60000/60000 [==============================] - 3s 53us/sample - loss: 0.0277 - accuracy: 0.9914\n",
      "Epoch 14/15\n",
      "60000/60000 [==============================] - 3s 53us/sample - loss: 0.0265 - accuracy: 0.9916\n",
      "Epoch 15/15\n",
      "60000/60000 [==============================] - 3s 53us/sample - loss: 0.0273 - accuracy: 0.9916\n",
      "Train on 60000 samples\n",
      "Epoch 1/15\n",
      "60000/60000 [==============================] - 3s 58us/sample - loss: 0.2764 - accuracy: 0.9099\n",
      "Epoch 2/15\n",
      "60000/60000 [==============================] - 3s 53us/sample - loss: 0.0834 - accuracy: 0.9742\n",
      "Epoch 3/15\n",
      "60000/60000 [==============================] - 3s 53us/sample - loss: 0.0673 - accuracy: 0.9791\n",
      "Epoch 4/15\n",
      "60000/60000 [==============================] - 3s 53us/sample - loss: 0.0550 - accuracy: 0.9835\n",
      "Epoch 5/15\n",
      "60000/60000 [==============================] - 3s 53us/sample - loss: 0.0473 - accuracy: 0.9853\n",
      "Epoch 6/15\n",
      "60000/60000 [==============================] - 3s 54us/sample - loss: 0.0439 - accuracy: 0.9865\n",
      "Epoch 7/15\n",
      "60000/60000 [==============================] - 3s 53us/sample - loss: 0.0405 - accuracy: 0.9879\n",
      "Epoch 8/15\n",
      "60000/60000 [==============================] - 3s 53us/sample - loss: 0.0372 - accuracy: 0.9884\n",
      "Epoch 9/15\n",
      "60000/60000 [==============================] - 3s 53us/sample - loss: 0.0331 - accuracy: 0.9890\n",
      "Epoch 10/15\n",
      "60000/60000 [==============================] - 3s 54us/sample - loss: 0.0336 - accuracy: 0.9900\n",
      "Epoch 11/15\n",
      "60000/60000 [==============================] - 3s 55us/sample - loss: 0.0308 - accuracy: 0.9902\n",
      "Epoch 12/15\n",
      "60000/60000 [==============================] - 3s 55us/sample - loss: 0.0280 - accuracy: 0.9913\n",
      "Epoch 13/15\n",
      "60000/60000 [==============================] - 3s 55us/sample - loss: 0.0274 - accuracy: 0.9915\n",
      "Epoch 14/15\n",
      "60000/60000 [==============================] - 3s 53us/sample - loss: 0.0265 - accuracy: 0.9913\n",
      "Epoch 15/15\n",
      "60000/60000 [==============================] - 3s 53us/sample - loss: 0.0249 - accuracy: 0.9923\n",
      "Train on 60000 samples\n",
      "Epoch 1/15\n",
      "60000/60000 [==============================] - 3s 57us/sample - loss: 0.2752 - accuracy: 0.9097\n",
      "Epoch 2/15\n",
      "60000/60000 [==============================] - 3s 53us/sample - loss: 0.0854 - accuracy: 0.9735\n",
      "Epoch 3/15\n",
      "60000/60000 [==============================] - 3s 53us/sample - loss: 0.0657 - accuracy: 0.9799\n",
      "Epoch 4/15\n",
      "60000/60000 [==============================] - 3s 53us/sample - loss: 0.0538 - accuracy: 0.9833\n",
      "Epoch 5/15\n",
      "60000/60000 [==============================] - 3s 52us/sample - loss: 0.0485 - accuracy: 0.9852\n",
      "Epoch 6/15\n",
      "60000/60000 [==============================] - 3s 53us/sample - loss: 0.0433 - accuracy: 0.9868\n",
      "Epoch 7/15\n",
      "60000/60000 [==============================] - 3s 53us/sample - loss: 0.0394 - accuracy: 0.9879\n",
      "Epoch 8/15\n",
      "60000/60000 [==============================] - 3s 53us/sample - loss: 0.0373 - accuracy: 0.9885\n",
      "Epoch 9/15\n",
      "60000/60000 [==============================] - 3s 53us/sample - loss: 0.0341 - accuracy: 0.9891\n",
      "Epoch 10/15\n",
      "60000/60000 [==============================] - 3s 53us/sample - loss: 0.0314 - accuracy: 0.9902\n",
      "Epoch 11/15\n",
      "60000/60000 [==============================] - 3s 53us/sample - loss: 0.0310 - accuracy: 0.9906\n",
      "Epoch 12/15\n",
      "60000/60000 [==============================] - 3s 53us/sample - loss: 0.0303 - accuracy: 0.9902\n",
      "Epoch 13/15\n",
      "60000/60000 [==============================] - 3s 53us/sample - loss: 0.0288 - accuracy: 0.9909\n",
      "Epoch 14/15\n",
      "60000/60000 [==============================] - 3s 53us/sample - loss: 0.0272 - accuracy: 0.9913\n",
      "Epoch 15/15\n",
      "60000/60000 [==============================] - 3s 53us/sample - loss: 0.0268 - accuracy: 0.9913\n"
     ]
    }
   ],
   "source": [
    "for m in models:\n",
    "    TrainingModel( m )"
   ]
  },
  {
   "cell_type": "code",
   "execution_count": 11,
   "metadata": {},
   "outputs": [
    {
     "name": "stdout",
     "output_type": "stream",
     "text": [
      "10000/10000 [==============================] - 1s 64us/sample - loss: 0.0236 - accuracy: 0.9933\n",
      "0 Accuracy:  0.9933\n",
      "10000/10000 [==============================] - 1s 70us/sample - loss: 0.0206 - accuracy: 0.9944\n",
      "1 Accuracy:  0.9944\n",
      "10000/10000 [==============================] - 1s 63us/sample - loss: 0.0260 - accuracy: 0.9913\n",
      "2 Accuracy:  0.9913\n",
      "10000/10000 [==============================] - 1s 63us/sample - loss: 0.0209 - accuracy: 0.9937\n",
      "3 Accuracy:  0.9937\n",
      "10000/10000 [==============================] - 1s 62us/sample - loss: 0.0185 - accuracy: 0.9943\n",
      "4 Accuracy:  0.9943\n"
     ]
    }
   ],
   "source": [
    "test_size = len( y_test )\n",
    "predictions = np.zeros( [ test_size, 10 ] )\n",
    "for m_idx, m in enumerate( models ):\n",
    "    print( m_idx, 'Accuracy: ', m.evaluate( x_test, y_test )[1] )\n",
    "    p = m.predict( x_test )\n",
    "    predictions += p"
   ]
  },
  {
   "cell_type": "code",
   "execution_count": 14,
   "metadata": {},
   "outputs": [
    {
     "name": "stdout",
     "output_type": "stream",
     "text": [
      "Ensembel accuracy:  99.56 %\r\n"
     ]
    }
   ],
   "source": [
    "ensemble_correct_prediction = tf.equal(\n",
    "                                      tf.argmax( predictions, 1 ), tf.argmax( y_test, 1 ) )\n",
    "ensemble_accuracy = tf.reduce_mean(\n",
    "                                  tf.cast( ensemble_correct_prediction, tf.float32 ) )\n",
    "tf.print( 'Ensembel accuracy: ', ensemble_accuracy * 100, '%' )"
   ]
  }
 ],
 "metadata": {
  "kernelspec": {
   "display_name": "Python 3",
   "language": "python",
   "name": "python3"
  },
  "language_info": {
   "codemirror_mode": {
    "name": "ipython",
    "version": 3
   },
   "file_extension": ".py",
   "mimetype": "text/x-python",
   "name": "python",
   "nbconvert_exporter": "python",
   "pygments_lexer": "ipython3",
   "version": "3.7.4"
  }
 },
 "nbformat": 4,
 "nbformat_minor": 2
}
