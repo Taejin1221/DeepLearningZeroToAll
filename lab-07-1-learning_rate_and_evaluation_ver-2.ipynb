{
 "cells": [
  {
   "cell_type": "code",
   "execution_count": 1,
   "metadata": {},
   "outputs": [],
   "source": [
    "import tensorflow as tf"
   ]
  },
  {
   "cell_type": "code",
   "execution_count": 2,
   "metadata": {},
   "outputs": [],
   "source": [
    "x_data = [\n",
    "    [ 1., 2., 1. ],\n",
    "    [ 1., 3., 2. ],\n",
    "    [ 1., 3., 4. ],\n",
    "    [ 1., 5., 5. ],\n",
    "    [ 1., 7., 5. ],\n",
    "    [ 1., 2., 5. ],\n",
    "    [ 1., 6., 6. ],\n",
    "    [ 1., 7., 7. ]\n",
    "]\n",
    "\n",
    "y_data = [\n",
    "    [ 0., 0., 1. ],\n",
    "    [ 0., 0., 1. ],\n",
    "    [ 0., 0., 1. ],\n",
    "    [ 0., 1., 0. ],\n",
    "    [ 0., 1., 0. ],\n",
    "    [ 0., 1., 0. ],\n",
    "    [ 1., 0., 0. ],\n",
    "    [ 1., 0., 0. ]\n",
    "]\n",
    "\n",
    "x_test = [\n",
    "    [ 2., 1., 1. ],\n",
    "    [ 3., 1., 2. ],\n",
    "    [ 3., 3., 4. ]\n",
    "]\n",
    "\n",
    "y_test = [\n",
    "    [ 0., 0., 1. ],\n",
    "    [ 0., 0., 1. ],\n",
    "    [ 0., 0., 1. ]\n",
    "]"
   ]
  },
  {
   "cell_type": "code",
   "execution_count": 8,
   "metadata": {},
   "outputs": [],
   "source": [
    "W = tf.Variable( tf.random.normal( [ 3, 3 ] ), name = 'weight' )\n",
    "b = tf.Variable( tf.random.normal( [ 3 ] ), name = 'bias' )"
   ]
  },
  {
   "cell_type": "code",
   "execution_count": 4,
   "metadata": {},
   "outputs": [],
   "source": [
    "def Hypothesis( X ):\n",
    "    return ( tf.nn.softmax( tf.matmul( X, W ) + b ) )\n",
    "\n",
    "\n",
    "def Cost( X, Y ):\n",
    "    return ( tf.reduce_mean(\n",
    "        -tf.reduce_sum( Y * tf.math.log( Hypothesis( X ) ), axis = 1 ) ) )\n",
    "\n",
    "\n",
    "def Minimize( X, Y ):\n",
    "    loss = lambda : Cost( X, Y )\n",
    "    \n",
    "    # tf.keras.optimizers.SGD( 1.5 ).minimize( loss, [ W, b ] )\n",
    "    tf.keras.optimizers.SGD( 0.1 ).minimize( loss, [ W, b ] )\n",
    "    # tf.keras.optimizers.SGD( 1e-10 ).minimize( loss, [ W, b ] )"
   ]
  },
  {
   "cell_type": "code",
   "execution_count": 5,
   "metadata": {},
   "outputs": [],
   "source": [
    "def Prediction( X ):\n",
    "    return ( tf.math.argmax( Hypothesis( X ), 1 ) )\n",
    "\n",
    "\n",
    "def is_correct( X, Y ):\n",
    "    return tf.equal( Prediction( X ), tf.argmax( Y, 1 ) )\n",
    "\n",
    "\n",
    "def Accuracy( X, Y ):\n",
    "    return ( tf.reduce_mean( tf.cast( is_correct( X, Y ), tf.float32 ) ) )"
   ]
  },
  {
   "cell_type": "code",
   "execution_count": 9,
   "metadata": {
    "scrolled": true
   },
   "outputs": [
    {
     "name": "stdout",
     "output_type": "stream",
     "text": [
      "Step:  0 Cost:  1.24609411\n",
      "Step:  20 Cost:  0.960810184\n",
      "Step:  40 Cost:  0.869273901\n",
      "Step:  60 Cost:  0.804507136\n",
      "Step:  80 Cost:  0.756974578\n",
      "Step:  100 Cost:  0.720645308\n",
      "Step:  120 Cost:  0.691654265\n",
      "Step:  140 Cost:  0.667618871\n",
      "Step:  160 Cost:  0.647081137\n",
      "Step:  180 Cost:  0.629125\n",
      "Step:  200 Cost:  0.613149524\n"
     ]
    }
   ],
   "source": [
    "for step in range( 201 ):\n",
    "    Minimize( x_data, y_data )\n",
    "    if ( not ( step % 20 ) ):\n",
    "        tf.print('Step: ', step, 'Cost: ', Cost( x_data, y_data ) )"
   ]
  },
  {
   "cell_type": "code",
   "execution_count": 12,
   "metadata": {},
   "outputs": [
    {
     "name": "stdout",
     "output_type": "stream",
     "text": [
      "Prediction:  [0 0 0]\n",
      "Accuaracy:  0\n"
     ]
    }
   ],
   "source": [
    "# when lr = 1.5\n",
    "tf.print( 'Prediction: ', Prediction( x_test ) )\n",
    "tf.print( 'Accuaracy: ', Accuracy( x_test, y_test ) )"
   ]
  },
  {
   "cell_type": "code",
   "execution_count": 10,
   "metadata": {},
   "outputs": [
    {
     "name": "stdout",
     "output_type": "stream",
     "text": [
      "Prediction:  [2 2 2]\n",
      "Accuaracy:  1\n"
     ]
    }
   ],
   "source": [
    "# when lr = 0.1\n",
    "tf.print( 'Prediction: ', Prediction( x_test ) )\n",
    "tf.print( 'Accuaracy: ', Accuracy( x_test, y_test ) )"
   ]
  },
  {
   "cell_type": "code",
   "execution_count": 26,
   "metadata": {},
   "outputs": [
    {
     "name": "stdout",
     "output_type": "stream",
     "text": [
      "Prediction:  [0 0 1]\n",
      "Accuaracy:  0\n"
     ]
    }
   ],
   "source": [
    "# when lr = 1e-10\n",
    "tf.print( 'Prediction: ', Prediction( x_test ) )\n",
    "tf.print( 'Accuaracy: ', Accuracy( x_test, y_test ) )"
   ]
  }
 ],
 "metadata": {
  "kernelspec": {
   "display_name": "Python 3",
   "language": "python",
   "name": "python3"
  },
  "language_info": {
   "codemirror_mode": {
    "name": "ipython",
    "version": 3
   },
   "file_extension": ".py",
   "mimetype": "text/x-python",
   "name": "python",
   "nbconvert_exporter": "python",
   "pygments_lexer": "ipython3",
   "version": "3.7.4"
  }
 },
 "nbformat": 4,
 "nbformat_minor": 2
}
