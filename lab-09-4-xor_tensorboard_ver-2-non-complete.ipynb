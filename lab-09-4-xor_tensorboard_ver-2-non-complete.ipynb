{
 "cells": [
  {
   "cell_type": "code",
   "execution_count": 1,
   "metadata": {},
   "outputs": [],
   "source": [
    "import tensorflow as tf\n",
    "import numpy as np"
   ]
  },
  {
   "cell_type": "code",
   "execution_count": 2,
   "metadata": {},
   "outputs": [],
   "source": [
    "x_data = np.array( [\n",
    "    [ 0, 0 ],\n",
    "    [ 0, 1 ],\n",
    "    [ 1, 0 ],\n",
    "    [ 1, 1 ],\n",
    "], dtype = np.float32 )\n",
    "\n",
    "y_data = np.array( [\n",
    "    [ 0 ],\n",
    "    [ 1 ],\n",
    "    [ 1 ],\n",
    "    [ 0 ]\n",
    "], dtype = np.float32 )"
   ]
  },
  {
   "cell_type": "code",
   "execution_count": 3,
   "metadata": {},
   "outputs": [],
   "source": [
    "writer = tf.summary.create_file_writer('./log')"
   ]
  },
  {
   "cell_type": "code",
   "execution_count": 4,
   "metadata": {},
   "outputs": [
    {
     "data": {
      "text/plain": [
       "<tf.Tensor: shape=(), dtype=bool, numpy=False>"
      ]
     },
     "execution_count": 4,
     "metadata": {},
     "output_type": "execute_result"
    }
   ],
   "source": [
    "W1 = tf.Variable( tf.random.normal( [ 2, 2 ] ), name = 'weight1' )\n",
    "b1 = tf.Variable( tf.random.normal( [ 2 ] ), name = 'bias' )\n",
    "tf.summary.histogram( 'W1', W1)\n",
    "tf.summary.histogram( 'b1', b1)"
   ]
  },
  {
   "cell_type": "code",
   "execution_count": 5,
   "metadata": {},
   "outputs": [
    {
     "data": {
      "text/plain": [
       "<tf.Tensor: shape=(), dtype=bool, numpy=False>"
      ]
     },
     "execution_count": 5,
     "metadata": {},
     "output_type": "execute_result"
    }
   ],
   "source": [
    "W2 = tf.Variable( tf.random.normal( [ 2, 1 ] ), name = 'weight2' )\n",
    "b2 = tf.Variable( tf.random.normal( [ 1 ] ), name = 'bias2' )\n",
    "tf.summary.histogram( 'W2', W2)\n",
    "tf.summary.histogram( 'b2', b2)"
   ]
  },
  {
   "cell_type": "code",
   "execution_count": 9,
   "metadata": {},
   "outputs": [],
   "source": [
    "@tf.function\n",
    "def Layer1( X ):\n",
    "    return ( tf.math.sigmoid( tf.matmul( X, W1 ) + b1 ) )\n",
    "\n",
    "@tf.function\n",
    "def Hypothesis( X ):\n",
    "    return ( tf.math.sigmoid( tf.matmul( Layer1( X ), W2 ) + b2 ) )\n",
    "\n",
    "@tf.function\n",
    "def Cost( X, Y ):\n",
    "    hypothesis = Hypothesis( X )\n",
    "    former = Y * tf.math.log( hypothesis )\n",
    "    latter = tf.subtract( 1., Y ) * tf.math.log( 1. - hypothesis )\n",
    "    return ( -tf.reduce_mean( former + latter ) )\n",
    "\n",
    "def Minimize( X, Y ):\n",
    "    loss = lambda: Cost( X, Y )\n",
    "    \n",
    "    tf.keras.optimizers.SGD( 0.1 ).minimize( loss, [ W1, W2, b1, b2 ] )"
   ]
  },
  {
   "cell_type": "code",
   "execution_count": 6,
   "metadata": {},
   "outputs": [],
   "source": [
    "def Predict( X ):\n",
    "    return ( tf.cast( Hypothesis( X ) > 0.5, dtype = tf.float32 ) )\n",
    "\n",
    "def Accuracy( X, Y ):\n",
    "    return ( tf.reduce_mean( tf.cast( tf.equal( Predict( X ), Y ),\n",
    "                                     dtype = tf.float32 ) ) )"
   ]
  },
  {
   "cell_type": "code",
   "execution_count": 12,
   "metadata": {
    "scrolled": true
   },
   "outputs": [
    {
     "name": "stdout",
     "output_type": "stream",
     "text": [
      "0 0.772670865\n",
      "100 0.695645213\n",
      "200 0.692468762\n",
      "300 0.689137\n",
      "400 0.685365915\n",
      "500 0.680881858\n",
      "600 0.675353408\n",
      "700 0.668323159\n",
      "800 0.659074\n",
      "900 0.646354795\n",
      "1000 0.627940834\n",
      "1100 0.60077107\n",
      "1200 0.563843131\n",
      "1300 0.520185828\n",
      "1400 0.472339123\n",
      "1500 0.42211625\n",
      "1600 0.372293711\n",
      "1700 0.325674474\n",
      "1800 0.284069657\n",
      "1900 0.248134077\n",
      "2000 0.217694014\n",
      "2100 0.192150116\n",
      "2200 0.170767367\n",
      "2300 0.152832285\n",
      "2400 0.137718901\n",
      "2500 0.124905095\n",
      "2600 0.113966979\n",
      "2700 0.104564197\n",
      "2800 0.096424818\n",
      "2900 0.0893317312\n",
      "3000 0.0831106603\n",
      "3100 0.0776214749\n",
      "3200 0.0727505088\n",
      "3300 0.0684051961\n",
      "3400 0.0645096749\n",
      "3500 0.0610012263\n",
      "3600 0.0578277335\n",
      "3700 0.0549458303\n",
      "3800 0.0523188487\n",
      "3900 0.0499158353\n",
      "4000 0.0477105826\n",
      "4100 0.0456805266\n",
      "4200 0.0438064635\n",
      "4300 0.0420717\n",
      "4400 0.0404617861\n",
      "4500 0.0389642268\n",
      "4600 0.0375679731\n",
      "4700 0.0362635329\n",
      "4800 0.0350423306\n",
      "4900 0.0338968746\n",
      "5000 0.0328205973\n",
      "5100 0.031807594\n",
      "5200 0.0308524743\n",
      "5300 0.029950738\n",
      "5400 0.0290979724\n",
      "5500 0.0282905512\n",
      "5600 0.0275249016\n",
      "5700 0.026798062\n",
      "5800 0.0261071455\n",
      "5900 0.0254496615\n",
      "6000 0.0248232484\n",
      "6100 0.0242258348\n",
      "6200 0.0236555\n",
      "6300 0.0231104773\n",
      "6400 0.0225891657\n",
      "6500 0.0220900662\n",
      "6600 0.0216118358\n",
      "6700 0.0211531632\n",
      "6800 0.0207129866\n",
      "6900 0.0202901848\n",
      "7000 0.0198837183\n",
      "7100 0.0194927752\n",
      "7200 0.019116424\n",
      "7300 0.0187539067\n",
      "7400 0.0184044912\n",
      "7500 0.0180674829\n",
      "7600 0.0177422594\n",
      "7700 0.0174281877\n",
      "7800 0.017124759\n",
      "7900 0.0168314297\n",
      "8000 0.0165477078\n",
      "8100 0.0162731148\n",
      "8200 0.0160072632\n",
      "8300 0.0157497395\n",
      "8400 0.0155001841\n",
      "8500 0.0152581427\n",
      "8600 0.0150234243\n",
      "8700 0.0147956461\n",
      "8800 0.014574457\n",
      "8900 0.014359653\n",
      "9000 0.0141508989\n",
      "9100 0.013948041\n",
      "9200 0.0137507562\n",
      "9300 0.0135588152\n",
      "9400 0.0133720636\n",
      "9500 0.0131902872\n",
      "9600 0.0130132418\n",
      "9700 0.0128408037\n",
      "9800 0.0126727894\n",
      "9900 0.0125089847\n",
      "10000 0.0123493131\n"
     ]
    }
   ],
   "source": [
    "for step in range( 10001 ):\n",
    "    Minimize( x_data, y_data )\n",
    "    if ( step % 100 == 0 ):\n",
    "        tf.print( step, Cost( x_data, y_data ) )"
   ]
  },
  {
   "cell_type": "code",
   "execution_count": 13,
   "metadata": {},
   "outputs": [
    {
     "name": "stdout",
     "output_type": "stream",
     "text": [
      "[[0.0119653707]\n",
      " [0.984087169]\n",
      " [0.988962829]\n",
      " [0.010168314]]\n",
      "[[0]\n",
      " [1]\n",
      " [1]\n",
      " [0]]\n",
      "1\r\n"
     ]
    }
   ],
   "source": [
    "X, Y = x_data, y_data\n",
    "h, c, a = Hypothesis( X ), Predict( X ), Accuracy( X, Y )\n",
    "tf.print( h, c, a, sep = '\\n' )"
   ]
  }
 ],
 "metadata": {
  "kernelspec": {
   "display_name": "Python 3",
   "language": "python",
   "name": "python3"
  },
  "language_info": {
   "codemirror_mode": {
    "name": "ipython",
    "version": 3
   },
   "file_extension": ".py",
   "mimetype": "text/x-python",
   "name": "python",
   "nbconvert_exporter": "python",
   "pygments_lexer": "ipython3",
   "version": "3.7.4"
  }
 },
 "nbformat": 4,
 "nbformat_minor": 2
}
