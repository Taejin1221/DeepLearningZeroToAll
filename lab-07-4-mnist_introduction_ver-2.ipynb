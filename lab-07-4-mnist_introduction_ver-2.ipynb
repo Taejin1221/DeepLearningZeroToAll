{
 "cells": [
  {
   "cell_type": "code",
   "execution_count": 1,
   "metadata": {},
   "outputs": [],
   "source": [
    "import tensorflow as tf\n",
    "import matplotlib.pyplot as plt\n",
    "import random"
   ]
  },
  {
   "cell_type": "code",
   "execution_count": 2,
   "metadata": {},
   "outputs": [
    {
     "name": "stdout",
     "output_type": "stream",
     "text": [
      "(60000, 28, 28) (60000,)\n"
     ]
    }
   ],
   "source": [
    "mnist = tf.keras.datasets.mnist\n",
    "( x_train, y_train ), ( x_test, y_test ) = mnist.load_data()\n",
    "\n",
    "# Nomalization\n",
    "x_train, x_test = x_train / 255.0, x_test / 255.0\n",
    "x_train = tf.cast( x_train, tf.float32 )\n",
    "x_test = tf.cast( x_test, tf.float32 )\n",
    "\n",
    "print( x_train.shape, y_train.shape )"
   ]
  },
  {
   "cell_type": "code",
   "execution_count": 3,
   "metadata": {},
   "outputs": [],
   "source": [
    "nb_classes = 10"
   ]
  },
  {
   "cell_type": "code",
   "execution_count": 5,
   "metadata": {},
   "outputs": [
    {
     "name": "stdout",
     "output_type": "stream",
     "text": [
      "(60000, 784) (10000, 784)\n"
     ]
    }
   ],
   "source": [
    "# Reshape\n",
    "x_train = tf.reshape( x_train, [ -1, 784 ] )\n",
    "x_test = tf.reshape( x_test, [ -1, 784 ] )\n",
    "print( x_train.shape, x_test.shape )"
   ]
  },
  {
   "cell_type": "code",
   "execution_count": 6,
   "metadata": {},
   "outputs": [
    {
     "name": "stdout",
     "output_type": "stream",
     "text": [
      "(60000, 10) (10000, 10)\n"
     ]
    }
   ],
   "source": [
    "# one-hot Encoding\n",
    "y_train = tf.keras.utils.to_categorical( y_train, nb_classes )\n",
    "y_test = tf.keras.utils.to_categorical( y_test, nb_classes )\n",
    "\n",
    "# or\n",
    "# y_train = tf.one_hot( tf.cast( y_train, tf.int32 ), 10 )\n",
    "# y_train = tf.reshape( y_train, [ -1, 10 ] )\n",
    "# y_test = tf.reshape( tf.one_hot( y_test, 10 ), [ -1, 10 ] )\n",
    "\n",
    "print( y_train.shape, y_test.shape )"
   ]
  },
  {
   "cell_type": "code",
   "execution_count": 7,
   "metadata": {},
   "outputs": [],
   "source": [
    "W = tf.Variable( tf.random.normal( [ 784, nb_classes ] ) )\n",
    "b = tf.Variable( tf.random.normal( [ nb_classes ] ) )"
   ]
  },
  {
   "cell_type": "code",
   "execution_count": 8,
   "metadata": {},
   "outputs": [],
   "source": [
    "@tf.function\n",
    "def Hypothesis( X ):\n",
    "    return ( tf.nn.softmax( tf.matmul( X, W ) + b ) )\n",
    "\n",
    "@tf.function\n",
    "def Cost( X, Y ):\n",
    "    return ( tf.reduce_mean( -tf.reduce_sum( Y * tf.math.log( Hypothesis( X ) ),\n",
    "                                           axis = 1 ) ) )\n",
    "\n",
    "def Minimize( X, Y ):\n",
    "    loss = lambda: Cost( X ,Y )\n",
    "    \n",
    "    tf.keras.optimizers.SGD( 0.1 ).minimize( loss, [ W, b ] )"
   ]
  },
  {
   "cell_type": "code",
   "execution_count": 9,
   "metadata": {},
   "outputs": [],
   "source": [
    "def is_correct( X, Y ):\n",
    "    return ( tf.equal( tf.argmax( Hypothesis( X ), 1 ), tf.argmax( Y, 1 ) ) )\n",
    "\n",
    "def Accuracy( X, Y ):\n",
    "    return ( tf.reduce_mean( tf.cast( is_correct( X, Y ), tf.float32 ) ) )"
   ]
  },
  {
   "cell_type": "code",
   "execution_count": 11,
   "metadata": {
    "scrolled": true
   },
   "outputs": [
    {
     "name": "stdout",
     "output_type": "stream",
     "text": [
      "Epoch: 0001, Cost: 1.023679852\n",
      "Epoch: 0002, Cost: 0.812885106\n",
      "Epoch: 0003, Cost: 0.710152090\n",
      "Epoch: 0004, Cost: 0.645471692\n",
      "Epoch: 0005, Cost: 0.599691868\n",
      "Epoch: 0006, Cost: 0.564970434\n",
      "Epoch: 0007, Cost: 0.537409723\n",
      "Epoch: 0008, Cost: 0.514818966\n",
      "Epoch: 0009, Cost: 0.495855093\n",
      "Epoch: 0010, Cost: 0.479638278\n",
      "Epoch: 0011, Cost: 0.465564638\n",
      "Epoch: 0012, Cost: 0.453201234\n",
      "Epoch: 0013, Cost: 0.442226380\n",
      "Epoch: 0014, Cost: 0.432398766\n",
      "Epoch: 0015, Cost: 0.423530608\n",
      "Learning finished\n"
     ]
    }
   ],
   "source": [
    "num_epochs = 15\n",
    "batch_size = 100\n",
    "num_iterations = int( len( x_train ) / batch_size )\n",
    "\n",
    "for epoch in range( num_epochs ):\n",
    "    avg_cost = 0\n",
    "    \n",
    "    start_batch, end_batch = 0, batch_size\n",
    "    for i in range( num_iterations ):\n",
    "        batch_xs, batch_ys = \\\n",
    "            x_train[ start_batch : end_batch ], y_train[start_batch : end_batch ]\n",
    "        \n",
    "        Minimize( batch_xs, batch_ys )\n",
    "        cost_val = Cost( batch_xs, batch_ys )\n",
    "        \n",
    "        avg_cost += cost_val / num_iterations\n",
    "        \n",
    "        start_batch = start_batch + batch_size\n",
    "        end_batch = end_batch + batch_size\n",
    "    \n",
    "    print( 'Epoch: {:04d}, Cost: {:.9f}'.format( epoch + 1, avg_cost ) )\n",
    "    \n",
    "print( 'Learning finished' )\n",
    "        \n",
    "    "
   ]
  },
  {
   "cell_type": "code",
   "execution_count": 13,
   "metadata": {},
   "outputs": [
    {
     "name": "stdout",
     "output_type": "stream",
     "text": [
      "Accuracy:  0.8916\r\n"
     ]
    }
   ],
   "source": [
    "tf.print( 'Accuracy: ', Accuracy( x_test, y_test ))"
   ]
  },
  {
   "cell_type": "code",
   "execution_count": 15,
   "metadata": {},
   "outputs": [
    {
     "name": "stdout",
     "output_type": "stream",
     "text": [
      "Label:  [8]\n",
      "Prediction:  [8]\n"
     ]
    }
   ],
   "source": [
    "r = random.randint( 0, len( x_test ) - 1 )\n",
    "tf.print( 'Label: ', tf.argmax( y_test[ r: r + 1 ], 1 ) )\n",
    "tf.print( \n",
    "    'Prediction: ', tf.argmax(Hypothesis( x_test[ r: r + 1] ), 1 ) )"
   ]
  },
  {
   "cell_type": "code",
   "execution_count": 17,
   "metadata": {},
   "outputs": [
    {
     "data": {
      "image/png": "[encoded data removed]",
      "text/plain": [
       "<Figure size 432x288 with 1 Axes>"
      ]
     },
     "metadata": {
      "needs_background": "light"
     },
     "output_type": "display_data"
    }
   ],
   "source": [
    "plt.imshow( \n",
    "    tf.reshape( x_test[ r: r + 1], [ 28, 28 ] ),\n",
    "    cmap = 'Greys',\n",
    "    interpolation = 'nearest'\n",
    ")\n",
    "plt.show()"
   ]
  }
 ],
 "metadata": {
  "kernelspec": {
   "display_name": "Python 3",
   "language": "python",
   "name": "python3"
  },
  "language_info": {
   "codemirror_mode": {
    "name": "ipython",
    "version": 3
   },
   "file_extension": ".py",
   "mimetype": "text/x-python",
   "name": "python",
   "nbconvert_exporter": "python",
   "pygments_lexer": "ipython3",
   "version": "3.7.4"
  }
 },
 "nbformat": 4,
 "nbformat_minor": 2
}
