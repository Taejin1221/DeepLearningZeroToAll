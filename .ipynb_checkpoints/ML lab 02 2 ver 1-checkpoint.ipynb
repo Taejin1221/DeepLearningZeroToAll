{
 "cells": [
  {
   "cell_type": "code",
   "execution_count": 1,
   "metadata": {},
   "outputs": [],
   "source": [
    "import tensorflow as tf"
   ]
  },
  {
   "cell_type": "code",
   "execution_count": null,
   "metadata": {},
   "outputs": [],
   "source": [
    "W = tf.Variable( tf.random_normal( [ 1 ] ), name = 'W' )\n",
    "b = tf.Variable( tf.random_normal( [ 1 ] ), name = 'b' )"
   ]
  },
  {
   "cell_type": "code",
   "execution_count": null,
   "metadata": {},
   "outputs": [],
   "source": [
    "X = tf.placeholder( tf.float32, shape = [ None ] )\n",
    "Y = tf.placeholder( tf.float32, shape = [ None ] )"
   ]
  },
  {
   "cell_type": "code",
   "execution_count": null,
   "metadata": {},
   "outputs": [],
   "source": [
    "hypothesis = X * W + b\n",
    "cost = tf.reduce_mean( tf.square( hypothesis - Y ) )"
   ]
  },
  {
   "cell_type": "code",
   "execution_count": null,
   "metadata": {},
   "outputs": [],
   "source": [
    "optimizer = tf.train.GradientDescentOptimizer( 0.01 )\n",
    "train = optimizer.minimize( cost )"
   ]
  },
  {
   "cell_type": "code",
   "execution_count": null,
   "metadata": {},
   "outputs": [],
   "source": [
    "sess = tf.Session()\n",
    "sess.run( tf.global_variables_intializer() )"
   ]
  },
  {
   "cell_type": "code",
   "execution_count": null,
   "metadata": {},
   "outputs": [],
   "source": [
    "for step in range( 2001 ):\n",
    "    cost_val, W_val, b_val, _ = \\\n",
    "        sess.run( [ cost, W, b, train ], \n",
    "                feed_dict = { X: [ 1, 2, 3 ], Y: [ 1, 2, 3 ] } )\n",
    "    if step % 200 == 0:\n",
    "        print( step, cost_val, W_val, b_val )"
   ]
  },
  {
   "cell_type": "code",
   "execution_count": null,
   "metadata": {},
   "outputs": [],
   "source": [
    "print( sess.run( hypothesis, feed_dict = { X: [ 2. 5 ] } ) )\n",
    "print( sess.run( hypothesis, feed_dict = { X: [ 2.5 ] } ) )\n",
    "print( sess.run( hypothesis, feed_dict = { X: [ 1.5, 3.5 ] } ) )"
   ]
  },
  {
   "cell_type": "code",
   "execution_count": null,
   "metadata": {},
   "outputs": [],
   "source": [
    "for step in range( 2001 ):\n",
    "    cost_val, W_val, b_val, _ = \\\n",
    "        sess.run( [ cost, W, b, train ], \n",
    "                feed_dict = { X: [ 1, 2, 3, 4, 5 ],\n",
    "                             Y: [ 2.1, 3.1, 4.1, 5.1, 6.1 ] } )\n",
    "    if step % 200 == 0:\n",
    "        print( step, cost_val, W_val, b_val )"
   ]
  },
  {
   "cell_type": "code",
   "execution_count": null,
   "metadata": {},
   "outputs": [],
   "source": [
    "print( sess.run( hypothesis, feed_dict = { X: [ 2. 5 ] } ) )\n",
    "print( sess.run( hypothesis, feed_dict = { X: [ 2.5 ] } ) )\n",
    "print( sess.run( hypothesis, feed_dict = { X: [ 1.5, 3.5 ] } ) )"
   ]
  }
 ],
 "metadata": {
  "kernelspec": {
   "display_name": "Python 3",
   "language": "python",
   "name": "python3"
  },
  "language_info": {
   "codemirror_mode": {
    "name": "ipython",
    "version": 3
   },
   "file_extension": ".py",
   "mimetype": "text/x-python",
   "name": "python",
   "nbconvert_exporter": "python",
   "pygments_lexer": "ipython3",
   "version": "3.7.4"
  }
 },
 "nbformat": 4,
 "nbformat_minor": 2
}
