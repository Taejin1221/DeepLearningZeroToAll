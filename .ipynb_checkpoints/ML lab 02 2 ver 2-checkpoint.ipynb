{
 "cells": [
  {
   "cell_type": "code",
   "execution_count": 1,
   "metadata": {},
   "outputs": [],
   "source": [
    "import tensorflow as tf"
   ]
  },
  {
   "cell_type": "code",
   "execution_count": 2,
   "metadata": {},
   "outputs": [],
   "source": [
    "W = tf.Variable( tf.random.normal( [ 1 ] ), name = 'W' )\n",
    "b = tf.Variable( tf.random.normal( [ 1 ] ), name = 'b')"
   ]
  },
  {
   "cell_type": "code",
   "execution_count": 3,
   "metadata": {},
   "outputs": [],
   "source": [
    "def Hypothesis(X):\n",
    "    return ( W * X + b )\n",
    "\n",
    "def CostFunction(X, Y):    \n",
    "    hypothesis = X * W + b\n",
    "    cost = tf.reduce_mean( tf.square( hypothesis - Y ) )\n",
    "    \n",
    "    return cost"
   ]
  },
  {
   "cell_type": "code",
   "execution_count": 4,
   "metadata": {},
   "outputs": [],
   "source": [
    "def TrainFunction(X, Y):\n",
    "    loss = lambda : CostFunction(X, Y)\n",
    "    \n",
    "    optimizer = tf.keras.optimizers.SGD( learning_rate = 0.01 )\n",
    "    optimizer.minimize( loss, [ W, b ] )"
   ]
  },
  {
   "cell_type": "code",
   "execution_count": 5,
   "metadata": {},
   "outputs": [
    {
     "name": "stdout",
     "output_type": "stream",
     "text": [
      "0 9.36676121 [-0.783773363] [1.25054073]\n",
      "200 0.160056099 [0.536460519] [1.0537343]\n",
      "400 0.0611172877 [0.713560581] [0.651143968]\n",
      "600 0.0233375672 [0.822997808] [0.402367473]\n",
      "800 0.00891141221 [0.89062351] [0.248638526]\n",
      "1000 0.00340281334 [0.932411969] [0.153643474]\n",
      "1200 0.00129936112 [0.958234787] [0.0949423]\n",
      "1400 0.000496158842 [0.974191606] [0.058668483]\n",
      "1600 0.000189459417 [0.984051943] [0.0362536237]\n",
      "1800 7.23457706e-05 [0.990144908] [0.0224028043]\n",
      "2000 2.76251758e-05 [0.993910193] [0.0138435122]\n"
     ]
    }
   ],
   "source": [
    "X = [ 1, 2, 3 ]\n",
    "Y = [ 1, 2, 3 ]\n",
    "\n",
    "# best fit W : 1, b : 0\n",
    "for step in range( 2001 ):\n",
    "    cost_val, W_val, b_val, _ = \\\n",
    "        CostFunction( X, Y ), W, b, TrainFunction( X, Y )\n",
    "    if step % 200 == 0:\n",
    "        tf.print( step, cost_val, W_val, b_val )"
   ]
  },
  {
   "cell_type": "code",
   "execution_count": 6,
   "metadata": {},
   "outputs": [
    {
     "name": "stdout",
     "output_type": "stream",
     "text": [
      "[4.98339462]\n",
      "[2.49861908]\n",
      "[1.50470877 3.49252915]\n"
     ]
    }
   ],
   "source": [
    "tf.print( Hypothesis( [ 5 ] ) ) # 5\n",
    "tf.print( Hypothesis( [ 2.5 ] ) ) # 2.5\n",
    "tf.print( Hypothesis( [ 1.5, 3.5 ] ) ) # [ 1.5, 3.5 ]"
   ]
  },
  {
   "cell_type": "code",
   "execution_count": 7,
   "metadata": {},
   "outputs": [
    {
     "name": "stdout",
     "output_type": "stream",
     "text": [
      "0 0.786654353 [1.06041932] [0.0359320268]\n",
      "200 0.0473229699 [1.14123225] [0.590106487]\n",
      "400 0.012210777 [1.07174134] [0.840990841]\n",
      "600 0.00315076159 [1.03644228] [0.968431771]\n",
      "800 0.000812989078 [1.01851141] [1.03316772]\n",
      "1000 0.000209779973 [1.00940323] [1.06605101]\n",
      "1200 5.41296431e-05 [1.0047766] [1.08275485]\n",
      "1400 1.39685844e-05 [1.00242651] [1.09123957]\n",
      "1600 3.6041863e-06 [1.00123262] [1.09555]\n",
      "1800 9.30261365e-07 [1.00062621] [1.09773922]\n",
      "2000 2.40327211e-07 [1.00031841] [1.09885085]\n"
     ]
    }
   ],
   "source": [
    "X = [ 1, 2, 3, 4, 5 ]\n",
    "Y = [ 2.1, 3.1, 4.1, 5.1, 6.1 ]\n",
    "\n",
    "# best fit W : 1, b : 1.1\n",
    "for step in range( 2001 ):\n",
    "    TrainFunction( X, Y )\n",
    "    if step % 200 == 0:\n",
    "        tf.print( step, CostFunction( X, Y ), W, b )"
   ]
  },
  {
   "cell_type": "code",
   "execution_count": 8,
   "metadata": {},
   "outputs": [
    {
     "name": "stdout",
     "output_type": "stream",
     "text": [
      "[6.10044289]\n",
      "[3.59964705]\n",
      "[2.59932852 4.5999651]\n"
     ]
    }
   ],
   "source": [
    "tf.print( Hypothesis( [ 5 ] ) ) # 6.1\n",
    "tf.print( Hypothesis( [ 2.5 ] ) ) # 3.6\n",
    "tf.print( Hypothesis( [ 1.5, 3.5 ] ) ) # [ 2.6, 4.6 ]"
   ]
  }
 ],
 "metadata": {
  "kernelspec": {
   "display_name": "Python 3",
   "language": "python",
   "name": "python3"
  },
  "language_info": {
   "codemirror_mode": {
    "name": "ipython",
    "version": 3
   },
   "file_extension": ".py",
   "mimetype": "text/x-python",
   "name": "python",
   "nbconvert_exporter": "python",
   "pygments_lexer": "ipython3",
   "version": "3.7.4"
  }
 },
 "nbformat": 4,
 "nbformat_minor": 2
}
