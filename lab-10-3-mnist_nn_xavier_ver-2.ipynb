{
 "cells": [
  {
   "cell_type": "code",
   "execution_count": 1,
   "metadata": {},
   "outputs": [],
   "source": [
    "import tensorflow as tf\n",
    "import random"
   ]
  },
  {
   "cell_type": "code",
   "execution_count": 2,
   "metadata": {},
   "outputs": [
    {
     "name": "stdout",
     "output_type": "stream",
     "text": [
      "(60000, 28, 28) (60000,)\n"
     ]
    }
   ],
   "source": [
    "mnist = tf.keras.datasets.mnist\n",
    "( x_train, y_train ), ( x_test, y_test ) = mnist.load_data()\n",
    "\n",
    "# Nomalization\n",
    "x_train, x_test = x_train / 255.0, x_test / 255.0\n",
    "x_train = tf.cast( x_train, tf.float32 )\n",
    "x_test = tf.cast( x_test, tf.float32 )\n",
    "\n",
    "print( x_train.shape, y_train.shape )"
   ]
  },
  {
   "cell_type": "code",
   "execution_count": 3,
   "metadata": {},
   "outputs": [],
   "source": [
    "nb_classes = 10"
   ]
  },
  {
   "cell_type": "code",
   "execution_count": 4,
   "metadata": {},
   "outputs": [
    {
     "name": "stdout",
     "output_type": "stream",
     "text": [
      "(60000, 784) (10000, 784)\n"
     ]
    }
   ],
   "source": [
    "# Reshape\n",
    "x_train = tf.reshape( x_train, [ -1, 784 ] )\n",
    "x_test = tf.reshape( x_test, [ -1, 784 ] )\n",
    "print( x_train.shape, x_test.shape )"
   ]
  },
  {
   "cell_type": "code",
   "execution_count": 5,
   "metadata": {},
   "outputs": [
    {
     "name": "stdout",
     "output_type": "stream",
     "text": [
      "(60000, 10) (10000, 10)\n"
     ]
    }
   ],
   "source": [
    "# one-hot Encoding\n",
    "y_train = tf.keras.utils.to_categorical( y_train, nb_classes )\n",
    "y_test = tf.keras.utils.to_categorical( y_test, nb_classes )\n",
    "\n",
    "print( y_train.shape, y_test.shape )"
   ]
  },
  {
   "cell_type": "code",
   "execution_count": 6,
   "metadata": {},
   "outputs": [],
   "source": [
    "learning_rate = 0.001\n",
    "training_epochs = 15\n",
    "batch_size = 100"
   ]
  },
  {
   "cell_type": "code",
   "execution_count": 8,
   "metadata": {},
   "outputs": [],
   "source": [
    "xavier = tf.keras.initializers.GlorotUniform()\n",
    "W1 = tf.Variable( xavier( [ 784, 256 ] ) )\n",
    "b1 = tf.Variable( tf.random.normal( [ 256 ] ) )\n",
    "def Layer1( X ):\n",
    "    return ( tf.nn.relu( tf.matmul( X, W1 ) + b1 ) )\n",
    "\n",
    "W2 = tf.Variable( xavier( [ 256, 256 ] ) )\n",
    "b2 = tf.Variable( tf.random.normal( [ 256 ] ) )\n",
    "def Layer2( X ):\n",
    "    return ( tf.nn.relu( tf.matmul( Layer1( X ), W2 ) + b2 ) )\n",
    "\n",
    "W3 = tf.Variable( xavier( [ 256, nb_classes ] ) )\n",
    "b3 = tf.Variable( tf.random.normal( [ nb_classes ] ) )\n",
    "@tf.function\n",
    "def Hypothesis( X ):\n",
    "    return (  tf.matmul( Layer2( X ), W3 ) + b3 )"
   ]
  },
  {
   "cell_type": "code",
   "execution_count": 9,
   "metadata": {},
   "outputs": [],
   "source": [
    "@tf.function\n",
    "def Cost( X, Y ):\n",
    "    return ( tf.reduce_mean(\n",
    "        tf.nn.softmax_cross_entropy_with_logits(\n",
    "            logits = Hypothesis( X ), labels = Y )\n",
    "    ) )\n",
    "\n",
    "def Minimize( X, Y ):\n",
    "    loss = lambda: Cost( X ,Y )\n",
    "    \n",
    "    tf.keras.optimizers.Adam( learning_rate ).minimize( loss, [ W1, W2, W3, b1, b2, b3 ] )"
   ]
  },
  {
   "cell_type": "code",
   "execution_count": 10,
   "metadata": {},
   "outputs": [],
   "source": [
    "def CorrectPrediction( X, Y ):\n",
    "    return ( tf.equal( tf.argmax( Hypothesis( X ), axis = 1 ),\n",
    "                      tf.argmax( Y, axis = 1 ) ) )\n",
    "\n",
    "def Accuracy( X, Y ):\n",
    "    return ( tf.reduce_mean( tf.cast( CorrectPrediction( X, Y ), tf.float32 ) ) )"
   ]
  },
  {
   "cell_type": "code",
   "execution_count": 11,
   "metadata": {
    "scrolled": false
   },
   "outputs": [
    {
     "name": "stdout",
     "output_type": "stream",
     "text": [
      "Epoch: 0001, Cost: 0.206731141\n",
      "Epoch: 0002, Cost: 0.057357077\n",
      "Epoch: 0003, Cost: 0.040945623\n",
      "Epoch: 0004, Cost: 0.034725025\n",
      "Epoch: 0005, Cost: 0.031204341\n",
      "Epoch: 0006, Cost: 0.030347325\n",
      "Epoch: 0007, Cost: 0.029546689\n",
      "Epoch: 0008, Cost: 0.026658753\n",
      "Epoch: 0009, Cost: 0.025776757\n",
      "Epoch: 0010, Cost: 0.024853013\n",
      "Epoch: 0011, Cost: 0.024018224\n",
      "Epoch: 0012, Cost: 0.020779150\n",
      "Epoch: 0013, Cost: 0.021980627\n",
      "Epoch: 0014, Cost: 0.019082764\n",
      "Epoch: 0015, Cost: 0.019101530\n",
      "Learning finished\n"
     ]
    }
   ],
   "source": [
    "for epoch in range( training_epochs ):\n",
    "    avg_cost = 0\n",
    "    total_batch = int( len( x_train ) / batch_size )\n",
    "    \n",
    "    start_batch, end_batch = 0, batch_size\n",
    "    for i in range( total_batch ):\n",
    "        batch_xs, batch_ys = \\\n",
    "            x_train[ start_batch : end_batch ], y_train[start_batch : end_batch ]\n",
    "        \n",
    "        Minimize( batch_xs, batch_ys )\n",
    "        cost_val = Cost( batch_xs, batch_ys )\n",
    "        \n",
    "        avg_cost += cost_val / total_batch\n",
    "        \n",
    "        start_batch = start_batch + batch_size\n",
    "        end_batch = end_batch + batch_size\n",
    "    \n",
    "    print( 'Epoch: {:04d}, Cost: {:.9f}'.format( epoch + 1, avg_cost ) )\n",
    "    \n",
    "print( 'Learning finished' )\n",
    "        \n",
    "    "
   ]
  },
  {
   "cell_type": "code",
   "execution_count": 12,
   "metadata": {},
   "outputs": [
    {
     "name": "stdout",
     "output_type": "stream",
     "text": [
      "Accuracy:  0.9705\r\n"
     ]
    }
   ],
   "source": [
    "tf.print( 'Accuracy: ', Accuracy( x_test, y_test ))"
   ]
  },
  {
   "cell_type": "code",
   "execution_count": 13,
   "metadata": {},
   "outputs": [
    {
     "name": "stdout",
     "output_type": "stream",
     "text": [
      "Label:  [9]\n",
      "Prediction:  [9]\n"
     ]
    }
   ],
   "source": [
    "r = random.randint( 0, len( x_test ) - 1 )\n",
    "tf.print( 'Label: ', tf.argmax( y_test[ r: r + 1 ], axis = 1 ) )\n",
    "tf.print( \n",
    "    'Prediction: ', tf.argmax(Hypothesis( x_test[ r: r + 1] ), axis = 1 ) )"
   ]
  }
 ],
 "metadata": {
  "kernelspec": {
   "display_name": "Python 3",
   "language": "python",
   "name": "python3"
  },
  "language_info": {
   "codemirror_mode": {
    "name": "ipython",
    "version": 3
   },
   "file_extension": ".py",
   "mimetype": "text/x-python",
   "name": "python",
   "nbconvert_exporter": "python",
   "pygments_lexer": "ipython3",
   "version": "3.7.4"
  }
 },
 "nbformat": 4,
 "nbformat_minor": 2
}
