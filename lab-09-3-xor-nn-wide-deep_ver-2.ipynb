{
 "cells": [
  {
   "cell_type": "code",
   "execution_count": 1,
   "metadata": {},
   "outputs": [],
   "source": [
    "import tensorflow as tf\n",
    "import numpy as np"
   ]
  },
  {
   "cell_type": "code",
   "execution_count": 2,
   "metadata": {},
   "outputs": [],
   "source": [
    "x_data = np.array( [\n",
    "    [ 0, 0 ],\n",
    "    [ 0, 1 ],\n",
    "    [ 1, 0 ],\n",
    "    [ 1, 1 ],\n",
    "], dtype = np.float32 )\n",
    "\n",
    "y_data = np.array( [\n",
    "    [ 0 ],\n",
    "    [ 1 ],\n",
    "    [ 1 ],\n",
    "    [ 0 ]\n",
    "], dtype = np.float32 )"
   ]
  },
  {
   "cell_type": "code",
   "execution_count": 3,
   "metadata": {},
   "outputs": [],
   "source": [
    "W1 = tf.Variable( tf.random.normal( [ 2, 10 ] ), name = 'weight1' )\n",
    "b1 = tf.Variable( tf.random.normal( [ 10 ] ), name = 'bias' )\n",
    "\n",
    "W2 = tf.Variable( tf.random.normal( [ 10, 10 ] ), name = 'weight2' )\n",
    "b2 = tf.Variable( tf.random.normal( [ 10 ] ), name = 'bias2' )\n",
    "\n",
    "W3 = tf.Variable( tf.random.normal( [ 10, 10 ] ), name = 'weight3' )\n",
    "b3 = tf.Variable( tf.random.normal( [ 10 ] ), name = 'bias3' )\n",
    "\n",
    "W4 = tf.Variable( tf.random.normal( [ 10, 1 ] ), name = 'weight4' )\n",
    "b4 = tf.Variable( tf.random.normal( [ 1 ] ), name = 'bias4' )"
   ]
  },
  {
   "cell_type": "code",
   "execution_count": 4,
   "metadata": {},
   "outputs": [],
   "source": [
    "@tf.function\n",
    "def Layer1( X ):\n",
    "    return ( tf.math.sigmoid( tf.matmul( X, W1 ) + b1 ) )\n",
    "\n",
    "@tf.function\n",
    "def Layer2( X ):\n",
    "    return ( tf.math.sigmoid( tf.matmul( Layer1( X ), W2 ) + b2 ) )\n",
    "\n",
    "@tf.function\n",
    "def Layer3( X ):\n",
    "    return ( tf.math.sigmoid( tf.matmul( Layer2( X ), W3 ) + b3 ) )\n",
    "\n",
    "@tf.function\n",
    "def Hypothesis( X ):\n",
    "    return ( tf.math.sigmoid( tf.matmul( Layer3( X ), W4 ) + b4 ) )\n",
    "\n",
    "@tf.function\n",
    "def Cost( X, Y ):\n",
    "    hypothesis = Hypothesis( X )\n",
    "    former = Y * tf.math.log( hypothesis )\n",
    "    latter = tf.subtract( 1., Y ) * tf.math.log( 1. - hypothesis )\n",
    "    return ( -tf.reduce_mean( former + latter ) )\n",
    "\n",
    "def Minimize( X, Y ):\n",
    "    loss = lambda: Cost( X, Y )\n",
    "    \n",
    "    tf.keras.optimizers.SGD( 0.1 ).minimize( loss, [ W1, W2, W3, W4,\n",
    "                                                    b1, b2, b3, b4 ] )"
   ]
  },
  {
   "cell_type": "code",
   "execution_count": 5,
   "metadata": {},
   "outputs": [],
   "source": [
    "def Predict( X ):\n",
    "    return ( tf.cast( Hypothesis( X ) > 0.5, dtype = tf.float32 ) )\n",
    "\n",
    "def Accuracy( X, Y ):\n",
    "    return ( tf.reduce_mean( tf.cast( tf.equal( Predict( X ), Y ),\n",
    "                                     dtype = tf.float32 ) ) )"
   ]
  },
  {
   "cell_type": "code",
   "execution_count": 6,
   "metadata": {
    "scrolled": true
   },
   "outputs": [
    {
     "name": "stdout",
     "output_type": "stream",
     "text": [
      "0 0.716045\n",
      "100 0.690850496\n",
      "200 0.676600456\n",
      "300 0.663356662\n",
      "400 0.647470713\n",
      "500 0.626950622\n",
      "600 0.601232767\n",
      "700 0.571336806\n",
      "800 0.538339078\n",
      "900 0.500916719\n",
      "1000 0.454353273\n",
      "1100 0.392138898\n",
      "1200 0.312357754\n",
      "1300 0.227578864\n",
      "1400 0.157363147\n",
      "1500 0.108691812\n",
      "1600 0.0773152038\n",
      "1700 0.0571781546\n",
      "1800 0.043932464\n",
      "1900 0.034913756\n",
      "2000 0.0285480563\n",
      "2100 0.0239010751\n",
      "2200 0.020405408\n",
      "2300 0.0177060086\n",
      "2400 0.0155736916\n",
      "2500 0.0138559919\n",
      "2600 0.0124485772\n",
      "2700 0.0112782596\n",
      "2800 0.0102923224\n",
      "2900 0.00945228152\n",
      "3000 0.00872927718\n",
      "3100 0.00810135063\n",
      "3200 0.00755163841\n",
      "3300 0.00706692552\n",
      "3400 0.00663669081\n",
      "3500 0.00625257194\n",
      "3600 0.00590779912\n",
      "3700 0.00559677277\n",
      "3800 0.0053149513\n",
      "3900 0.00505853631\n",
      "4000 0.00482431846\n",
      "4100 0.00460963231\n",
      "4200 0.00441217516\n",
      "4300 0.00423008064\n",
      "4400 0.00406163558\n",
      "4500 0.00390533637\n",
      "4600 0.00376005541\n",
      "4700 0.00362468185\n",
      "4800 0.00349819381\n",
      "4900 0.00337979617\n",
      "5000 0.00326876855\n",
      "5100 0.00316446484\n",
      "5200 0.00306630065\n",
      "5300 0.00297372113\n",
      "5400 0.00288638053\n",
      "5500 0.00280371029\n",
      "5600 0.00272549922\n",
      "5700 0.00265131402\n",
      "5800 0.00258083921\n",
      "5900 0.00251389481\n",
      "6000 0.0024501821\n",
      "6100 0.00238950527\n",
      "6200 0.0023315954\n",
      "6300 0.00227630278\n",
      "6400 0.00222350704\n",
      "6500 0.00217292458\n",
      "6600 0.00212456984\n",
      "6700 0.00207820325\n",
      "6800 0.00203373516\n",
      "6900 0.00199104613\n",
      "7000 0.00195003068\n",
      "7100 0.00191059988\n",
      "7200 0.0018726933\n",
      "7300 0.00183622143\n",
      "7400 0.00180106459\n",
      "7500 0.00176717783\n",
      "7600 0.00173448643\n",
      "7700 0.00170294545\n",
      "7800 0.00167251\n",
      "7900 0.00164303079\n",
      "8000 0.00161458226\n",
      "8100 0.00158705993\n",
      "8200 0.00156043388\n",
      "8300 0.00153464428\n",
      "8400 0.00150970602\n",
      "8500 0.00148546975\n",
      "8600 0.00146198028\n",
      "8700 0.0014392226\n",
      "8800 0.00141712208\n",
      "8900 0.0013956636\n",
      "9000 0.00137483235\n",
      "9100 0.00135456864\n",
      "9200 0.00133488723\n",
      "9300 0.00131575821\n",
      "9400 0.0012971668\n",
      "9500 0.00127905316\n",
      "9600 0.00126140239\n",
      "9700 0.00124424417\n",
      "9800 0.00122750411\n",
      "9900 0.00121121202\n",
      "10000 0.00119527802\n"
     ]
    }
   ],
   "source": [
    "for step in range( 10001 ):\n",
    "    Minimize( x_data, y_data )\n",
    "    if ( step % 100 == 0 ):\n",
    "        tf.print( step, Cost( x_data, y_data ) )"
   ]
  },
  {
   "cell_type": "code",
   "execution_count": 7,
   "metadata": {},
   "outputs": [
    {
     "name": "stdout",
     "output_type": "stream",
     "text": [
      "[[0.0012099389]\n",
      " [0.999064624]\n",
      " [0.998716235]\n",
      " [0.00134917267]]\n",
      "[[0]\n",
      " [1]\n",
      " [1]\n",
      " [0]]\n",
      "1\r\n"
     ]
    }
   ],
   "source": [
    "X, Y = x_data, y_data\n",
    "h, c, a = Hypothesis( X ), Predict( X ), Accuracy( X, Y )\n",
    "tf.print( h, c, a, sep = '\\n' )"
   ]
  }
 ],
 "metadata": {
  "kernelspec": {
   "display_name": "Python 3",
   "language": "python",
   "name": "python3"
  },
  "language_info": {
   "codemirror_mode": {
    "name": "ipython",
    "version": 3
   },
   "file_extension": ".py",
   "mimetype": "text/x-python",
   "name": "python",
   "nbconvert_exporter": "python",
   "pygments_lexer": "ipython3",
   "version": "3.7.4"
  }
 },
 "nbformat": 4,
 "nbformat_minor": 2
}
