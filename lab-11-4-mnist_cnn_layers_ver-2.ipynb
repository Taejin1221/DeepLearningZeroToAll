{
 "cells": [
  {
   "cell_type": "code",
   "execution_count": 1,
   "metadata": {},
   "outputs": [],
   "source": [
    "import tensorflow as tf"
   ]
  },
  {
   "cell_type": "code",
   "execution_count": 9,
   "metadata": {},
   "outputs": [
    {
     "name": "stdout",
     "output_type": "stream",
     "text": [
      "(60000, 28, 28, 1) (60000, 10)\n"
     ]
    }
   ],
   "source": [
    "( x_train, y_train ), ( x_test, y_test ) = tf.keras.datasets.mnist.load_data()\n",
    "\n",
    "x_train = x_train / 255.0\n",
    "x_test = x_test / 255.0\n",
    "\n",
    "x_train = x_train.reshape( -1, 28, 28, 1  )\n",
    "x_test = x_test.reshape( -1, 28, 28, 1 )\n",
    "\n",
    "y_train = tf.keras.utils.to_categorical( y_train, 10 )\n",
    "y_test = tf.keras.utils.to_categorical( y_test, 10 )\n",
    "print( x_train.shape, y_train.shape )"
   ]
  },
  {
   "cell_type": "code",
   "execution_count": 3,
   "metadata": {},
   "outputs": [],
   "source": [
    "learning_rate = 0.001\n",
    "training_epochs = 15\n",
    "batch_size = 100"
   ]
  },
  {
   "cell_type": "code",
   "execution_count": 4,
   "metadata": {},
   "outputs": [],
   "source": [
    "m1 = tf.keras.Sequential()"
   ]
  },
  {
   "cell_type": "code",
   "execution_count": 5,
   "metadata": {},
   "outputs": [],
   "source": [
    "# layer 1\n",
    "m1.add( tf.keras.layers.Conv2D( filters = 32, kernel_size = [ 3, 3 ],\n",
    "                               padding = 'SAME', activation = 'relu' ) )\n",
    "m1.add( tf.keras.layers.MaxPooling2D( pool_size = [ 2, 2 ],\n",
    "                                    padding = 'SAME', strides = 2 ) )\n",
    "m1.add( tf.keras.layers.Dropout( 0.3 ) )\n",
    "\n",
    "# layer 2\n",
    "m1.add( tf.keras.layers.Conv2D( filters = 64, kernel_size = [ 3, 3 ],\n",
    "                              padding = 'SAME', activation = 'relu' ) )\n",
    "m1.add( tf.keras.layers.MaxPooling2D( pool_size = [ 2, 2 ],\n",
    "                                    padding = 'SAME', strides = 2 ) )\n",
    "m1.add( tf.keras.layers.Dropout( 0.3 ) )\n",
    "\n",
    "# layer 3\n",
    "m1.add( tf.keras.layers.Conv2D( filters = 128, kernel_size = [ 3, 3 ],\n",
    "                              padding = 'SAME', activation = 'relu' ) )\n",
    "m1.add( tf.keras.layers.MaxPooling2D( pool_size = [ 2, 2 ],\n",
    "                                    padding = 'SAME', strides = 2 ) )\n",
    "m1.add( tf.keras.layers.Dropout( 0.3 ) )\n",
    "\n",
    "m1.add( tf.keras.layers.Flatten() )\n",
    "m1.add( tf.keras.layers.Dense( units = 625, activation = 'relu' ) )\n",
    "m1.add( tf.keras.layers.Dropout( 0.5 ) )\n",
    "\n",
    "m1.add( tf.keras.layers.Dense( units = 10, activation = 'softmax' ) )"
   ]
  },
  {
   "cell_type": "code",
   "execution_count": 11,
   "metadata": {
    "scrolled": false
   },
   "outputs": [
    {
     "name": "stdout",
     "output_type": "stream",
     "text": [
      "Train on 60000 samples\n",
      "Epoch 1/15\n",
      "60000/60000 [==============================] - 5s 76us/sample - loss: 0.2706 - accuracy: 0.9114\n",
      "Epoch 2/15\n",
      "60000/60000 [==============================] - 3s 54us/sample - loss: 0.0823 - accuracy: 0.9746\n",
      "Epoch 3/15\n",
      "60000/60000 [==============================] - 3s 55us/sample - loss: 0.0641 - accuracy: 0.9807\n",
      "Epoch 4/15\n",
      "60000/60000 [==============================] - 3s 55us/sample - loss: 0.0554 - accuracy: 0.9828\n",
      "Epoch 5/15\n",
      "60000/60000 [==============================] - 3s 53us/sample - loss: 0.0468 - accuracy: 0.9851\n",
      "Epoch 6/15\n",
      "60000/60000 [==============================] - 3s 53us/sample - loss: 0.0426 - accuracy: 0.9864\n",
      "Epoch 7/15\n",
      "60000/60000 [==============================] - 3s 54us/sample - loss: 0.0385 - accuracy: 0.9874\n",
      "Epoch 8/15\n",
      "60000/60000 [==============================] - 3s 54us/sample - loss: 0.0380 - accuracy: 0.9878\n",
      "Epoch 9/15\n",
      "60000/60000 [==============================] - 3s 54us/sample - loss: 0.0328 - accuracy: 0.9896\n",
      "Epoch 10/15\n",
      "60000/60000 [==============================] - 3s 54us/sample - loss: 0.0319 - accuracy: 0.9899\n",
      "Epoch 11/15\n",
      "60000/60000 [==============================] - 3s 54us/sample - loss: 0.0309 - accuracy: 0.9903\n",
      "Epoch 12/15\n",
      "60000/60000 [==============================] - 3s 53us/sample - loss: 0.0305 - accuracy: 0.9904\n",
      "Epoch 13/15\n",
      "60000/60000 [==============================] - 3s 53us/sample - loss: 0.0274 - accuracy: 0.9914\n",
      "Epoch 14/15\n",
      "60000/60000 [==============================] - 3s 53us/sample - loss: 0.0280 - accuracy: 0.9913\n",
      "Epoch 15/15\n",
      "60000/60000 [==============================] - 3s 53us/sample - loss: 0.0257 - accuracy: 0.9918\n"
     ]
    },
    {
     "data": {
      "text/plain": [
       "<tensorflow.python.keras.callbacks.History at 0x1e68659d808>"
      ]
     },
     "execution_count": 11,
     "metadata": {},
     "output_type": "execute_result"
    }
   ],
   "source": [
    "m1.compile( loss = 'categorical_crossentropy',\n",
    "           optimizer = tf.keras.optimizers.Adam( learning_rate ), metrics = [ 'accuracy' ] )\n",
    "\n",
    "m1.fit( x_train, y_train, batch_size = batch_size, epochs = training_epochs )"
   ]
  },
  {
   "cell_type": "code",
   "execution_count": 17,
   "metadata": {},
   "outputs": [
    {
     "name": "stdout",
     "output_type": "stream",
     "text": [
      "10000/10000 [==============================] - 1s 57us/sample - loss: 0.0186 - accuracy: 0.9943\n",
      "loss: 0.018634079, Accuracy: 99.43%\n"
     ]
    }
   ],
   "source": [
    "evaluation = m1.evaluate( x_test, y_test )\n",
    "print( 'loss: {:.9f}, Accuracy: {:.2f}%'.format( evaluation[0], evaluation[1] * 100 ) )"
   ]
  }
 ],
 "metadata": {
  "kernelspec": {
   "display_name": "Python 3",
   "language": "python",
   "name": "python3"
  },
  "language_info": {
   "codemirror_mode": {
    "name": "ipython",
    "version": 3
   },
   "file_extension": ".py",
   "mimetype": "text/x-python",
   "name": "python",
   "nbconvert_exporter": "python",
   "pygments_lexer": "ipython3",
   "version": "3.7.4"
  }
 },
 "nbformat": 4,
 "nbformat_minor": 2
}
