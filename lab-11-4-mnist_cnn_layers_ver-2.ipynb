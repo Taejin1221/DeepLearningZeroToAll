{
 "cells": [
  {
   "cell_type": "code",
   "execution_count": 1,
   "metadata": {},
   "outputs": [],
   "source": [
    "import tensorflow as tf"
   ]
  },
  {
   "cell_type": "code",
   "execution_count": 2,
   "metadata": {},
   "outputs": [
    {
     "name": "stdout",
     "output_type": "stream",
     "text": [
      "(60000, 28, 28, 1) (60000, 10)\n"
     ]
    }
   ],
   "source": [
    "( x_train, y_train ), ( x_test, y_test ) = tf.keras.datasets.mnist.load_data()\n",
    "\n",
    "x_train = x_train / 255.0\n",
    "x_test = x_test / 255.0\n",
    "\n",
    "x_train = x_train.reshape( -1, 28, 28, 1  )\n",
    "x_test = x_test.reshape( -1, 28, 28, 1 )\n",
    "\n",
    "y_train = tf.keras.utils.to_categorical( y_train, 10 )\n",
    "y_test = tf.keras.utils.to_categorical( y_test, 10 )\n",
    "print( x_train.shape, y_train.shape )"
   ]
  },
  {
   "cell_type": "code",
   "execution_count": 3,
   "metadata": {},
   "outputs": [],
   "source": [
    "learning_rate = 0.001\n",
    "training_epochs = 15\n",
    "batch_size = 100"
   ]
  },
  {
   "cell_type": "code",
   "execution_count": 4,
   "metadata": {},
   "outputs": [],
   "source": [
    "m1 = tf.keras.Sequential()"
   ]
  },
  {
   "cell_type": "code",
   "execution_count": 5,
   "metadata": {},
   "outputs": [],
   "source": [
    "# layer 1\n",
    "m1.add( tf.keras.layers.Conv2D( filters = 32, kernel_size = [ 3, 3 ],\n",
    "                               padding = 'SAME', activation = 'relu' ) )\n",
    "m1.add( tf.keras.layers.MaxPooling2D( pool_size = [ 2, 2 ],\n",
    "                                    padding = 'SAME', strides = 2 ) )\n",
    "m1.add( tf.keras.layers.Dropout( 0.3 ) )\n",
    "\n",
    "# layer 2\n",
    "m1.add( tf.keras.layers.Conv2D( filters = 64, kernel_size = [ 3, 3 ],\n",
    "                              padding = 'SAME', activation = 'relu' ) )\n",
    "m1.add( tf.keras.layers.MaxPooling2D( pool_size = [ 2, 2 ],\n",
    "                                    padding = 'SAME', strides = 2 ) )\n",
    "m1.add( tf.keras.layers.Dropout( 0.3 ) )\n",
    "\n",
    "# layer 3\n",
    "m1.add( tf.keras.layers.Conv2D( filters = 128, kernel_size = [ 3, 3 ],\n",
    "                              padding = 'SAME', activation = 'relu' ) )\n",
    "m1.add( tf.keras.layers.MaxPooling2D( pool_size = [ 2, 2 ],\n",
    "                                    padding = 'SAME', strides = 2 ) )\n",
    "m1.add( tf.keras.layers.Dropout( 0.3 ) )\n",
    "\n",
    "# Fully connected Layer\n",
    "m1.add( tf.keras.layers.Flatten() )\n",
    "m1.add( tf.keras.layers.Dense( units = 625, activation = 'relu' ) )\n",
    "m1.add( tf.keras.layers.Dropout( 0.5 ) )\n",
    "\n",
    "# Output Layer\n",
    "m1.add( tf.keras.layers.Dense( units = 10, activation = 'softmax' ) )"
   ]
  },
  {
   "cell_type": "code",
   "execution_count": 6,
   "metadata": {
    "scrolled": true
   },
   "outputs": [
    {
     "name": "stdout",
     "output_type": "stream",
     "text": [
      "Train on 60000 samples\n",
      "Epoch 1/15\n",
      "60000/60000 [==============================] - 4s 72us/sample - loss: 0.2652 - accuracy: 0.9135\n",
      "Epoch 2/15\n",
      "60000/60000 [==============================] - 3s 52us/sample - loss: 0.0839 - accuracy: 0.9743\n",
      "Epoch 3/15\n",
      "60000/60000 [==============================] - 3s 52us/sample - loss: 0.0625 - accuracy: 0.9806\n",
      "Epoch 4/15\n",
      "60000/60000 [==============================] - 3s 52us/sample - loss: 0.0540 - accuracy: 0.9833\n",
      "Epoch 5/15\n",
      "60000/60000 [==============================] - 3s 52us/sample - loss: 0.0489 - accuracy: 0.9845\n",
      "Epoch 6/15\n",
      "60000/60000 [==============================] - 3s 51us/sample - loss: 0.0402 - accuracy: 0.9874\n",
      "Epoch 7/15\n",
      "60000/60000 [==============================] - 3s 52us/sample - loss: 0.0403 - accuracy: 0.9879\n",
      "Epoch 8/15\n",
      "60000/60000 [==============================] - 3s 51us/sample - loss: 0.0347 - accuracy: 0.9890\n",
      "Epoch 9/15\n",
      "60000/60000 [==============================] - 3s 52us/sample - loss: 0.0328 - accuracy: 0.9898\n",
      "Epoch 10/15\n",
      "60000/60000 [==============================] - 3s 51us/sample - loss: 0.0324 - accuracy: 0.9898s - loss: 0.032\n",
      "Epoch 11/15\n",
      "60000/60000 [==============================] - 3s 51us/sample - loss: 0.0305 - accuracy: 0.9904\n",
      "Epoch 12/15\n",
      "60000/60000 [==============================] - 3s 52us/sample - loss: 0.0309 - accuracy: 0.9902\n",
      "Epoch 13/15\n",
      "60000/60000 [==============================] - 3s 51us/sample - loss: 0.0271 - accuracy: 0.9908\n",
      "Epoch 14/15\n",
      "60000/60000 [==============================] - 3s 52us/sample - loss: 0.0268 - accuracy: 0.9916\n",
      "Epoch 15/15\n",
      "60000/60000 [==============================] - 3s 51us/sample - loss: 0.0258 - accuracy: 0.9920\n"
     ]
    },
    {
     "data": {
      "text/plain": [
       "<tensorflow.python.keras.callbacks.History at 0x1f4b793a648>"
      ]
     },
     "execution_count": 6,
     "metadata": {},
     "output_type": "execute_result"
    }
   ],
   "source": [
    "m1.compile( loss = 'categorical_crossentropy',\n",
    "           optimizer = tf.keras.optimizers.Adam( learning_rate ),\n",
    "           metrics = [ 'accuracy' ] )\n",
    "\n",
    "m1.fit( x_train, y_train, batch_size = batch_size, epochs = training_epochs )"
   ]
  },
  {
   "cell_type": "code",
   "execution_count": 7,
   "metadata": {},
   "outputs": [
    {
     "name": "stdout",
     "output_type": "stream",
     "text": [
      "10000/10000 [==============================] - 1s 68us/sample - loss: 0.0200 - accuracy: 0.9942\n",
      "loss: 0.020000690, Accuracy: 99.42%\n"
     ]
    }
   ],
   "source": [
    "evaluation = m1.evaluate( x_test, y_test )\n",
    "print( 'loss: {:.9f}, Accuracy: {:.2f}%'.format( evaluation[0], evaluation[1] * 100 ) )"
   ]
  }
 ],
 "metadata": {
  "kernelspec": {
   "display_name": "Python 3",
   "language": "python",
   "name": "python3"
  },
  "language_info": {
   "codemirror_mode": {
    "name": "ipython",
    "version": 3
   },
   "file_extension": ".py",
   "mimetype": "text/x-python",
   "name": "python",
   "nbconvert_exporter": "python",
   "pygments_lexer": "ipython3",
   "version": "3.7.4"
  }
 },
 "nbformat": 4,
 "nbformat_minor": 2
}
