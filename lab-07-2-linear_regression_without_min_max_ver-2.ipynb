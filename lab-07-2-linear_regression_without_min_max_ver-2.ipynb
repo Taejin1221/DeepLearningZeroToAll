{
 "cells": [
  {
   "cell_type": "code",
   "execution_count": 1,
   "metadata": {},
   "outputs": [],
   "source": [
    "import tensorflow as tf\n",
    "import numpy as np"
   ]
  },
  {
   "cell_type": "code",
   "execution_count": 2,
   "metadata": {},
   "outputs": [
    {
     "name": "stdout",
     "output_type": "stream",
     "text": [
      "(8, 4) (8, 1)\n"
     ]
    }
   ],
   "source": [
    "xy = np.array(\n",
    "    [\n",
    "        [ 828.659973, 833.450012, 908100, 828.349976, 831.659973 ],\n",
    "        [ 823.02002, 828.070007, 1828100, 821.655029, 828.070007 ],\n",
    "        [ 819.929993, 824.400024, 1438100, 818.97998, 824.159973 ],\n",
    "        [ 816, 820.958984, 1008100, 815.48999, 819.23999 ],\n",
    "        [ 819.359985, 823, 1188100, 818.469971, 818.97998 ],\n",
    "        [ 819, 823, 1198100, 816, 820.450012 ],\n",
    "        [ 811.700012, 815.25, 1098100, 809.780029, 813.669983 ],\n",
    "        [ 809.51001, 816.659973, 1398100, 804.539978, 809.559998 ]\n",
    "]\n",
    "    , dtype = np.float32\n",
    ")\n",
    "x_data = xy[ :, 0 : -1 ]\n",
    "y_data = xy[ :, [ -1 ] ]\n",
    "\n",
    "print( x_data.shape, y_data.shape )"
   ]
  },
  {
   "cell_type": "code",
   "execution_count": 3,
   "metadata": {},
   "outputs": [],
   "source": [
    "W = tf.Variable( tf.random.normal( [ 4, 1 ] ), name = 'weight' )\n",
    "b = tf.Variable( tf.random.normal( [ 1 ] ), name = 'bias' )"
   ]
  },
  {
   "cell_type": "code",
   "execution_count": 4,
   "metadata": {},
   "outputs": [],
   "source": [
    "@tf.function\n",
    "def Hypothesis( X ):\n",
    "    return tf.matmul( X, W ) + b\n",
    "\n",
    "@tf.function\n",
    "def Cost( X, Y ):\n",
    "    return (\n",
    "        tf.reduce_mean( tf.square( Hypothesis( X ) - Y ) )\n",
    "    )\n",
    "\n",
    "def Minimize( X, Y ):\n",
    "    loss = lambda: Cost( X, Y )\n",
    "    tf.keras.optimizers.SGD( 1e-5 ).minimize( loss, [ W, b ] )"
   ]
  },
  {
   "cell_type": "code",
   "execution_count": 5,
   "metadata": {},
   "outputs": [
    {
     "name": "stdout",
     "output_type": "stream",
     "text": [
      "Step:  0 Cost:  3.74725211e+27\n",
      "Step:  20 Cost:  nan\n",
      "Step:  40 Cost:  nan\n",
      "Step:  60 Cost:  nan\n",
      "Step:  80 Cost:  nan\n",
      "Step:  100 Cost:  nan\n",
      "Step:  120 Cost:  nan\n",
      "Step:  140 Cost:  nan\n",
      "Step:  160 Cost:  nan\n",
      "Step:  180 Cost:  nan\n",
      "Step:  200 Cost:  nan\n"
     ]
    }
   ],
   "source": [
    "for step in range( 201 ):\n",
    "    Minimize( x_data, y_data )\n",
    "    if ( step % 20 == 0 ):\n",
    "        tf.print( 'Step: ', step, 'Cost: ', Cost( x_data, y_data ) )"
   ]
  }
 ],
 "metadata": {
  "kernelspec": {
   "display_name": "Python 3",
   "language": "python",
   "name": "python3"
  },
  "language_info": {
   "codemirror_mode": {
    "name": "ipython",
    "version": 3
   },
   "file_extension": ".py",
   "mimetype": "text/x-python",
   "name": "python",
   "nbconvert_exporter": "python",
   "pygments_lexer": "ipython3",
   "version": "3.7.4"
  }
 },
 "nbformat": 4,
 "nbformat_minor": 2
}
