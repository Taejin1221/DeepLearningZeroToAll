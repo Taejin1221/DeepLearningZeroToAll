{
 "cells": [
  {
   "cell_type": "code",
   "execution_count": 1,
   "metadata": {},
   "outputs": [],
   "source": [
    "import tensorflow as tf\n",
    "import numpy as np"
   ]
  },
  {
   "cell_type": "code",
   "execution_count": 2,
   "metadata": {},
   "outputs": [],
   "source": [
    "xy = np.loadtxt( 'Data/data-04-zoo.csv', delimiter = ',', dtype = np.float32 )\n",
    "x_data = xy[ :, 0 : -1 ]\n",
    "y_data = xy[ :, [ -1 ] ]\n",
    "nb_classes = 7"
   ]
  },
  {
   "cell_type": "code",
   "execution_count": 3,
   "metadata": {},
   "outputs": [],
   "source": [
    "W = tf.Variable( tf.random.normal( [ 16, nb_classes ] ), name = 'weight' )\n",
    "b = tf.Variable( tf.random.normal( [ nb_classes ] ), name = 'bias' )"
   ]
  },
  {
   "cell_type": "code",
   "execution_count": 4,
   "metadata": {},
   "outputs": [],
   "source": [
    "@tf.function\n",
    "def Logit( X ):\n",
    "    return ( tf.matmul( X, W ) + b )\n",
    "\n",
    "def Hypothesis( X ):\n",
    "    return ( tf.nn.softmax( Logit( X ) ) )\n",
    "\n",
    "def Cost( X, Y ):\n",
    "    logit = Logit( X )\n",
    "    \n",
    "    cost_i = tf.nn.softmax_cross_entropy_with_logits( \n",
    "        tf.stop_gradient( [ Y ] ), logit )\n",
    "    return ( tf.reduce_mean( cost_i ) )\n",
    "\n",
    "def Minimize( X, Y ):\n",
    "    loss = lambda : Cost( X, Y )\n",
    "    tf.keras.optimizers.SGD( 0.01 ).minimize( loss, [ W, b ] )"
   ]
  },
  {
   "cell_type": "code",
   "execution_count": 5,
   "metadata": {},
   "outputs": [],
   "source": [
    "def Prediction( X ):\n",
    "    return ( tf.math.argmax( Hypothesis( X ), 1 ) )\n",
    "\n",
    "def Accuracy( X, Y ):\n",
    "    correct_prediction = tf.equal( Prediction( X ), tf.argmax( Y, 1 ) )\n",
    "    \n",
    "    return tf.reduce_mean( tf.cast( correct_prediction, tf.float32 ) )"
   ]
  },
  {
   "cell_type": "code",
   "execution_count": 6,
   "metadata": {},
   "outputs": [
    {
     "name": "stdout",
     "output_type": "stream",
     "text": [
      "Step:     0\tCost: 6.375\tAcc: 0.01\n",
      "Step:   200\tCost: 2.087\tAcc: 0.44\n",
      "Step:   400\tCost: 1.472\tAcc: 0.59\n",
      "Step:   600\tCost: 1.074\tAcc: 0.71\n",
      "Step:   800\tCost: 0.852\tAcc: 0.77\n",
      "Step:  1000\tCost: 0.736\tAcc: 0.86\n",
      "Step:  1200\tCost: 0.661\tAcc: 0.86\n",
      "Step:  1400\tCost: 0.606\tAcc: 0.86\n",
      "Step:  1600\tCost: 0.562\tAcc: 0.86\n",
      "Step:  1800\tCost: 0.525\tAcc: 0.86\n",
      "Step:  2000\tCost: 0.493\tAcc: 0.86\n"
     ]
    }
   ],
   "source": [
    "X = x_data\n",
    "Y = y_data\n",
    "Y_one_hot = tf.one_hot( tf.cast( Y, dtype = tf.int32 ), nb_classes )\n",
    "Y_one_hot = tf.reshape( Y_one_hot, [ -1, nb_classes ] )\n",
    "\n",
    "for step in range( 2001 ):\n",
    "    Minimize( X, Y_one_hot )\n",
    "    cost_val = Cost( X, Y_one_hot )\n",
    "    acc_val = Accuracy( X, Y_one_hot )\n",
    "    if ( step % 200 == 0 ):\n",
    "        print('Step: {:5}\\tCost: {:.3f}\\tAcc: {:.2f}'.format( step, cost_val, acc_val ) )"
   ]
  },
  {
   "cell_type": "code",
   "execution_count": 7,
   "metadata": {},
   "outputs": [
    {
     "name": "stdout",
     "output_type": "stream",
     "text": [
      "[True] Prediction: 0 True Y: 0\n",
      "[True] Prediction: 0 True Y: 0\n",
      "[True] Prediction: 3 True Y: 3\n",
      "[True] Prediction: 0 True Y: 0\n",
      "[True] Prediction: 0 True Y: 0\n",
      "[True] Prediction: 0 True Y: 0\n",
      "[True] Prediction: 0 True Y: 0\n",
      "[False] Prediction: 2 True Y: 3\n",
      "[True] Prediction: 3 True Y: 3\n",
      "[True] Prediction: 0 True Y: 0\n",
      "[True] Prediction: 0 True Y: 0\n",
      "[True] Prediction: 1 True Y: 1\n",
      "[True] Prediction: 3 True Y: 3\n",
      "[False] Prediction: 3 True Y: 6\n",
      "[True] Prediction: 6 True Y: 6\n",
      "[True] Prediction: 6 True Y: 6\n",
      "[True] Prediction: 1 True Y: 1\n",
      "[True] Prediction: 0 True Y: 0\n",
      "[True] Prediction: 3 True Y: 3\n",
      "[True] Prediction: 0 True Y: 0\n",
      "[True] Prediction: 1 True Y: 1\n",
      "[True] Prediction: 1 True Y: 1\n",
      "[True] Prediction: 0 True Y: 0\n",
      "[True] Prediction: 1 True Y: 1\n",
      "[True] Prediction: 5 True Y: 5\n",
      "[False] Prediction: 0 True Y: 4\n",
      "[False] Prediction: 6 True Y: 4\n",
      "[True] Prediction: 0 True Y: 0\n",
      "[True] Prediction: 0 True Y: 0\n",
      "[True] Prediction: 0 True Y: 0\n",
      "[True] Prediction: 5 True Y: 5\n",
      "[True] Prediction: 0 True Y: 0\n",
      "[True] Prediction: 0 True Y: 0\n",
      "[True] Prediction: 1 True Y: 1\n",
      "[True] Prediction: 3 True Y: 3\n",
      "[True] Prediction: 0 True Y: 0\n",
      "[True] Prediction: 0 True Y: 0\n",
      "[True] Prediction: 1 True Y: 1\n",
      "[True] Prediction: 3 True Y: 3\n",
      "[True] Prediction: 5 True Y: 5\n",
      "[True] Prediction: 5 True Y: 5\n",
      "[True] Prediction: 1 True Y: 1\n",
      "[True] Prediction: 5 True Y: 5\n",
      "[True] Prediction: 1 True Y: 1\n",
      "[True] Prediction: 0 True Y: 0\n",
      "[True] Prediction: 0 True Y: 0\n",
      "[True] Prediction: 6 True Y: 6\n",
      "[True] Prediction: 0 True Y: 0\n",
      "[True] Prediction: 0 True Y: 0\n",
      "[True] Prediction: 0 True Y: 0\n",
      "[True] Prediction: 0 True Y: 0\n",
      "[True] Prediction: 5 True Y: 5\n",
      "[False] Prediction: 0 True Y: 4\n",
      "[True] Prediction: 6 True Y: 6\n",
      "[True] Prediction: 0 True Y: 0\n",
      "[True] Prediction: 0 True Y: 0\n",
      "[True] Prediction: 1 True Y: 1\n",
      "[True] Prediction: 1 True Y: 1\n",
      "[True] Prediction: 1 True Y: 1\n",
      "[True] Prediction: 1 True Y: 1\n",
      "[True] Prediction: 3 True Y: 3\n",
      "[True] Prediction: 3 True Y: 3\n",
      "[False] Prediction: 1 True Y: 2\n",
      "[True] Prediction: 0 True Y: 0\n",
      "[True] Prediction: 0 True Y: 0\n",
      "[True] Prediction: 0 True Y: 0\n",
      "[True] Prediction: 0 True Y: 0\n",
      "[True] Prediction: 0 True Y: 0\n",
      "[True] Prediction: 0 True Y: 0\n",
      "[True] Prediction: 0 True Y: 0\n",
      "[True] Prediction: 0 True Y: 0\n",
      "[True] Prediction: 1 True Y: 1\n",
      "[False] Prediction: 5 True Y: 6\n",
      "[True] Prediction: 3 True Y: 3\n",
      "[True] Prediction: 0 True Y: 0\n",
      "[True] Prediction: 0 True Y: 0\n",
      "[False] Prediction: 3 True Y: 2\n",
      "[True] Prediction: 6 True Y: 6\n",
      "[True] Prediction: 1 True Y: 1\n",
      "[True] Prediction: 1 True Y: 1\n",
      "[False] Prediction: 1 True Y: 2\n",
      "[False] Prediction: 2 True Y: 6\n",
      "[True] Prediction: 3 True Y: 3\n",
      "[True] Prediction: 1 True Y: 1\n",
      "[True] Prediction: 0 True Y: 0\n",
      "[True] Prediction: 6 True Y: 6\n",
      "[True] Prediction: 3 True Y: 3\n",
      "[True] Prediction: 1 True Y: 1\n",
      "[True] Prediction: 5 True Y: 5\n",
      "[False] Prediction: 6 True Y: 4\n",
      "[False] Prediction: 1 True Y: 2\n",
      "[False] Prediction: 4 True Y: 2\n",
      "[True] Prediction: 3 True Y: 3\n",
      "[True] Prediction: 0 True Y: 0\n",
      "[True] Prediction: 0 True Y: 0\n",
      "[True] Prediction: 1 True Y: 1\n",
      "[True] Prediction: 0 True Y: 0\n",
      "[True] Prediction: 5 True Y: 5\n",
      "[True] Prediction: 0 True Y: 0\n",
      "[False] Prediction: 2 True Y: 6\n",
      "[True] Prediction: 1 True Y: 1\n"
     ]
    }
   ],
   "source": [
    "pred = Prediction( x_data )\n",
    "for p, y in zip( pred, y_data.flatten() ):\n",
    "    print( '[{}] Prediction: {} True Y: {}'.format( p == int(y), p, int(y) ) )"
   ]
  }
 ],
 "metadata": {
  "kernelspec": {
   "display_name": "Python 3",
   "language": "python",
   "name": "python3"
  },
  "language_info": {
   "codemirror_mode": {
    "name": "ipython",
    "version": 3
   },
   "file_extension": ".py",
   "mimetype": "text/x-python",
   "name": "python",
   "nbconvert_exporter": "python",
   "pygments_lexer": "ipython3",
   "version": "3.7.4"
  }
 },
 "nbformat": 4,
 "nbformat_minor": 2
}
