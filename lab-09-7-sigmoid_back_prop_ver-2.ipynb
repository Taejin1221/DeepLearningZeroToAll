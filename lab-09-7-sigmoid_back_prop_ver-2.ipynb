{
 "cells": [
  {
   "cell_type": "code",
   "execution_count": 1,
   "metadata": {},
   "outputs": [],
   "source": [
    "import tensorflow as tf\n",
    "import numpy as np"
   ]
  },
  {
   "cell_type": "code",
   "execution_count": 2,
   "metadata": {},
   "outputs": [],
   "source": [
    "xy = np.loadtxt( 'Data/data-04-zoo.csv', delimiter = ',', dtype = np.float32 )\n",
    "X_data = xy[ :, 0 : -1 ]\n",
    "N = X_data.shape[0]\n",
    "y_data = xy[ :, [ -1 ] ]"
   ]
  },
  {
   "cell_type": "code",
   "execution_count": 3,
   "metadata": {},
   "outputs": [
    {
     "name": "stdout",
     "output_type": "stream",
     "text": [
      "y has one of the following values\n",
      "[0. 1. 2. 3. 4. 5. 6.]\n"
     ]
    }
   ],
   "source": [
    "print( 'y has one of the following values' )\n",
    "print( np.unique( y_data ) )"
   ]
  },
  {
   "cell_type": "code",
   "execution_count": 4,
   "metadata": {},
   "outputs": [
    {
     "name": "stdout",
     "output_type": "stream",
     "text": [
      "Shape of X data:  (101, 16)\n",
      "Shape of y data:  (101, 1)\n"
     ]
    }
   ],
   "source": [
    "print( 'Shape of X data: ', X_data.shape )\n",
    "print( 'Shape of y data: ', y_data.shape )"
   ]
  },
  {
   "cell_type": "code",
   "execution_count": 5,
   "metadata": {},
   "outputs": [],
   "source": [
    "nb_classes = 7"
   ]
  },
  {
   "cell_type": "code",
   "execution_count": 6,
   "metadata": {},
   "outputs": [],
   "source": [
    "target = tf.one_hot( tf.cast( y_data, tf.int32 ), nb_classes )\n",
    "target = tf.reshape( target, [ -1, nb_classes ] )\n",
    "target = tf.cast( target, tf.float32 )"
   ]
  },
  {
   "cell_type": "code",
   "execution_count": 7,
   "metadata": {},
   "outputs": [],
   "source": [
    "W = tf.Variable( tf.random.normal( [ 16, nb_classes ] ), name = 'weight' )\n",
    "b = tf.Variable( tf.random.normal( [ nb_classes ] ), name = 'bias' )"
   ]
  },
  {
   "cell_type": "code",
   "execution_count": 8,
   "metadata": {},
   "outputs": [],
   "source": [
    "def sigma( X ):\n",
    "    return 1. / ( 1. + tf.exp( -X ) )\n",
    "\n",
    "def sigma_prime( X ):\n",
    "    return sigma( X ) * ( 1. - sigma( X ) )"
   ]
  },
  {
   "cell_type": "code",
   "execution_count": 9,
   "metadata": {},
   "outputs": [],
   "source": [
    "def Hypothesis( X ):\n",
    "    return ( sigma( tf.matmul( X, W ) + b ) )\n",
    "\n",
    "def Loss( X, Y ):\n",
    "    y_pred = Hypothesis( X )\n",
    "    loss_i = -Y * tf.math.log( y_pred ) - ( 1. - Y ) * tf.math.log( 1. - y_pred )\n",
    "    return ( tf.reduce_sum( loss_i ) )"
   ]
  },
  {
   "cell_type": "code",
   "execution_count": 10,
   "metadata": {},
   "outputs": [],
   "source": [
    "def d_loss( X, Y ):\n",
    "    y_pred = Hypothesis( X )\n",
    "    \n",
    "    return ( ( y_pred - Y ) / ( y_pred * ( 1. - y_pred ) + 1e-7 ) )\n",
    "\n",
    "def d_sigma( X ):\n",
    "    return ( sigma_prime( tf.matmul( X, W ) + b ) )\n",
    "\n",
    "d_layer = lambda X, Y: d_loss( X, Y ) * d_sigma( X )\n",
    "d_b = lambda X, Y: d_layer( X, Y )\n",
    "d_W = lambda X, Y: tf.matmul( tf.transpose( X ), d_layer( X, Y ) )"
   ]
  },
  {
   "cell_type": "code",
   "execution_count": 11,
   "metadata": {},
   "outputs": [],
   "source": [
    "learning_rate = 0.01\n",
    "def Train_step( X, Y ):\n",
    "    return ( [\n",
    "        W.assign( W - learning_rate * d_W( X, Y ) ),\n",
    "        b.assign( b - learning_rate * tf.reduce_sum( d_b( X, Y ) ) )\n",
    "             ])\n",
    "\n",
    "prediction = lambda X: tf.argmax( Hypothesis( X ), 1 )\n",
    "\n",
    "def Acct( X, Y ):\n",
    "    acct_mat = tf.equal( tf.argmax( Hypothesis( X ), 1 ), tf.argmax( Y, 1 ) )\n",
    "    \n",
    "    return ( tf.reduce_mean( tf.cast( acct_mat, tf.float32 ) ) )"
   ]
  },
  {
   "cell_type": "code",
   "execution_count": 12,
   "metadata": {
    "scrolled": true
   },
   "outputs": [
    {
     "name": "stdout",
     "output_type": "stream",
     "text": [
      "Step:     0\t Loss:  355.59796\t Acc: 38.61%\n",
      "Step:    10\t Loss:  116.58677\t Acc: 84.16%\n",
      "Step:    20\t Loss:   90.54292\t Acc: 87.13%\n",
      "Step:    30\t Loss:   76.35056\t Acc: 90.10%\n",
      "Step:    40\t Loss:   66.74164\t Acc: 92.08%\n",
      "Step:    50\t Loss:   59.62422\t Acc: 92.08%\n",
      "Step:    60\t Loss:   54.08026\t Acc: 94.06%\n",
      "Step:    70\t Loss:   49.61725\t Acc: 95.05%\n",
      "Step:    80\t Loss:   45.93731\t Acc: 95.05%\n",
      "Step:    90\t Loss:   42.84523\t Acc: 96.04%\n",
      "Step:   100\t Loss:   40.20546\t Acc: 97.03%\n",
      "Step:   110\t Loss:   37.92023\t Acc: 97.03%\n",
      "Step:   120\t Loss:   35.91748\t Acc: 97.03%\n",
      "Step:   130\t Loss:   34.14330\t Acc: 97.03%\n",
      "Step:   140\t Loss:   32.55695\t Acc: 97.03%\n",
      "Step:   150\t Loss:   31.12724\t Acc: 97.03%\n",
      "Step:   160\t Loss:   29.82996\t Acc: 97.03%\n",
      "Step:   170\t Loss:   28.64606\t Acc: 97.03%\n",
      "Step:   180\t Loss:   27.56029\t Acc: 97.03%\n",
      "Step:   190\t Loss:   26.56026\t Acc: 97.03%\n",
      "Step:   200\t Loss:   25.63576\t Acc: 98.02%\n",
      "Step:   210\t Loss:   24.77825\t Acc: 98.02%\n",
      "Step:   220\t Loss:   23.98050\t Acc: 100.00%\n",
      "Step:   230\t Loss:   23.23633\t Acc: 100.00%\n",
      "Step:   240\t Loss:   22.54040\t Acc: 100.00%\n",
      "Step:   250\t Loss:   21.88808\t Acc: 100.00%\n",
      "Step:   260\t Loss:   21.27531\t Acc: 100.00%\n",
      "Step:   270\t Loss:   20.69850\t Acc: 100.00%\n",
      "Step:   280\t Loss:   20.15450\t Acc: 100.00%\n",
      "Step:   290\t Loss:   19.64050\t Acc: 100.00%\n",
      "Step:   300\t Loss:   19.15401\t Acc: 100.00%\n",
      "Step:   310\t Loss:   18.69281\t Acc: 100.00%\n",
      "Step:   320\t Loss:   18.25491\t Acc: 100.00%\n",
      "Step:   330\t Loss:   17.83852\t Acc: 100.00%\n",
      "Step:   340\t Loss:   17.44203\t Acc: 100.00%\n",
      "Step:   350\t Loss:   17.06401\t Acc: 100.00%\n",
      "Step:   360\t Loss:   16.70313\t Acc: 100.00%\n",
      "Step:   370\t Loss:   16.35822\t Acc: 100.00%\n",
      "Step:   380\t Loss:   16.02821\t Acc: 100.00%\n",
      "Step:   390\t Loss:   15.71210\t Acc: 100.00%\n",
      "Step:   400\t Loss:   15.40902\t Acc: 100.00%\n",
      "Step:   410\t Loss:   15.11814\t Acc: 100.00%\n",
      "Step:   420\t Loss:   14.83871\t Acc: 100.00%\n",
      "Step:   430\t Loss:   14.57005\t Acc: 100.00%\n",
      "Step:   440\t Loss:   14.31152\t Acc: 100.00%\n",
      "Step:   450\t Loss:   14.06255\t Acc: 100.00%\n",
      "Step:   460\t Loss:   13.82260\t Acc: 100.00%\n",
      "Step:   470\t Loss:   13.59116\t Acc: 100.00%\n",
      "Step:   480\t Loss:   13.36779\t Acc: 100.00%\n",
      "Step:   490\t Loss:   13.15205\t Acc: 100.00%\n"
     ]
    }
   ],
   "source": [
    "for step in range( 500 ):\n",
    "    Train_step( X_data, target )\n",
    "    \n",
    "    if step % 10 == 0:\n",
    "        step_loss = Loss( X_data, target )\n",
    "        acc = Acct( X_data, target )\n",
    "        \n",
    "        print( 'Step: {:5}\\t Loss: {:10.5f}\\t Acc: {:.2%}'.format(\n",
    "            step, step_loss, acc))"
   ]
  },
  {
   "cell_type": "code",
   "execution_count": 13,
   "metadata": {},
   "outputs": [
    {
     "name": "stdout",
     "output_type": "stream",
     "text": [
      "[True]\t Prediction: 0\t True y: 0\n",
      "[True]\t Prediction: 0\t True y: 0\n",
      "[True]\t Prediction: 3\t True y: 3\n",
      "[True]\t Prediction: 0\t True y: 0\n",
      "[True]\t Prediction: 0\t True y: 0\n",
      "[True]\t Prediction: 0\t True y: 0\n",
      "[True]\t Prediction: 0\t True y: 0\n",
      "[True]\t Prediction: 3\t True y: 3\n",
      "[True]\t Prediction: 3\t True y: 3\n",
      "[True]\t Prediction: 0\t True y: 0\n",
      "[True]\t Prediction: 0\t True y: 0\n",
      "[True]\t Prediction: 1\t True y: 1\n",
      "[True]\t Prediction: 3\t True y: 3\n",
      "[True]\t Prediction: 6\t True y: 6\n",
      "[True]\t Prediction: 6\t True y: 6\n",
      "[True]\t Prediction: 6\t True y: 6\n",
      "[True]\t Prediction: 1\t True y: 1\n",
      "[True]\t Prediction: 0\t True y: 0\n",
      "[True]\t Prediction: 3\t True y: 3\n",
      "[True]\t Prediction: 0\t True y: 0\n",
      "[True]\t Prediction: 1\t True y: 1\n",
      "[True]\t Prediction: 1\t True y: 1\n",
      "[True]\t Prediction: 0\t True y: 0\n",
      "[True]\t Prediction: 1\t True y: 1\n",
      "[True]\t Prediction: 5\t True y: 5\n",
      "[True]\t Prediction: 4\t True y: 4\n",
      "[True]\t Prediction: 4\t True y: 4\n",
      "[True]\t Prediction: 0\t True y: 0\n",
      "[True]\t Prediction: 0\t True y: 0\n",
      "[True]\t Prediction: 0\t True y: 0\n",
      "[True]\t Prediction: 5\t True y: 5\n",
      "[True]\t Prediction: 0\t True y: 0\n",
      "[True]\t Prediction: 0\t True y: 0\n",
      "[True]\t Prediction: 1\t True y: 1\n",
      "[True]\t Prediction: 3\t True y: 3\n",
      "[True]\t Prediction: 0\t True y: 0\n",
      "[True]\t Prediction: 0\t True y: 0\n",
      "[True]\t Prediction: 1\t True y: 1\n",
      "[True]\t Prediction: 3\t True y: 3\n",
      "[True]\t Prediction: 5\t True y: 5\n",
      "[True]\t Prediction: 5\t True y: 5\n",
      "[True]\t Prediction: 1\t True y: 1\n",
      "[True]\t Prediction: 5\t True y: 5\n",
      "[True]\t Prediction: 1\t True y: 1\n",
      "[True]\t Prediction: 0\t True y: 0\n",
      "[True]\t Prediction: 0\t True y: 0\n",
      "[True]\t Prediction: 6\t True y: 6\n",
      "[True]\t Prediction: 0\t True y: 0\n",
      "[True]\t Prediction: 0\t True y: 0\n",
      "[True]\t Prediction: 0\t True y: 0\n",
      "[True]\t Prediction: 0\t True y: 0\n",
      "[True]\t Prediction: 5\t True y: 5\n",
      "[True]\t Prediction: 4\t True y: 4\n",
      "[True]\t Prediction: 6\t True y: 6\n",
      "[True]\t Prediction: 0\t True y: 0\n",
      "[True]\t Prediction: 0\t True y: 0\n",
      "[True]\t Prediction: 1\t True y: 1\n",
      "[True]\t Prediction: 1\t True y: 1\n",
      "[True]\t Prediction: 1\t True y: 1\n",
      "[True]\t Prediction: 1\t True y: 1\n",
      "[True]\t Prediction: 3\t True y: 3\n",
      "[True]\t Prediction: 3\t True y: 3\n",
      "[True]\t Prediction: 2\t True y: 2\n",
      "[True]\t Prediction: 0\t True y: 0\n",
      "[True]\t Prediction: 0\t True y: 0\n",
      "[True]\t Prediction: 0\t True y: 0\n",
      "[True]\t Prediction: 0\t True y: 0\n",
      "[True]\t Prediction: 0\t True y: 0\n",
      "[True]\t Prediction: 0\t True y: 0\n",
      "[True]\t Prediction: 0\t True y: 0\n",
      "[True]\t Prediction: 0\t True y: 0\n",
      "[True]\t Prediction: 1\t True y: 1\n",
      "[True]\t Prediction: 6\t True y: 6\n",
      "[True]\t Prediction: 3\t True y: 3\n",
      "[True]\t Prediction: 0\t True y: 0\n",
      "[True]\t Prediction: 0\t True y: 0\n",
      "[True]\t Prediction: 2\t True y: 2\n",
      "[True]\t Prediction: 6\t True y: 6\n",
      "[True]\t Prediction: 1\t True y: 1\n",
      "[True]\t Prediction: 1\t True y: 1\n",
      "[True]\t Prediction: 2\t True y: 2\n",
      "[True]\t Prediction: 6\t True y: 6\n",
      "[True]\t Prediction: 3\t True y: 3\n",
      "[True]\t Prediction: 1\t True y: 1\n",
      "[True]\t Prediction: 0\t True y: 0\n",
      "[True]\t Prediction: 6\t True y: 6\n",
      "[True]\t Prediction: 3\t True y: 3\n",
      "[True]\t Prediction: 1\t True y: 1\n",
      "[True]\t Prediction: 5\t True y: 5\n",
      "[True]\t Prediction: 4\t True y: 4\n",
      "[True]\t Prediction: 2\t True y: 2\n",
      "[True]\t Prediction: 2\t True y: 2\n",
      "[True]\t Prediction: 3\t True y: 3\n",
      "[True]\t Prediction: 0\t True y: 0\n",
      "[True]\t Prediction: 0\t True y: 0\n",
      "[True]\t Prediction: 1\t True y: 1\n",
      "[True]\t Prediction: 0\t True y: 0\n",
      "[True]\t Prediction: 5\t True y: 5\n",
      "[True]\t Prediction: 0\t True y: 0\n",
      "[True]\t Prediction: 6\t True y: 6\n",
      "[True]\t Prediction: 1\t True y: 1\n"
     ]
    }
   ],
   "source": [
    "pred = prediction( X_data )\n",
    "for p, y in zip( pred, y_data ):\n",
    "    msg = '[{}]\\t Prediction: {:d}\\t True y: {:d}'\n",
    "    print( msg.format( p == int( y[0] ), p, int( y[0] ) ) )"
   ]
  }
 ],
 "metadata": {
  "kernelspec": {
   "display_name": "Python 3",
   "language": "python",
   "name": "python3"
  },
  "language_info": {
   "codemirror_mode": {
    "name": "ipython",
    "version": 3
   },
   "file_extension": ".py",
   "mimetype": "text/x-python",
   "name": "python",
   "nbconvert_exporter": "python",
   "pygments_lexer": "ipython3",
   "version": "3.7.4"
  }
 },
 "nbformat": 4,
 "nbformat_minor": 2
}
