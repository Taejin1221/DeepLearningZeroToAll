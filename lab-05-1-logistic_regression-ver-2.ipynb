{
 "cells": [
  {
   "cell_type": "code",
   "execution_count": 1,
   "metadata": {},
   "outputs": [],
   "source": [
    "import tensorflow as tf"
   ]
  },
  {
   "cell_type": "code",
   "execution_count": 2,
   "metadata": {},
   "outputs": [],
   "source": [
    "x_data = [\n",
    "    [ 1., 2. ],\n",
    "    [ 2., 3. ],\n",
    "    [ 3., 1. ],\n",
    "    [ 4., 3. ],\n",
    "    [ 5., 3. ],\n",
    "    [ 6., 2. ]\n",
    "]\n",
    "\n",
    "y_data = [\n",
    "    [ 0 ],\n",
    "    [ 0 ],\n",
    "    [ 0 ],\n",
    "    [ 1 ],\n",
    "    [ 1 ],\n",
    "    [ 1 ]\n",
    "]"
   ]
  },
  {
   "cell_type": "code",
   "execution_count": 3,
   "metadata": {},
   "outputs": [],
   "source": [
    "W = tf.Variable( tf.random.normal( [ 2 ,1 ] ), name = 'weight' )\n",
    "b = tf.Variable( tf.random.normal( [ 1 ] ), name = 'bias' )"
   ]
  },
  {
   "cell_type": "code",
   "execution_count": 4,
   "metadata": {},
   "outputs": [],
   "source": [
    "@tf.function\n",
    "def Hypothesis( X ):\n",
    "    return ( tf.math.sigmoid( tf.matmul( X, W ) + b ) )\n",
    "\n",
    "@tf.function\n",
    "def Cost( X, Y ):\n",
    "    hypothesis = Hypothesis( X )\n",
    "    \n",
    "    former = Y * tf.math.log( hypothesis )\n",
    "    \n",
    "    # Y가 Tensor가 아니라면 (1 - Y)는 연산이 되지 않기 때문에 tf.subtract를 사용해준다.\n",
    "    # 이후 tf.math.log는 float32 type이기 때문에 cast를 해준다.\n",
    "    latter = tf.cast( tf.subtract( 1, Y ), dtype = tf.float32 ) * tf.math.log( 1 - hypothesis )\n",
    "    \n",
    "    # Y가 Tensor라면 문제 없다.\n",
    "    # latter = ( 1 - Y ) * tf.math.log( 1 - hypothesis )\n",
    "    \n",
    "    cost = - tf.reduce_mean( former + latter )\n",
    "    \n",
    "    return cost\n",
    "\n",
    "def train( X, Y ):\n",
    "    loss = lambda : Cost( X, Y )\n",
    "    tf.keras.optimizers.SGD( 0.01 ).minimize( loss, [ W, b ] )\n",
    "    \n",
    "def Predicted( X ):\n",
    "    return ( tf.cast( Hypothesis( X ) > 0.5, dtype = tf.float32 ) )\n",
    "\n",
    "def Accuracy( X, Y ):\n",
    "    return ( tf.reduce_mean(\n",
    "        tf.cast( tf.equal( Predicted( X ), Y ), dtype = tf.float32 ) ) )"
   ]
  },
  {
   "cell_type": "code",
   "execution_count": 5,
   "metadata": {
    "scrolled": true
   },
   "outputs": [
    {
     "name": "stdout",
     "output_type": "stream",
     "text": [
      "0 1.55374622\n",
      "200 0.683629274\n",
      "400 0.627913952\n",
      "600 0.591484368\n",
      "800 0.563604653\n",
      "1000 0.540066123\n",
      "1200 0.519046605\n",
      "1400 0.49969241\n",
      "1600 0.481577605\n",
      "1800 0.464476317\n",
      "2000 0.448260665\n",
      "2200 0.432852298\n",
      "2400 0.418197364\n",
      "2600 0.404254407\n",
      "2800 0.390988439\n",
      "3000 0.378367454\n",
      "3200 0.366360873\n",
      "3400 0.354939252\n",
      "3600 0.344073802\n",
      "3800 0.33373633\n",
      "4000 0.323899388\n",
      "4200 0.314536393\n",
      "4400 0.305621654\n",
      "4600 0.297130644\n",
      "4800 0.28903982\n",
      "5000 0.281326741\n",
      "5200 0.273970217\n",
      "5400 0.266949952\n",
      "5600 0.260246903\n",
      "5800 0.253843039\n",
      "6000 0.247721568\n",
      "6200 0.241866365\n",
      "6400 0.236262515\n",
      "6600 0.230896115\n",
      "6800 0.225753665\n",
      "7000 0.22082305\n",
      "7200 0.216092631\n",
      "7400 0.211551413\n",
      "7600 0.207189247\n",
      "7800 0.202996671\n",
      "8000 0.198964462\n",
      "8200 0.195084527\n",
      "8400 0.191348836\n",
      "8600 0.18775\n",
      "8800 0.184281066\n",
      "9000 0.180935442\n",
      "9200 0.177707136\n",
      "9400 0.174590364\n",
      "9600 0.171579793\n",
      "9800 0.168670163\n",
      "10000 0.165856808\n"
     ]
    }
   ],
   "source": [
    "X = x_data\n",
    "Y = y_data\n",
    "\n",
    "# Convert Y to tensor\n",
    "# Y = tf.convert_to_tensor( y_data, dtype = tf.float32 )\n",
    "\n",
    "for step in range( 10001 ):\n",
    "    cost_val = Cost( X, Y )\n",
    "    train( X, Y )\n",
    "    if ( step % 200 == 0 ):\n",
    "        tf.print( step, cost_val )"
   ]
  },
  {
   "cell_type": "code",
   "execution_count": 6,
   "metadata": {},
   "outputs": [
    {
     "name": "stdout",
     "output_type": "stream",
     "text": [
      "Hypothesis \n",
      "[[0.0379101261]\n",
      " [0.167555466]\n",
      " [0.337522268]\n",
      " [0.766835749]\n",
      " [0.930041]\n",
      " [0.977024]]\n",
      "Correct \n",
      "[[0]\n",
      " [0]\n",
      " [0]\n",
      " [1]\n",
      " [1]\n",
      " [1]]\n",
      "Accuracy \n",
      "1\n"
     ]
    }
   ],
   "source": [
    "h, c, a = Hypothesis( X ), Predicted( X ), Accuracy( X, Y )\n",
    "tf.print( 'Hypothesis ', h, sep = '\\n' )\n",
    "tf.print( 'Correct ', c, sep = '\\n' )\n",
    "tf.print( 'Accuracy ', a, sep = '\\n' )"
   ]
  }
 ],
 "metadata": {
  "kernelspec": {
   "display_name": "Python 3",
   "language": "python",
   "name": "python3"
  },
  "language_info": {
   "codemirror_mode": {
    "name": "ipython",
    "version": 3
   },
   "file_extension": ".py",
   "mimetype": "text/x-python",
   "name": "python",
   "nbconvert_exporter": "python",
   "pygments_lexer": "ipython3",
   "version": "3.7.4"
  }
 },
 "nbformat": 4,
 "nbformat_minor": 2
}
