{
 "cells": [
  {
   "cell_type": "code",
   "execution_count": 1,
   "metadata": {},
   "outputs": [],
   "source": [
    "import tensorflow as tf\n",
    "import numpy as np"
   ]
  },
  {
   "cell_type": "code",
   "execution_count": 2,
   "metadata": {},
   "outputs": [],
   "source": [
    "xy = np.loadtxt( 'Data/data-03-diabetes.csv', delimiter = ',', dtype = np.float32 )\n",
    "x_data = xy[ :, 0 : -1 ]\n",
    "y_data = xy[ :, [ -1 ] ]"
   ]
  },
  {
   "cell_type": "code",
   "execution_count": 5,
   "metadata": {},
   "outputs": [],
   "source": [
    "W = tf.Variable( tf.random.normal( [ 8 ,1 ] ), name = 'weight' )\n",
    "b = tf.Variable( tf.random.normal( [ 1 ] ), name = 'bias' )"
   ]
  },
  {
   "cell_type": "code",
   "execution_count": 8,
   "metadata": {},
   "outputs": [],
   "source": [
    "@tf.function\n",
    "def Hypothesis( X ):\n",
    "    return ( tf.math.sigmoid( tf.matmul( X, W ) + b ) )\n",
    "\n",
    "@tf.function\n",
    "def Cost( X, Y ):\n",
    "    hypothesis = Hypothesis( X )\n",
    "    \n",
    "    former = Y * tf.math.log( hypothesis )\n",
    "    latter = tf.cast( tf.subtract( 1., Y ), dtype = tf.float32 ) * tf.math.log( 1 - hypothesis )\n",
    "    \n",
    "    cost = - tf.reduce_mean( former + latter )\n",
    "    \n",
    "    return cost\n",
    "\n",
    "def train( X, Y ):\n",
    "    loss = lambda : Cost( X, Y )\n",
    "    tf.keras.optimizers.SGD( 0.01 ).minimize( loss, [ W, b ] )\n",
    "    \n",
    "def Predicted( X ):\n",
    "    return ( tf.cast( Hypothesis( X ) > 0.5, dtype = tf.float32 ) )\n",
    "\n",
    "def Accuracy( X, Y ):\n",
    "    return ( tf.reduce_mean(\n",
    "        tf.cast( tf.equal( Predicted( X ), Y ), dtype = tf.float32 ) ) )"
   ]
  },
  {
   "cell_type": "code",
   "execution_count": 9,
   "metadata": {
    "scrolled": true
   },
   "outputs": [
    {
     "name": "stdout",
     "output_type": "stream",
     "text": [
      "0 1.06034434\n",
      "200 0.858574331\n",
      "400 0.800384641\n",
      "600 0.76718545\n",
      "800 0.740154445\n",
      "1000 0.716184676\n",
      "1200 0.694615602\n",
      "1400 0.675182581\n",
      "1600 0.657687366\n",
      "1800 0.641947925\n",
      "2000 0.627793252\n",
      "2200 0.615062892\n",
      "2400 0.603608727\n",
      "2600 0.593295634\n",
      "2800 0.584000707\n",
      "3000 0.575613379\n",
      "3200 0.568034351\n",
      "3400 0.561175227\n",
      "3600 0.554957092\n",
      "3800 0.549310267\n",
      "4000 0.544172823\n",
      "4200 0.539490104\n",
      "4400 0.535213828\n",
      "4600 0.531301081\n",
      "4800 0.527714312\n",
      "5000 0.524420202\n",
      "5200 0.521389127\n",
      "5400 0.518595219\n",
      "5600 0.516015232\n",
      "5800 0.513628721\n",
      "6000 0.511417627\n",
      "6200 0.509365439\n",
      "6400 0.507458\n",
      "6600 0.505682349\n",
      "6800 0.504026949\n",
      "7000 0.50248152\n",
      "7200 0.501036644\n",
      "7400 0.499684155\n",
      "7600 0.498416662\n",
      "7800 0.497227132\n",
      "8000 0.496109635\n",
      "8200 0.495058447\n",
      "8400 0.494068772\n",
      "8600 0.493135959\n",
      "8800 0.492255896\n",
      "9000 0.49142468\n",
      "9200 0.490638912\n",
      "9400 0.489895463\n",
      "9600 0.489191353\n",
      "9800 0.48852405\n",
      "10000 0.487891078\n"
     ]
    }
   ],
   "source": [
    "X = x_data\n",
    "Y = y_data\n",
    "for step in range( 10001 ):\n",
    "    cost_val = Cost( X, Y )\n",
    "    train( X, Y )\n",
    "    if ( step % 200 == 0 ):\n",
    "        tf.print( step, cost_val )"
   ]
  },
  {
   "cell_type": "code",
   "execution_count": 10,
   "metadata": {},
   "outputs": [
    {
     "name": "stdout",
     "output_type": "stream",
     "text": [
      "Hypothesis \n",
      "[[0.409207851]\n",
      " [0.899736345]\n",
      " [0.327201277]\n",
      " ...\n",
      " [0.823289692]\n",
      " [0.773061454]\n",
      " [0.850182831]]\n",
      "Correct \n",
      "[[0]\n",
      " [1]\n",
      " [0]\n",
      " ...\n",
      " [1]\n",
      " [1]\n",
      " [1]]\n",
      "Accuracy \n",
      "0.770751\n"
     ]
    }
   ],
   "source": [
    "h, c, a = Hypothesis( X ), Predicted( X ), Accuracy( X, Y )\n",
    "tf.print( 'Hypothesis ', h, sep = '\\n' )\n",
    "tf.print( 'Correct ', c, sep = '\\n' )\n",
    "tf.print( 'Accuracy ', a, sep = '\\n' )"
   ]
  }
 ],
 "metadata": {
  "kernelspec": {
   "display_name": "Python 3",
   "language": "python",
   "name": "python3"
  },
  "language_info": {
   "codemirror_mode": {
    "name": "ipython",
    "version": 3
   },
   "file_extension": ".py",
   "mimetype": "text/x-python",
   "name": "python",
   "nbconvert_exporter": "python",
   "pygments_lexer": "ipython3",
   "version": "3.7.4"
  }
 },
 "nbformat": 4,
 "nbformat_minor": 2
}
