{
 "cells": [
  {
   "cell_type": "markdown",
   "metadata": {},
   "source": [
    "# Tensor Manipulation"
   ]
  },
  {
   "cell_type": "code",
   "execution_count": 1,
   "metadata": {},
   "outputs": [],
   "source": [
    "import tensorflow as tf\n",
    "import numpy as np\n",
    "import pprint\n",
    "\n",
    "pp = pprint.PrettyPrinter( indent = 4 )"
   ]
  },
  {
   "cell_type": "markdown",
   "metadata": {},
   "source": [
    "# Simple Array"
   ]
  },
  {
   "cell_type": "code",
   "execution_count": 2,
   "metadata": {},
   "outputs": [
    {
     "name": "stdout",
     "output_type": "stream",
     "text": [
      "array([0., 1., 2., 3., 4., 5., 6.])\n",
      "1\n",
      "(7,)\n",
      "0.0 1.0 6.0\n",
      "[2. 3. 4.] [4. 5.]\n",
      "[0. 1.] [3. 4. 5. 6.]\n"
     ]
    }
   ],
   "source": [
    "t = np.array( [ 0., 1., 2., 3., 4., 5., 6. ] )\n",
    "\n",
    "pp.pprint( t )\n",
    "print( t.ndim )\n",
    "print( t.shape )\n",
    "print( t[0], t[1], t[-1] )\n",
    "print( t[ 2:5 ], t[ 4:-1 ])\n",
    "print( t[:2], t[3:] )"
   ]
  },
  {
   "cell_type": "markdown",
   "metadata": {},
   "source": [
    "# 2D Array"
   ]
  },
  {
   "cell_type": "code",
   "execution_count": 3,
   "metadata": {},
   "outputs": [
    {
     "name": "stdout",
     "output_type": "stream",
     "text": [
      "array([[ 1.,  2.,  3.],\n",
      "       [ 4.,  5.,  6.],\n",
      "       [ 7.,  8.,  9.],\n",
      "       [10., 11., 12.]])\n",
      "2\n",
      "(4, 3)\n"
     ]
    }
   ],
   "source": [
    "t = np.array( [\n",
    "    [ 1., 2., 3. ],\n",
    "    [ 4., 5., 6. ],\n",
    "    [ 7., 8., 9. ],\n",
    "    [ 10., 11., 12. ]\n",
    "])\n",
    "\n",
    "pp.pprint( t )\n",
    "print( t.ndim )\n",
    "print( t.shape )"
   ]
  },
  {
   "cell_type": "markdown",
   "metadata": {},
   "source": [
    "# Shape, Rank, Axis"
   ]
  },
  {
   "cell_type": "code",
   "execution_count": 4,
   "metadata": {},
   "outputs": [
    {
     "name": "stdout",
     "output_type": "stream",
     "text": [
      "[4]\r\n"
     ]
    }
   ],
   "source": [
    "t = tf.constant( [ 1, 2, 3, 4 ] )\n",
    "tf.print( tf.shape( t ) )"
   ]
  },
  {
   "cell_type": "code",
   "execution_count": 5,
   "metadata": {},
   "outputs": [
    {
     "name": "stdout",
     "output_type": "stream",
     "text": [
      "[2 2]\r\n"
     ]
    }
   ],
   "source": [
    "t = tf.constant( [ [ 1, 2 ], [ 3, 4 ] ] )\n",
    "tf.print( tf.shape( t ) )"
   ]
  },
  {
   "cell_type": "code",
   "execution_count": 6,
   "metadata": {},
   "outputs": [
    {
     "name": "stdout",
     "output_type": "stream",
     "text": [
      "[1 2 3 4]\r\n"
     ]
    }
   ],
   "source": [
    "t = tf.constant(\n",
    "    [\n",
    "        [\n",
    "            [\n",
    "                [1, 2, 3, 4],\n",
    "                [5, 6, 7, 8],\n",
    "                [9, 10, 11, 12]\n",
    "            ],\n",
    "            [\n",
    "                [13, 14, 15, 16],\n",
    "                [17, 18, 19, 20],\n",
    "                [21, 22, 23, 24]\n",
    "            ]\n",
    "        ]\n",
    "    ]\n",
    ")\n",
    "\n",
    "tf.print( tf.shape( t ) )"
   ]
  },
  {
   "cell_type": "markdown",
   "metadata": {},
   "source": [
    "# Matnul VS multiply"
   ]
  },
  {
   "cell_type": "code",
   "execution_count": 7,
   "metadata": {},
   "outputs": [
    {
     "name": "stdout",
     "output_type": "stream",
     "text": [
      "(2, 2)\n",
      "(2, 1)\n",
      "[[5]\n",
      " [11]]\r\n"
     ]
    }
   ],
   "source": [
    "matrix1 = tf.constant( [ [ 1., 2. ], [ 3., 4. ] ] )\n",
    "matrix2 = tf.constant( [ [ 1. ], [ 2. ] ] )\n",
    "print( matrix1.shape )\n",
    "print( matrix2.shape )\n",
    "tf.print( tf.matmul( matrix1, matrix2 ) )"
   ]
  },
  {
   "cell_type": "code",
   "execution_count": 8,
   "metadata": {},
   "outputs": [
    {
     "name": "stdout",
     "output_type": "stream",
     "text": [
      "[[1 2]\n",
      " [6 8]]\r\n"
     ]
    }
   ],
   "source": [
    "tf.print( matrix1 * matrix2 )"
   ]
  },
  {
   "cell_type": "markdown",
   "metadata": {},
   "source": [
    "# Watch out broadcasting"
   ]
  },
  {
   "cell_type": "code",
   "execution_count": 9,
   "metadata": {},
   "outputs": [
    {
     "name": "stdout",
     "output_type": "stream",
     "text": [
      "[[5 5]]\r\n"
     ]
    }
   ],
   "source": [
    "matrix1 = tf.constant( [ [ 3., 3. ] ] )\n",
    "matrix2 = tf.constant( [ [ 2., 2. ] ] )\n",
    "tf.print( matrix1 + matrix2 )"
   ]
  },
  {
   "cell_type": "code",
   "execution_count": 10,
   "metadata": {},
   "outputs": [
    {
     "name": "stdout",
     "output_type": "stream",
     "text": [
      "[[4 5]]\r\n"
     ]
    }
   ],
   "source": [
    "matrix1 = tf.constant( [ [ 1., 2. ] ] )\n",
    "matrix2 = tf.constant( 3. )\n",
    "tf.print( matrix1 + matrix2 )"
   ]
  },
  {
   "cell_type": "code",
   "execution_count": 11,
   "metadata": {},
   "outputs": [
    {
     "name": "stdout",
     "output_type": "stream",
     "text": [
      "[[4 6]]\r\n"
     ]
    }
   ],
   "source": [
    "matrix1 = tf.constant( [ [ 1., 2. ] ] )\n",
    "matrix2 = tf.constant( [ 3., 4. ] )\n",
    "tf.print( matrix1 + matrix2 )"
   ]
  },
  {
   "cell_type": "code",
   "execution_count": 12,
   "metadata": {},
   "outputs": [
    {
     "name": "stdout",
     "output_type": "stream",
     "text": [
      "[[4 5]\n",
      " [5 6]]\r\n"
     ]
    }
   ],
   "source": [
    "matrix1 = tf.constant( [ [ 1., 2. ] ] )\n",
    "matrix2 = tf.constant( [ [ 3. ], [ 4. ] ] )\n",
    "tf.print( matrix1 + matrix2 )"
   ]
  },
  {
   "cell_type": "markdown",
   "metadata": {},
   "source": [
    "# Random values for variable initializionts"
   ]
  },
  {
   "cell_type": "code",
   "execution_count": 13,
   "metadata": {},
   "outputs": [
    {
     "name": "stdout",
     "output_type": "stream",
     "text": [
      "[-0.401158512 1.42210531 1.49078989]\r\n"
     ]
    }
   ],
   "source": [
    "tf.print( tf.random.normal( [ 3 ] ) )"
   ]
  },
  {
   "cell_type": "code",
   "execution_count": 14,
   "metadata": {},
   "outputs": [
    {
     "name": "stdout",
     "output_type": "stream",
     "text": [
      "[0.454143167 0.367045164]\r\n"
     ]
    }
   ],
   "source": [
    "tf.print( tf.random.uniform( [ 2 ] ) )"
   ]
  },
  {
   "cell_type": "code",
   "execution_count": 15,
   "metadata": {},
   "outputs": [
    {
     "name": "stdout",
     "output_type": "stream",
     "text": [
      "[[0.334801435 0.0110433102 0.21033895]\n",
      " [0.833604693 0.999962091 0.544125915]]\r\n"
     ]
    }
   ],
   "source": [
    "tf.print( tf.random.uniform( [ 2, 3 ] ) )"
   ]
  },
  {
   "cell_type": "markdown",
   "metadata": {},
   "source": [
    "# Reduce Mean/Sum"
   ]
  },
  {
   "cell_type": "code",
   "execution_count": 16,
   "metadata": {},
   "outputs": [
    {
     "name": "stdout",
     "output_type": "stream",
     "text": [
      "1\n",
      "1.5\n"
     ]
    }
   ],
   "source": [
    "tf.print( tf.reduce_mean( [ 1, 2 ], axis = 0 ) )\n",
    "tf.print( tf.reduce_mean( [ 1., 2. ], axis = 0 ) )"
   ]
  },
  {
   "cell_type": "code",
   "execution_count": 17,
   "metadata": {},
   "outputs": [
    {
     "name": "stdout",
     "output_type": "stream",
     "text": [
      "2.5\n",
      "[2 3]\n",
      "[1.5 3.5]\n",
      "[1.5 3.5]\n"
     ]
    }
   ],
   "source": [
    "x = [\n",
    "    [ 1., 2. ],\n",
    "    [ 3., 4. ]\n",
    "]\n",
    "\n",
    "tf.print( tf.reduce_mean( x ) )\n",
    "tf.print( tf.reduce_mean( x, axis = 0 ) )\n",
    "tf.print( tf.reduce_mean( x, axis = 1 ) )\n",
    "tf.print( tf.reduce_mean( x, axis = -1 ) )"
   ]
  },
  {
   "cell_type": "code",
   "execution_count": 18,
   "metadata": {},
   "outputs": [
    {
     "name": "stdout",
     "output_type": "stream",
     "text": [
      "10\n",
      "[4 6]\n",
      "[3 7]\n",
      "[3 7]\n"
     ]
    }
   ],
   "source": [
    "tf.print( tf.reduce_sum( x ) )\n",
    "tf.print( tf.reduce_sum( x, axis = 0 ) )\n",
    "tf.print( tf.reduce_sum( x, axis = 1 ) )\n",
    "tf.print( tf.reduce_sum( x, axis = -1 ) )"
   ]
  },
  {
   "cell_type": "markdown",
   "metadata": {},
   "source": [
    "# Argmax with axis"
   ]
  },
  {
   "cell_type": "code",
   "execution_count": 19,
   "metadata": {},
   "outputs": [
    {
     "name": "stdout",
     "output_type": "stream",
     "text": [
      "[1 0 0]\n",
      "[2 0]\n",
      "[2 0]\n"
     ]
    }
   ],
   "source": [
    "x = [\n",
    "    [ 0, 1, 2 ],\n",
    "    [ 2, 1, 0 ]\n",
    "]\n",
    "\n",
    "tf.print( tf.argmax( x, axis = 0 ) )\n",
    "tf.print( tf.argmax( x, axis = 1 ) )\n",
    "tf.print( tf.argmax( x, axis = -1 ) )"
   ]
  },
  {
   "cell_type": "markdown",
   "metadata": {},
   "source": [
    "# Reshape, squeeze, expand_dims"
   ]
  },
  {
   "cell_type": "code",
   "execution_count": 20,
   "metadata": {},
   "outputs": [
    {
     "data": {
      "text/plain": [
       "(2, 2, 3)"
      ]
     },
     "execution_count": 20,
     "metadata": {},
     "output_type": "execute_result"
    }
   ],
   "source": [
    "t = np.array([\n",
    "        [\n",
    "            [ 0, 1, 2 ],\n",
    "            [ 3, 4, 5 ]\n",
    "        ],\n",
    "        [\n",
    "            [ 6, 7, 8 ],\n",
    "            [ 9, 10, 11 ]\n",
    "        ]\n",
    "    ])\n",
    "\n",
    "t.shape"
   ]
  },
  {
   "cell_type": "code",
   "execution_count": 21,
   "metadata": {},
   "outputs": [
    {
     "name": "stdout",
     "output_type": "stream",
     "text": [
      "[[0 1 2]\n",
      " [3 4 5]\n",
      " [6 7 8]\n",
      " [9 10 11]]\r\n"
     ]
    }
   ],
   "source": [
    "tf.print( tf.reshape( t, shape = [ -1, 3 ] ) )"
   ]
  },
  {
   "cell_type": "code",
   "execution_count": 22,
   "metadata": {},
   "outputs": [
    {
     "name": "stdout",
     "output_type": "stream",
     "text": [
      "[[[0 1 2]]\n",
      "\n",
      " [[3 4 5]]\n",
      "\n",
      " [[6 7 8]]\n",
      "\n",
      " [[9 10 11]]]\r\n"
     ]
    }
   ],
   "source": [
    "tf.print( tf.reshape( t, shape = [ -1, 1, 3 ] ) )"
   ]
  },
  {
   "cell_type": "code",
   "execution_count": 23,
   "metadata": {},
   "outputs": [
    {
     "name": "stdout",
     "output_type": "stream",
     "text": [
      "[0 1 2]\n",
      "[[0]\n",
      " [1]\n",
      " [2]]\n"
     ]
    }
   ],
   "source": [
    "tf.print( tf.squeeze( [ [ 0 ], [ 1 ], [ 2 ] ] ) )\n",
    "tf.print( tf.expand_dims( [ 0, 1, 2 ], 1 ) )"
   ]
  },
  {
   "cell_type": "markdown",
   "metadata": {},
   "source": [
    "# One hot"
   ]
  },
  {
   "cell_type": "code",
   "execution_count": 24,
   "metadata": {},
   "outputs": [
    {
     "name": "stdout",
     "output_type": "stream",
     "text": [
      "[[[1 0 0]]\n",
      "\n",
      " [[0 1 0]]\n",
      "\n",
      " [[0 0 1]]\n",
      "\n",
      " [[1 0 0]]]\r\n"
     ]
    }
   ],
   "source": [
    "tf.print( tf.one_hot( [ [ 0 ], [ 1 ], [ 2 ], [ 0 ] ], depth = 3 ) )"
   ]
  },
  {
   "cell_type": "code",
   "execution_count": 25,
   "metadata": {},
   "outputs": [
    {
     "name": "stdout",
     "output_type": "stream",
     "text": [
      "[[1 0 0]\n",
      " [0 1 0]\n",
      " [0 0 1]\n",
      " [1 0 0]]\r\n"
     ]
    }
   ],
   "source": [
    "t = tf.one_hot( [ [ 0 ], [ 1 ], [ 2 ], [ 0 ] ], depth = 3 )\n",
    "tf.print( tf.reshape( t, shape = [ -1, 3 ] ) )"
   ]
  },
  {
   "cell_type": "markdown",
   "metadata": {},
   "source": [
    "# casting"
   ]
  },
  {
   "cell_type": "code",
   "execution_count": 26,
   "metadata": {},
   "outputs": [
    {
     "name": "stdout",
     "output_type": "stream",
     "text": [
      "[1 2 3 4]\r\n"
     ]
    }
   ],
   "source": [
    "tf.print( tf.cast ( [ 1.8, 2.2, 3.3, 4.9 ], tf.int32 ) )"
   ]
  },
  {
   "cell_type": "code",
   "execution_count": 27,
   "metadata": {},
   "outputs": [
    {
     "name": "stdout",
     "output_type": "stream",
     "text": [
      "[1 0 1 0]\r\n"
     ]
    }
   ],
   "source": [
    "tf.print( tf.cast( [ True, False, 1 == 1, 0 == 1 ], tf.int32 ) )"
   ]
  },
  {
   "cell_type": "markdown",
   "metadata": {},
   "source": [
    "# Stack"
   ]
  },
  {
   "cell_type": "code",
   "execution_count": 28,
   "metadata": {},
   "outputs": [
    {
     "name": "stdout",
     "output_type": "stream",
     "text": [
      "[[1 4]\n",
      " [2 5]\n",
      " [3 6]]\r\n"
     ]
    }
   ],
   "source": [
    "x = [ 1, 4 ]\n",
    "y = [ 2, 5 ]\n",
    "z = [ 3, 6 ]\n",
    "tf.print( tf.stack( [ x, y, z ] ) )"
   ]
  },
  {
   "cell_type": "code",
   "execution_count": 29,
   "metadata": {},
   "outputs": [
    {
     "name": "stdout",
     "output_type": "stream",
     "text": [
      "[[1 4]\n",
      " [2 5]\n",
      " [3 6]]\n",
      "[[1 2 3]\n",
      " [4 5 6]]\n"
     ]
    }
   ],
   "source": [
    "tf.print( tf.stack( [ x, y, z ], axis = 0 ) )\n",
    "tf.print( tf.stack( [ x, y, z ], axis = 1 ) )"
   ]
  },
  {
   "cell_type": "markdown",
   "metadata": {},
   "source": [
    "# Ones like and Zeros like"
   ]
  },
  {
   "cell_type": "code",
   "execution_count": 30,
   "metadata": {},
   "outputs": [
    {
     "name": "stdout",
     "output_type": "stream",
     "text": [
      "[[1 1 1]\n",
      " [1 1 1]]\n",
      "[[0 0 0]\n",
      " [0 0 0]]\n"
     ]
    }
   ],
   "source": [
    "x = [\n",
    "    [ 0, 1, 2 ],\n",
    "    [ 2, 1, 0 ]\n",
    "]\n",
    "\n",
    "tf.print( tf.ones_like( x ) )\n",
    "tf.print( tf.zeros_like( x ) )"
   ]
  },
  {
   "cell_type": "markdown",
   "metadata": {},
   "source": [
    "# Zip"
   ]
  },
  {
   "cell_type": "code",
   "execution_count": 31,
   "metadata": {},
   "outputs": [
    {
     "name": "stdout",
     "output_type": "stream",
     "text": [
      "1 4\n",
      "2 5\n",
      "3 6\n"
     ]
    }
   ],
   "source": [
    "for x, y in zip( [ 1, 2, 3 ], [ 4, 5, 6 ] ):\n",
    "    print( x, y )"
   ]
  },
  {
   "cell_type": "code",
   "execution_count": 32,
   "metadata": {},
   "outputs": [
    {
     "name": "stdout",
     "output_type": "stream",
     "text": [
      "1 4 7\n",
      "2 5 8\n",
      "3 6 9\n"
     ]
    }
   ],
   "source": [
    "for x, y, z in zip( [ 1, 2, 3 ], [ 4, 5, 6 ], [ 7, 8, 9 ] ):\n",
    "    print( x, y, z )"
   ]
  },
  {
   "cell_type": "markdown",
   "metadata": {},
   "source": [
    "# Transpose"
   ]
  },
  {
   "cell_type": "code",
   "execution_count": 33,
   "metadata": {},
   "outputs": [
    {
     "name": "stdout",
     "output_type": "stream",
     "text": [
      "(2, 2, 3)\n",
      "array([[[ 0,  1,  2],\n",
      "        [ 3,  4,  5]],\n",
      "\n",
      "       [[ 6,  7,  8],\n",
      "        [ 9, 10, 11]]])\n"
     ]
    }
   ],
   "source": [
    "t = np.array( [\n",
    "    [\n",
    "        [ 0, 1, 2 ],\n",
    "        [ 3, 4, 5 ],\n",
    "    ],\n",
    "    [\n",
    "        [ 6, 7, 8 ],\n",
    "        [ 9, 10, 11]\n",
    "    ]\n",
    "]\n",
    ")\n",
    "pp.pprint( t.shape )\n",
    "pp.pprint( t )"
   ]
  },
  {
   "cell_type": "code",
   "execution_count": 34,
   "metadata": {},
   "outputs": [
    {
     "name": "stdout",
     "output_type": "stream",
     "text": [
      "TensorShape([2, 2, 3])\n",
      "[[[0 1 2]\n",
      "  [6 7 8]]\n",
      "\n",
      " [[3 4 5]\n",
      "  [9 10 11]]]\r\n"
     ]
    }
   ],
   "source": [
    "t1 = tf.transpose( t, [ 1, 0 ,2 ] )\n",
    "pp.pprint( t1.shape )\n",
    "tf.print( t1 )"
   ]
  },
  {
   "cell_type": "code",
   "execution_count": 35,
   "metadata": {},
   "outputs": [
    {
     "name": "stdout",
     "output_type": "stream",
     "text": [
      "TensorShape([2, 2, 3])\n",
      "[[[0 1 2]\n",
      "  [3 4 5]]\n",
      "\n",
      " [[6 7 8]\n",
      "  [9 10 11]]]\r\n"
     ]
    }
   ],
   "source": [
    "t = tf.transpose( t1, [ 1, 0 ,2 ] )\n",
    "pp.pprint( t.shape )\n",
    "tf.print( t )"
   ]
  },
  {
   "cell_type": "code",
   "execution_count": 36,
   "metadata": {},
   "outputs": [
    {
     "name": "stdout",
     "output_type": "stream",
     "text": [
      "TensorShape([2, 3, 2])\n",
      "[[[0 6]\n",
      "  [1 7]\n",
      "  [2 8]]\n",
      "\n",
      " [[3 9]\n",
      "  [4 10]\n",
      "  [5 11]]]\n"
     ]
    }
   ],
   "source": [
    "t2 = tf.transpose( t, [ 1, 2, 0 ] )\n",
    "tf.print( t2.shape )\n",
    "tf.print( t2 )"
   ]
  },
  {
   "cell_type": "code",
   "execution_count": 37,
   "metadata": {},
   "outputs": [
    {
     "name": "stdout",
     "output_type": "stream",
     "text": [
      "TensorShape([2, 2, 3])\n",
      "[[[0 1 2]\n",
      "  [3 4 5]]\n",
      "\n",
      " [[6 7 8]\n",
      "  [9 10 11]]]\n"
     ]
    }
   ],
   "source": [
    "t = tf.transpose( t2, [ 2, 0, 1 ] )\n",
    "tf.print( t.shape )\n",
    "tf.print( t )"
   ]
  }
 ],
 "metadata": {
  "kernelspec": {
   "display_name": "Python 3",
   "language": "python",
   "name": "python3"
  },
  "language_info": {
   "codemirror_mode": {
    "name": "ipython",
    "version": 3
   },
   "file_extension": ".py",
   "mimetype": "text/x-python",
   "name": "python",
   "nbconvert_exporter": "python",
   "pygments_lexer": "ipython3",
   "version": "3.7.4"
  }
 },
 "nbformat": 4,
 "nbformat_minor": 2
}
