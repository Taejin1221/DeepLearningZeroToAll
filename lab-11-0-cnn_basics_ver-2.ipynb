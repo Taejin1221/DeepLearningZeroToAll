{
 "cells": [
  {
   "cell_type": "code",
   "execution_count": 2,
   "metadata": {},
   "outputs": [],
   "source": [
    "import numpy as np\n",
    "import tensorflow as tf\n",
    "import matplotlib.pyplot as plt"
   ]
  },
  {
   "cell_type": "code",
   "execution_count": 6,
   "metadata": {},
   "outputs": [
    {
     "name": "stdout",
     "output_type": "stream",
     "text": [
      "(1, 3, 3, 1)\n"
     ]
    },
    {
     "data": {
      "text/plain": [
       "<matplotlib.image.AxesImage at 0x2e371234fc8>"
      ]
     },
     "execution_count": 6,
     "metadata": {},
     "output_type": "execute_result"
    },
    {
     "data": {
      "image/png": "[encoded data removed]",
      "text/plain": [
       "<Figure size 432x288 with 1 Axes>"
      ]
     },
     "metadata": {
      "needs_background": "light"
     },
     "output_type": "display_data"
    }
   ],
   "source": [
    "image = np.array( [ [\n",
    "    [ [ 1 ], [ 2 ], [ 3 ] ],\n",
    "    [ [ 4 ], [ 5 ], [ 6 ] ],\n",
    "    [ [ 7 ], [ 8 ], [ 9 ] ]\n",
    "] ], dtype = np.float32 )\n",
    "print( image.shape )\n",
    "plt.imshow( image.reshape( 3, 3 ), cmap = 'Greys' )"
   ]
  },
  {
   "cell_type": "markdown",
   "metadata": {},
   "source": [
    "# 1 filter ( 2, 2, 1, 1 ) with padding: VALID"
   ]
  },
  {
   "cell_type": "code",
   "execution_count": 24,
   "metadata": {},
   "outputs": [
    {
     "name": "stdout",
     "output_type": "stream",
     "text": [
      "image.shape  (1, 3, 3, 1)\n",
      "weight.shape  (2, 2, 1, 1)\n",
      "conv2d.shape  (1, 2, 2, 1)\n",
      "[[12. 16.]\n",
      " [24. 28.]]\n"
     ]
    },
    {
     "data": {
      "image/png": "[encoded data removed]",
      "text/plain": [
       "<Figure size 432x288 with 1 Axes>"
      ]
     },
     "metadata": {
      "needs_background": "light"
     },
     "output_type": "display_data"
    }
   ],
   "source": [
    "print( 'image.shape ', image.shape )\n",
    "\n",
    "weight = tf.constant( [ [ [ [ 1. ] ], [ [ 1. ] ] ],\n",
    "                       [ [ [ 1. ] ], [ [ 1. ] ] ] ] )\n",
    "print( 'weight.shape ', weight.shape )\n",
    "\n",
    "conv2d = tf.nn.conv2d( image, weight, strides = [ 1, 1, 1, 1 ],\n",
    "                     padding = 'VALID' )\n",
    "print( 'conv2d.shape ', conv2d.shape )\n",
    "\n",
    "conv2d_img = np.swapaxes( conv2d, 0, 3 )\n",
    "for i, one_img in enumerate( conv2d_img ):\n",
    "    print( one_img.reshape( 2, 2 ) )\n",
    "    \n",
    "    plt.subplot( 1, 2, i + 1 )\n",
    "    plt.imshow( one_img.reshape( 2, 2 ), cmap = 'gray' )"
   ]
  },
  {
   "cell_type": "markdown",
   "metadata": {},
   "source": [
    "# 1 filter ( 2, 2, 1, 1) with padding: SAME"
   ]
  },
  {
   "cell_type": "code",
   "execution_count": 25,
   "metadata": {},
   "outputs": [
    {
     "name": "stdout",
     "output_type": "stream",
     "text": [
      "image.shape  (1, 3, 3, 1)\n",
      "weight.shape  (2, 2, 1, 1)\n",
      "conv2d.shape  (1, 3, 3, 1)\n",
      "[[12. 16.  9.]\n",
      " [24. 28. 15.]\n",
      " [15. 17.  9.]]\n"
     ]
    },
    {
     "data": {
      "image/png": "[encoded data removed]",
      "text/plain": [
       "<Figure size 432x288 with 1 Axes>"
      ]
     },
     "metadata": {
      "needs_background": "light"
     },
     "output_type": "display_data"
    }
   ],
   "source": [
    "print( 'image.shape ', image.shape )\n",
    "\n",
    "weight = tf.constant( [ [ [ [ 1. ] ], [ [ 1. ] ] ],\n",
    "                       [ [ [ 1. ] ], [ [ 1. ] ] ] ] )\n",
    "print( 'weight.shape ', weight.shape )\n",
    "\n",
    "conv2d = tf.nn.conv2d( image, weight, strides = [ 1, 1, 1, 1 ],\n",
    "                     padding = 'SAME' )\n",
    "print( 'conv2d.shape ', conv2d.shape )\n",
    "\n",
    "conv2d_img = np.swapaxes( conv2d, 0, 3 )\n",
    "for i, one_img in enumerate( conv2d_img ):\n",
    "    print( one_img.reshape( 3, 3 ) )\n",
    "    \n",
    "    plt.subplot( 1, 2, i + 1 )\n",
    "    plt.imshow( one_img.reshape( 3, 3 ), cmap = 'gray' )"
   ]
  },
  {
   "cell_type": "markdown",
   "metadata": {},
   "source": [
    "# 3 filters ( 2, 2, 1, 3 )"
   ]
  },
  {
   "cell_type": "code",
   "execution_count": 27,
   "metadata": {},
   "outputs": [
    {
     "name": "stdout",
     "output_type": "stream",
     "text": [
      "image.shape:  (1, 3, 3, 1)\n",
      "weight.shape:  (2, 2, 1, 3)\n",
      "conv2d.shape:  (1, 3, 3, 3)\n",
      "[[12. 16.  9.]\n",
      " [24. 28. 15.]\n",
      " [15. 17.  9.]]\n",
      "[[120. 160.  90.]\n",
      " [240. 280. 150.]\n",
      " [150. 170.  90.]]\n",
      "[[-12. -16.  -9.]\n",
      " [-24. -28. -15.]\n",
      " [-15. -17.  -9.]]\n"
     ]
    },
    {
     "data": {
      "image/png": "[encoded data removed]",
      "text/plain": [
       "<Figure size 432x288 with 3 Axes>"
      ]
     },
     "metadata": {
      "needs_background": "light"
     },
     "output_type": "display_data"
    }
   ],
   "source": [
    "print( 'image.shape: ', image.shape )\n",
    "\n",
    "weight = tf.constant( [ [ [ [ 1., 10., -1. ] ], [ [ 1., 10., -1. ] ] ],\n",
    "                      [ [ [ 1., 10., -1. ] ], [ [ 1., 10., -1. ] ] ] ] )\n",
    "print( 'weight.shape: ', weight.shape )\n",
    "\n",
    "conv2d = tf.nn.conv2d( image, weight, strides = [ 1, 1, 1, 1 ],\n",
    "                      padding = 'SAME' )\n",
    "print( 'conv2d.shape: ', conv2d.shape )\n",
    "\n",
    "conv2d_img = np.swapaxes( conv2d, 0, 3 )\n",
    "for i, one_img in enumerate( conv2d_img ):\n",
    "    print( one_img.reshape( 3, 3 ) )\n",
    "    plt.subplot( 1, 3, i + 1 )\n",
    "    plt.imshow( one_img.reshape( 3, 3 ), cmap = 'gray' )"
   ]
  },
  {
   "cell_type": "markdown",
   "metadata": {},
   "source": [
    "# MAX POOLING"
   ]
  },
  {
   "cell_type": "code",
   "execution_count": 32,
   "metadata": {},
   "outputs": [
    {
     "name": "stdout",
     "output_type": "stream",
     "text": [
      "(1, 1, 1, 1)\n",
      "[[[[4]]]]\r\n"
     ]
    }
   ],
   "source": [
    "image = np.array( [ [ [ [ 4 ], [ 3 ] ],\n",
    "                  [ [ 2 ], [ 1 ] ] ] ], dtype = np.float32 )\n",
    "pool = tf.nn.max_pool( image, ksize = [ 1, 2, 2, 1 ],\n",
    "                     strides = [ 1, 1, 1, 1 ], padding = 'VALID' )\n",
    "\n",
    "print( pool.shape )\n",
    "tf.print( pool )"
   ]
  },
  {
   "cell_type": "markdown",
   "metadata": {},
   "source": [
    "# SAME: Zero paddings"
   ]
  },
  {
   "cell_type": "code",
   "execution_count": 33,
   "metadata": {},
   "outputs": [
    {
     "name": "stdout",
     "output_type": "stream",
     "text": [
      "(1, 2, 2, 1)\n",
      "[[[[4]\n",
      "   [3]]\n",
      "\n",
      "  [[2]\n",
      "   [1]]]]\r\n"
     ]
    }
   ],
   "source": [
    "image = np.array( [ [ [ [ 4 ], [ 3 ] ],\n",
    "                  [ [ 2 ], [ 1 ] ] ] ], dtype = np.float32 )\n",
    "pool = tf.nn.max_pool( image, ksize = [ 1, 2, 2, 1 ],\n",
    "                     strides = [ 1, 1, 1, 1 ], padding = 'SAME' )\n",
    "\n",
    "print( pool.shape )\n",
    "tf.print( pool )"
   ]
  },
  {
   "cell_type": "code",
   "execution_count": 3,
   "metadata": {},
   "outputs": [],
   "source": [
    "mnist = tf.keras.datasets.mnist\n",
    "( x_train, y_train ), ( x_test, y_test ) = mnist.load_data()"
   ]
  },
  {
   "cell_type": "code",
   "execution_count": 5,
   "metadata": {},
   "outputs": [
    {
     "data": {
      "text/plain": [
       "<matplotlib.image.AxesImage at 0x2d5eb0741c8>"
      ]
     },
     "execution_count": 5,
     "metadata": {},
     "output_type": "execute_result"
    },
    {
     "data": {
      "image/png": "[encoded data removed]",
      "text/plain": [
       "<Figure size 432x288 with 1 Axes>"
      ]
     },
     "metadata": {
      "needs_background": "light"
     },
     "output_type": "display_data"
    }
   ],
   "source": [
    "img = x_train[0]\n",
    "plt.imshow( img, cmap = 'gray' )"
   ]
  },
  {
   "cell_type": "code",
   "execution_count": 6,
   "metadata": {},
   "outputs": [
    {
     "name": "stdout",
     "output_type": "stream",
     "text": [
      "tf.Tensor(\n",
      "[[[[ 0.00000000e+00  0.00000000e+00  0.00000000e+00  0.00000000e+00\n",
      "     0.00000000e+00]\n",
      "   [ 0.00000000e+00  0.00000000e+00  0.00000000e+00  0.00000000e+00\n",
      "     0.00000000e+00]\n",
      "   [ 0.00000000e+00  0.00000000e+00  0.00000000e+00  0.00000000e+00\n",
      "     0.00000000e+00]\n",
      "   [ 0.00000000e+00  0.00000000e+00  0.00000000e+00  0.00000000e+00\n",
      "     0.00000000e+00]\n",
      "   [ 0.00000000e+00  0.00000000e+00  0.00000000e+00  0.00000000e+00\n",
      "     0.00000000e+00]\n",
      "   [ 0.00000000e+00  0.00000000e+00  0.00000000e+00  0.00000000e+00\n",
      "     0.00000000e+00]\n",
      "   [ 0.00000000e+00  0.00000000e+00  0.00000000e+00  0.00000000e+00\n",
      "     0.00000000e+00]\n",
      "   [ 0.00000000e+00  0.00000000e+00  0.00000000e+00  0.00000000e+00\n",
      "     0.00000000e+00]\n",
      "   [ 0.00000000e+00  0.00000000e+00  0.00000000e+00  0.00000000e+00\n",
      "     0.00000000e+00]\n",
      "   [ 0.00000000e+00  0.00000000e+00  0.00000000e+00  0.00000000e+00\n",
      "     0.00000000e+00]\n",
      "   [ 0.00000000e+00  0.00000000e+00  0.00000000e+00  0.00000000e+00\n",
      "     0.00000000e+00]\n",
      "   [ 0.00000000e+00  0.00000000e+00  0.00000000e+00  0.00000000e+00\n",
      "     0.00000000e+00]\n",
      "   [ 0.00000000e+00  0.00000000e+00  0.00000000e+00  0.00000000e+00\n",
      "     0.00000000e+00]\n",
      "   [ 0.00000000e+00  0.00000000e+00  0.00000000e+00  0.00000000e+00\n",
      "     0.00000000e+00]]\n",
      "\n",
      "  [[ 0.00000000e+00  0.00000000e+00  0.00000000e+00  0.00000000e+00\n",
      "     0.00000000e+00]\n",
      "   [ 0.00000000e+00  0.00000000e+00  0.00000000e+00  0.00000000e+00\n",
      "     0.00000000e+00]\n",
      "   [ 0.00000000e+00  0.00000000e+00  0.00000000e+00  0.00000000e+00\n",
      "     0.00000000e+00]\n",
      "   [ 0.00000000e+00  0.00000000e+00  0.00000000e+00  0.00000000e+00\n",
      "     0.00000000e+00]\n",
      "   [ 0.00000000e+00  0.00000000e+00  0.00000000e+00  0.00000000e+00\n",
      "     0.00000000e+00]\n",
      "   [ 0.00000000e+00  0.00000000e+00  0.00000000e+00  0.00000000e+00\n",
      "     0.00000000e+00]\n",
      "   [ 0.00000000e+00  0.00000000e+00  0.00000000e+00  0.00000000e+00\n",
      "     0.00000000e+00]\n",
      "   [ 0.00000000e+00  0.00000000e+00  0.00000000e+00  0.00000000e+00\n",
      "     0.00000000e+00]\n",
      "   [ 0.00000000e+00  0.00000000e+00  0.00000000e+00  0.00000000e+00\n",
      "     0.00000000e+00]\n",
      "   [ 0.00000000e+00  0.00000000e+00  0.00000000e+00  0.00000000e+00\n",
      "     0.00000000e+00]\n",
      "   [ 0.00000000e+00  0.00000000e+00  0.00000000e+00  0.00000000e+00\n",
      "     0.00000000e+00]\n",
      "   [ 0.00000000e+00  0.00000000e+00  0.00000000e+00  0.00000000e+00\n",
      "     0.00000000e+00]\n",
      "   [ 0.00000000e+00  0.00000000e+00  0.00000000e+00  0.00000000e+00\n",
      "     0.00000000e+00]\n",
      "   [ 0.00000000e+00  0.00000000e+00  0.00000000e+00  0.00000000e+00\n",
      "     0.00000000e+00]]\n",
      "\n",
      "  [[ 0.00000000e+00  0.00000000e+00  0.00000000e+00  0.00000000e+00\n",
      "     0.00000000e+00]\n",
      "   [ 0.00000000e+00  0.00000000e+00  0.00000000e+00  0.00000000e+00\n",
      "     0.00000000e+00]\n",
      "   [ 0.00000000e+00  0.00000000e+00  0.00000000e+00  0.00000000e+00\n",
      "     0.00000000e+00]\n",
      "   [ 4.66696262e-01 -3.22204351e-01 -3.48459423e-01 -1.93339989e-01\n",
      "    -1.82136744e-01]\n",
      "   [ 1.22663414e+00 -1.31358504e+00 -1.05013418e+00 -8.75935316e-01\n",
      "    -6.78274333e-02]\n",
      "   [ 1.75953591e+00 -3.12180662e+00 -1.40461743e+00 -1.88587558e+00\n",
      "     7.24022865e-01]\n",
      "   [ 2.44853783e+00 -5.11612797e+00 -1.86081147e+00 -3.09513354e+00\n",
      "     1.98550308e+00]\n",
      "   [ 1.70571434e+00 -5.34254169e+00 -2.48775625e+00 -5.19292021e+00\n",
      "     3.31806755e+00]\n",
      "   [ 1.09034204e+00 -7.83927345e+00 -9.66840744e-01 -5.86685848e+00\n",
      "     7.03715277e+00]\n",
      "   [ 1.15441406e+00 -6.65651321e+00 -4.01868248e+00 -7.52571726e+00\n",
      "     4.08693600e+00]\n",
      "   [ 7.76074648e-01 -9.42943096e+00  1.12230086e+00 -5.78066540e+00\n",
      "     1.02920074e+01]\n",
      "   [-1.69217992e+00 -5.12158108e+00 -1.47674155e+00 -4.40207434e+00\n",
      "     7.22252560e+00]\n",
      "   [ 0.00000000e+00  0.00000000e+00  0.00000000e+00  0.00000000e+00\n",
      "     0.00000000e+00]\n",
      "   [ 0.00000000e+00  0.00000000e+00  0.00000000e+00  0.00000000e+00\n",
      "     0.00000000e+00]]\n",
      "\n",
      "  [[ 0.00000000e+00  0.00000000e+00  0.00000000e+00  0.00000000e+00\n",
      "     0.00000000e+00]\n",
      "   [ 0.00000000e+00  0.00000000e+00  0.00000000e+00  0.00000000e+00\n",
      "     0.00000000e+00]\n",
      "   [ 0.00000000e+00  0.00000000e+00  0.00000000e+00  0.00000000e+00\n",
      "     0.00000000e+00]\n",
      "   [ 2.97036695e+00 -2.83740711e+00 -5.66022515e-01 -3.01562166e+00\n",
      "     5.66867173e-01]\n",
      "   [ 2.02107573e+00 -1.00975008e+01  3.28823291e-02 -7.36643791e+00\n",
      "     9.59297848e+00]\n",
      "   [ 2.81307673e+00 -9.79283810e+00 -1.98825026e+00 -9.22804642e+00\n",
      "     7.34094954e+00]\n",
      "   [ 2.90995789e+00 -8.80596924e+00 -2.70658684e+00 -1.01423216e+01\n",
      "     5.30896235e+00]\n",
      "   [ 4.18057013e+00 -9.64056969e+00 -3.92450047e+00 -1.06946545e+01\n",
      "     3.46219325e+00]\n",
      "   [ 3.12240094e-01 -7.74437046e+00 -1.71825600e+00 -8.14699745e+00\n",
      "     5.20408297e+00]\n",
      "   [ 1.88322639e+00 -1.20482540e+00 -1.73377991e+00 -4.36626148e+00\n",
      "    -1.43464315e+00]\n",
      "   [ 2.03819466e+00 -1.56076539e+00 -3.38664961e+00 -4.65604877e+00\n",
      "    -4.37188148e+00]\n",
      "   [ 2.48350605e-01 -2.44441938e+00 -2.27722263e+00 -2.59537506e+00\n",
      "    -2.62292480e+00]\n",
      "   [ 0.00000000e+00  0.00000000e+00  0.00000000e+00  0.00000000e+00\n",
      "     0.00000000e+00]\n",
      "   [ 0.00000000e+00  0.00000000e+00  0.00000000e+00  0.00000000e+00\n",
      "     0.00000000e+00]]\n",
      "\n",
      "  [[ 0.00000000e+00  0.00000000e+00  0.00000000e+00  0.00000000e+00\n",
      "     0.00000000e+00]\n",
      "   [ 0.00000000e+00  0.00000000e+00  0.00000000e+00  0.00000000e+00\n",
      "     0.00000000e+00]\n",
      "   [ 0.00000000e+00  0.00000000e+00  0.00000000e+00  0.00000000e+00\n",
      "     0.00000000e+00]\n",
      "   [ 9.11515117e-01  2.62837839e+00  7.81422734e-01 -9.73807871e-01\n",
      "     1.06325161e+00]\n",
      "   [ 2.58619928e+00 -1.85871315e+00 -1.10760856e+00 -4.08038902e+00\n",
      "    -1.60925615e+00]\n",
      "   [ 5.90901518e+00 -7.69439697e+00 -9.12564635e-01 -6.48209763e+00\n",
      "    -8.37679654e-02]\n",
      "   [ 7.03000784e-01 -6.20538902e+00 -4.48762941e+00 -8.20873260e+00\n",
      "     3.26250625e+00]\n",
      "   [ 2.06165957e+00  1.07147121e+00 -2.49139595e+00 -3.44615245e+00\n",
      "    -4.03491306e+00]\n",
      "   [ 1.86258411e+00 -4.58053684e+00 -2.20681334e+00 -2.63769174e+00\n",
      "    -3.65286183e+00]\n",
      "   [ 0.00000000e+00  0.00000000e+00  0.00000000e+00  0.00000000e+00\n",
      "     0.00000000e+00]\n",
      "   [ 0.00000000e+00  0.00000000e+00  0.00000000e+00  0.00000000e+00\n",
      "     0.00000000e+00]\n",
      "   [ 0.00000000e+00  0.00000000e+00  0.00000000e+00  0.00000000e+00\n",
      "     0.00000000e+00]\n",
      "   [ 0.00000000e+00  0.00000000e+00  0.00000000e+00  0.00000000e+00\n",
      "     0.00000000e+00]\n",
      "   [ 0.00000000e+00  0.00000000e+00  0.00000000e+00  0.00000000e+00\n",
      "     0.00000000e+00]]\n",
      "\n",
      "  [[ 0.00000000e+00  0.00000000e+00  0.00000000e+00  0.00000000e+00\n",
      "     0.00000000e+00]\n",
      "   [ 0.00000000e+00  0.00000000e+00  0.00000000e+00  0.00000000e+00\n",
      "     0.00000000e+00]\n",
      "   [ 0.00000000e+00  0.00000000e+00  0.00000000e+00  0.00000000e+00\n",
      "     0.00000000e+00]\n",
      "   [ 0.00000000e+00  0.00000000e+00  0.00000000e+00  0.00000000e+00\n",
      "     0.00000000e+00]\n",
      "   [ 7.42342100e-02  4.55241539e-02 -1.57960743e-01 -7.71486983e-02\n",
      "    -3.19663018e-01]\n",
      "   [ 4.77550697e+00 -5.92375755e-01  1.12566605e-01 -3.16782117e+00\n",
      "     4.88524705e-01]\n",
      "   [-3.28633010e-01 -1.08610687e+01 -1.92636395e+00 -6.62633896e+00\n",
      "     5.04906416e+00]\n",
      "   [-2.81076461e-01 -3.50372307e-02 -7.91226447e-01 -8.26252401e-01\n",
      "     8.34379554e-01]\n",
      "   [ 0.00000000e+00  0.00000000e+00  0.00000000e+00  0.00000000e+00\n",
      "     0.00000000e+00]\n",
      "   [ 0.00000000e+00  0.00000000e+00  0.00000000e+00  0.00000000e+00\n",
      "     0.00000000e+00]\n",
      "   [ 0.00000000e+00  0.00000000e+00  0.00000000e+00  0.00000000e+00\n",
      "     0.00000000e+00]\n",
      "   [ 0.00000000e+00  0.00000000e+00  0.00000000e+00  0.00000000e+00\n",
      "     0.00000000e+00]\n",
      "   [ 0.00000000e+00  0.00000000e+00  0.00000000e+00  0.00000000e+00\n",
      "     0.00000000e+00]\n",
      "   [ 0.00000000e+00  0.00000000e+00  0.00000000e+00  0.00000000e+00\n",
      "     0.00000000e+00]]\n",
      "\n",
      "  [[ 0.00000000e+00  0.00000000e+00  0.00000000e+00  0.00000000e+00\n",
      "     0.00000000e+00]\n",
      "   [ 0.00000000e+00  0.00000000e+00  0.00000000e+00  0.00000000e+00\n",
      "     0.00000000e+00]\n",
      "   [ 0.00000000e+00  0.00000000e+00  0.00000000e+00  0.00000000e+00\n",
      "     0.00000000e+00]\n",
      "   [ 0.00000000e+00  0.00000000e+00  0.00000000e+00  0.00000000e+00\n",
      "     0.00000000e+00]\n",
      "   [ 0.00000000e+00  0.00000000e+00  0.00000000e+00  0.00000000e+00\n",
      "     0.00000000e+00]\n",
      "   [ 8.76904607e-01  2.28001332e+00  5.99076033e-01 -5.20289898e-01\n",
      "     9.50376213e-01]\n",
      "   [ 5.42701101e+00 -7.41866732e+00 -1.39499128e+00 -4.68612003e+00\n",
      "    -1.81539690e+00]\n",
      "   [ 1.42149365e+00 -1.03695288e+01 -2.26779723e+00 -7.09948778e+00\n",
      "     7.32037973e+00]\n",
      "   [-1.55737174e+00 -2.60247707e+00 -2.72088909e+00 -4.32329082e+00\n",
      "     4.13655043e+00]\n",
      "   [-9.65634882e-02 -3.96832125e-03 -2.76751310e-01 -2.85005599e-01\n",
      "     2.92683303e-01]\n",
      "   [ 0.00000000e+00  0.00000000e+00  0.00000000e+00  0.00000000e+00\n",
      "     0.00000000e+00]\n",
      "   [ 0.00000000e+00  0.00000000e+00  0.00000000e+00  0.00000000e+00\n",
      "     0.00000000e+00]\n",
      "   [ 0.00000000e+00  0.00000000e+00  0.00000000e+00  0.00000000e+00\n",
      "     0.00000000e+00]\n",
      "   [ 0.00000000e+00  0.00000000e+00  0.00000000e+00  0.00000000e+00\n",
      "     0.00000000e+00]]\n",
      "\n",
      "  [[ 0.00000000e+00  0.00000000e+00  0.00000000e+00  0.00000000e+00\n",
      "     0.00000000e+00]\n",
      "   [ 0.00000000e+00  0.00000000e+00  0.00000000e+00  0.00000000e+00\n",
      "     0.00000000e+00]\n",
      "   [ 0.00000000e+00  0.00000000e+00  0.00000000e+00  0.00000000e+00\n",
      "     0.00000000e+00]\n",
      "   [ 0.00000000e+00  0.00000000e+00  0.00000000e+00  0.00000000e+00\n",
      "     0.00000000e+00]\n",
      "   [ 0.00000000e+00  0.00000000e+00  0.00000000e+00  0.00000000e+00\n",
      "     0.00000000e+00]\n",
      "   [ 0.00000000e+00  0.00000000e+00  0.00000000e+00  0.00000000e+00\n",
      "     0.00000000e+00]\n",
      "   [ 1.43744683e+00  3.04084849e+00 -1.23055596e-02 -1.02994049e+00\n",
      "    -3.58311921e-01]\n",
      "   [ 3.89135337e+00 -3.09880233e+00 -9.61112082e-01 -5.34940815e+00\n",
      "    -1.56639695e+00]\n",
      "   [ 2.98924756e+00 -1.32771120e+01 -1.66804659e+00 -7.58278561e+00\n",
      "     4.01941633e+00]\n",
      "   [-2.25742698e+00 -4.00326681e+00 -1.80769432e+00 -4.59514046e+00\n",
      "     5.28454161e+00]\n",
      "   [ 0.00000000e+00  0.00000000e+00  0.00000000e+00  0.00000000e+00\n",
      "     0.00000000e+00]\n",
      "   [ 0.00000000e+00  0.00000000e+00  0.00000000e+00  0.00000000e+00\n",
      "     0.00000000e+00]\n",
      "   [ 0.00000000e+00  0.00000000e+00  0.00000000e+00  0.00000000e+00\n",
      "     0.00000000e+00]\n",
      "   [ 0.00000000e+00  0.00000000e+00  0.00000000e+00  0.00000000e+00\n",
      "     0.00000000e+00]]\n",
      "\n",
      "  [[ 0.00000000e+00  0.00000000e+00  0.00000000e+00  0.00000000e+00\n",
      "     0.00000000e+00]\n",
      "   [ 0.00000000e+00  0.00000000e+00  0.00000000e+00  0.00000000e+00\n",
      "     0.00000000e+00]\n",
      "   [ 0.00000000e+00  0.00000000e+00  0.00000000e+00  0.00000000e+00\n",
      "     0.00000000e+00]\n",
      "   [ 0.00000000e+00  0.00000000e+00  0.00000000e+00  0.00000000e+00\n",
      "     0.00000000e+00]\n",
      "   [ 0.00000000e+00  0.00000000e+00  0.00000000e+00  0.00000000e+00\n",
      "     0.00000000e+00]\n",
      "   [ 0.00000000e+00  0.00000000e+00  0.00000000e+00  0.00000000e+00\n",
      "     0.00000000e+00]\n",
      "   [ 7.15600967e-01 -4.94046688e-01 -5.34304440e-01 -2.96454638e-01\n",
      "    -2.79276341e-01]\n",
      "   [ 2.77257800e+00 -1.90652192e+00 -1.17958915e+00 -1.60772443e+00\n",
      "     1.53867021e-01]\n",
      "   [ 5.31031704e+00 -5.46915913e+00 -7.54548386e-02 -5.48891068e+00\n",
      "     2.77140474e+00]\n",
      "   [-9.16207314e-01 -1.02899904e+01 -2.24517488e+00 -7.51811981e+00\n",
      "     5.20958853e+00]\n",
      "   [-3.50082994e-01 -7.65947223e-01 -5.44470370e-01 -9.26375329e-01\n",
      "     4.99136746e-01]\n",
      "   [ 0.00000000e+00  0.00000000e+00  0.00000000e+00  0.00000000e+00\n",
      "     0.00000000e+00]\n",
      "   [ 0.00000000e+00  0.00000000e+00  0.00000000e+00  0.00000000e+00\n",
      "     0.00000000e+00]\n",
      "   [ 0.00000000e+00  0.00000000e+00  0.00000000e+00  0.00000000e+00\n",
      "     0.00000000e+00]]\n",
      "\n",
      "  [[ 0.00000000e+00  0.00000000e+00  0.00000000e+00  0.00000000e+00\n",
      "     0.00000000e+00]\n",
      "   [ 0.00000000e+00  0.00000000e+00  0.00000000e+00  0.00000000e+00\n",
      "     0.00000000e+00]\n",
      "   [ 0.00000000e+00  0.00000000e+00  0.00000000e+00  0.00000000e+00\n",
      "     0.00000000e+00]\n",
      "   [ 0.00000000e+00  0.00000000e+00  0.00000000e+00  0.00000000e+00\n",
      "     0.00000000e+00]\n",
      "   [ 3.73356998e-01 -2.57763475e-01 -2.78767556e-01 -1.54671982e-01\n",
      "    -1.45709395e-01]\n",
      "   [ 2.84241605e+00 -3.33720827e+00 -1.49933887e+00 -1.80965781e+00\n",
      "    -4.90500689e-01]\n",
      "   [ 2.22612000e+00 -6.71431351e+00  3.14652085e-01 -4.85027313e+00\n",
      "     6.51075983e+00]\n",
      "   [ 2.85199833e+00 -8.88371754e+00 -1.17484236e+00 -8.35157871e+00\n",
      "     8.14832783e+00]\n",
      "   [ 1.23506188e+00 -7.22606373e+00 -1.94570684e+00 -9.55972290e+00\n",
      "     5.71657467e+00]\n",
      "   [ 4.31016713e-01 -7.54620028e+00 -3.95163131e+00 -6.05760431e+00\n",
      "     1.82521582e-01]\n",
      "   [ 1.43664773e-03 -2.18614209e-02 -1.25394128e-02 -1.73930954e-02\n",
      "    -1.46094821e-02]\n",
      "   [ 0.00000000e+00  0.00000000e+00  0.00000000e+00  0.00000000e+00\n",
      "     0.00000000e+00]\n",
      "   [ 0.00000000e+00  0.00000000e+00  0.00000000e+00  0.00000000e+00\n",
      "     0.00000000e+00]\n",
      "   [ 0.00000000e+00  0.00000000e+00  0.00000000e+00  0.00000000e+00\n",
      "     0.00000000e+00]]\n",
      "\n",
      "  [[ 0.00000000e+00  0.00000000e+00  0.00000000e+00  0.00000000e+00\n",
      "     0.00000000e+00]\n",
      "   [ 0.00000000e+00  0.00000000e+00  0.00000000e+00  0.00000000e+00\n",
      "     0.00000000e+00]\n",
      "   [ 2.80017763e-01 -1.93322614e-01 -2.09075660e-01 -1.16003990e-01\n",
      "    -1.09282047e-01]\n",
      "   [ 2.69545317e+00 -3.78358054e+00 -8.79203439e-01 -1.47534442e+00\n",
      "    -3.45435441e-01]\n",
      "   [ 1.87767780e+00 -5.74428463e+00 -9.75278139e-01 -5.20648575e+00\n",
      "     4.37133169e+00]\n",
      "   [ 3.02921295e+00 -8.03732872e+00 -6.03967786e-01 -7.87827826e+00\n",
      "     8.78727722e+00]\n",
      "   [ 1.30393887e+00 -7.61397457e+00 -2.25797939e+00 -9.94116592e+00\n",
      "     5.40850353e+00]\n",
      "   [ 1.65646446e+00 -4.78259373e+00 -3.08593559e+00 -7.11747551e+00\n",
      "     1.22711527e+00]\n",
      "   [ 1.13621461e+00 -2.34758687e+00 -4.28506804e+00 -4.48503113e+00\n",
      "    -5.41387033e+00]\n",
      "   [ 5.60292602e-02 -8.52595389e-01 -4.89037097e-01 -6.78330719e-01\n",
      "    -5.69769800e-01]\n",
      "   [ 0.00000000e+00  0.00000000e+00  0.00000000e+00  0.00000000e+00\n",
      "     0.00000000e+00]\n",
      "   [ 0.00000000e+00  0.00000000e+00  0.00000000e+00  0.00000000e+00\n",
      "     0.00000000e+00]\n",
      "   [ 0.00000000e+00  0.00000000e+00  0.00000000e+00  0.00000000e+00\n",
      "     0.00000000e+00]\n",
      "   [ 0.00000000e+00  0.00000000e+00  0.00000000e+00  0.00000000e+00\n",
      "     0.00000000e+00]]\n",
      "\n",
      "  [[ 0.00000000e+00  0.00000000e+00  0.00000000e+00  0.00000000e+00\n",
      "     0.00000000e+00]\n",
      "   [ 1.94152689e+00 -1.47786987e+00 -1.36870134e+00 -1.35507286e+00\n",
      "    -6.98698342e-01]\n",
      "   [ 2.45330739e+00 -7.52809000e+00  1.41060054e+00 -3.83501506e+00\n",
      "     5.99735498e+00]\n",
      "   [ 2.58996010e+00 -7.57393265e+00 -8.58243346e-01 -8.05453491e+00\n",
      "     7.83921051e+00]\n",
      "   [ 2.46948123e+00 -7.64534426e+00 -3.01857567e+00 -9.91127014e+00\n",
      "     4.37466335e+00]\n",
      "   [ 1.48327041e+00 -5.44620228e+00 -2.65297055e+00 -7.72124672e+00\n",
      "     3.01193690e+00]\n",
      "   [ 8.80348980e-01 -3.07387948e+00 -4.49011707e+00 -5.10445929e+00\n",
      "    -4.67512798e+00]\n",
      "   [ 1.02030225e-01 -8.52853358e-01 -6.05123639e-01 -7.44792461e-01\n",
      "    -7.93684661e-01]\n",
      "   [ 0.00000000e+00  0.00000000e+00  0.00000000e+00  0.00000000e+00\n",
      "     0.00000000e+00]\n",
      "   [ 0.00000000e+00  0.00000000e+00  0.00000000e+00  0.00000000e+00\n",
      "     0.00000000e+00]\n",
      "   [ 0.00000000e+00  0.00000000e+00  0.00000000e+00  0.00000000e+00\n",
      "     0.00000000e+00]\n",
      "   [ 0.00000000e+00  0.00000000e+00  0.00000000e+00  0.00000000e+00\n",
      "     0.00000000e+00]\n",
      "   [ 0.00000000e+00  0.00000000e+00  0.00000000e+00  0.00000000e+00\n",
      "     0.00000000e+00]\n",
      "   [ 0.00000000e+00  0.00000000e+00  0.00000000e+00  0.00000000e+00\n",
      "     0.00000000e+00]]\n",
      "\n",
      "  [[ 0.00000000e+00  0.00000000e+00  0.00000000e+00  0.00000000e+00\n",
      "     0.00000000e+00]\n",
      "   [ 6.68023407e-01  1.62094891e+00  4.23298299e-01 -1.11487553e-01\n",
      "     8.05537462e-01]\n",
      "   [ 2.59316444e+00  2.13616300e+00 -2.97604418e+00 -2.76950288e+00\n",
      "    -5.37871408e+00]\n",
      "   [ 2.47581911e+00  3.68601441e-01 -3.83721209e+00 -3.75338888e+00\n",
      "    -6.47621441e+00]\n",
      "   [ 1.46912503e+00 -4.19984400e-01 -2.47153568e+00 -2.68790555e+00\n",
      "    -3.90634012e+00]\n",
      "   [ 1.74044192e-01 -1.40444767e+00 -1.01168489e+00 -1.23517740e+00\n",
      "    -1.33632421e+00]\n",
      "   [ 0.00000000e+00  0.00000000e+00  0.00000000e+00  0.00000000e+00\n",
      "     0.00000000e+00]\n",
      "   [ 0.00000000e+00  0.00000000e+00  0.00000000e+00  0.00000000e+00\n",
      "     0.00000000e+00]\n",
      "   [ 0.00000000e+00  0.00000000e+00  0.00000000e+00  0.00000000e+00\n",
      "     0.00000000e+00]\n",
      "   [ 0.00000000e+00  0.00000000e+00  0.00000000e+00  0.00000000e+00\n",
      "     0.00000000e+00]\n",
      "   [ 0.00000000e+00  0.00000000e+00  0.00000000e+00  0.00000000e+00\n",
      "     0.00000000e+00]\n",
      "   [ 0.00000000e+00  0.00000000e+00  0.00000000e+00  0.00000000e+00\n",
      "     0.00000000e+00]\n",
      "   [ 0.00000000e+00  0.00000000e+00  0.00000000e+00  0.00000000e+00\n",
      "     0.00000000e+00]\n",
      "   [ 0.00000000e+00  0.00000000e+00  0.00000000e+00  0.00000000e+00\n",
      "     0.00000000e+00]]\n",
      "\n",
      "  [[ 0.00000000e+00  0.00000000e+00  0.00000000e+00  0.00000000e+00\n",
      "     0.00000000e+00]\n",
      "   [ 0.00000000e+00  0.00000000e+00  0.00000000e+00  0.00000000e+00\n",
      "     0.00000000e+00]\n",
      "   [ 0.00000000e+00  0.00000000e+00  0.00000000e+00  0.00000000e+00\n",
      "     0.00000000e+00]\n",
      "   [ 0.00000000e+00  0.00000000e+00  0.00000000e+00  0.00000000e+00\n",
      "     0.00000000e+00]\n",
      "   [ 0.00000000e+00  0.00000000e+00  0.00000000e+00  0.00000000e+00\n",
      "     0.00000000e+00]\n",
      "   [ 0.00000000e+00  0.00000000e+00  0.00000000e+00  0.00000000e+00\n",
      "     0.00000000e+00]\n",
      "   [ 0.00000000e+00  0.00000000e+00  0.00000000e+00  0.00000000e+00\n",
      "     0.00000000e+00]\n",
      "   [ 0.00000000e+00  0.00000000e+00  0.00000000e+00  0.00000000e+00\n",
      "     0.00000000e+00]\n",
      "   [ 0.00000000e+00  0.00000000e+00  0.00000000e+00  0.00000000e+00\n",
      "     0.00000000e+00]\n",
      "   [ 0.00000000e+00  0.00000000e+00  0.00000000e+00  0.00000000e+00\n",
      "     0.00000000e+00]\n",
      "   [ 0.00000000e+00  0.00000000e+00  0.00000000e+00  0.00000000e+00\n",
      "     0.00000000e+00]\n",
      "   [ 0.00000000e+00  0.00000000e+00  0.00000000e+00  0.00000000e+00\n",
      "     0.00000000e+00]\n",
      "   [ 0.00000000e+00  0.00000000e+00  0.00000000e+00  0.00000000e+00\n",
      "     0.00000000e+00]\n",
      "   [ 0.00000000e+00  0.00000000e+00  0.00000000e+00  0.00000000e+00\n",
      "     0.00000000e+00]]]], shape=(1, 14, 14, 5), dtype=float32)\n"
     ]
    }
   ],
   "source": [
    "img = img.reshape( -1, 28, 28, 1 )\n",
    "W1 = tf.Variable( tf.random.normal( [ 3, 3, 1, 5 ], stddev = 0.01 ) )\n",
    "conv2d = tf.nn.conv2d( img, W1, strides = [ 1, 2, 2, 1 ], padding = 'SAME' )\n",
    "print( conv2d )"
   ]
  },
  {
   "cell_type": "code",
   "execution_count": 8,
   "metadata": {},
   "outputs": [
    {
     "data": {
      "image/png": "[encoded data removed]",
      "text/plain": [
       "<Figure size 432x288 with 5 Axes>"
      ]
     },
     "metadata": {
      "needs_background": "light"
     },
     "output_type": "display_data"
    }
   ],
   "source": [
    "conv2d_img = np.swapaxes( conv2d, 0, 3 )\n",
    "for i, one_img in enumerate( conv2d_img ):\n",
    "    plt.subplot( 1, 5, i + 1 )\n",
    "    plt.imshow( one_img.reshape( 14, 14 ), cmap = 'gray' )"
   ]
  },
  {
   "cell_type": "code",
   "execution_count": 10,
   "metadata": {},
   "outputs": [
    {
     "name": "stdout",
     "output_type": "stream",
     "text": [
      "[[[[0 0 0 0 0]\n",
      "   [0 0 0 0 0]\n",
      "   [0 0 0 0 0]\n",
      "   ...\n",
      "   [0 0 0 0 0]\n",
      "   [0 0 0 0 0]\n",
      "   [0 0 0 0 0]]\n",
      "\n",
      "  [[0 0 0 0 0]\n",
      "   [2.97036695 0 0 0 0.566867173]\n",
      "   [2.81307673 -1.31358504 0.0328823291 -0.875935316 9.59297848]\n",
      "   ...\n",
      "   [1.88322639 -1.2048254 -0.966840744 -4.36626148 7.03715277]\n",
      "   [2.03819466 -1.56076539 1.12230086 -2.59537506 10.2920074]\n",
      "   [0 0 0 0 0]]\n",
      "\n",
      "  [[0 0 0 0 0]\n",
      "   [0.911515117 2.62837839 0.781422734 0 1.06325161]\n",
      "   [5.90901518 0.0455241539 0.112566605 -0.0771487 0.488524705]\n",
      "   ...\n",
      "   [1.86258411 0 0 0 0]\n",
      "   [0 0 0 0 0]\n",
      "   [0 0 0 0 0]]\n",
      "\n",
      "  ...\n",
      "\n",
      "  [[0 0 0 0 0]\n",
      "   [0 0 0 0 0]\n",
      "   [2.84241605 0 0 0 0]\n",
      "   ...\n",
      "   [5.31031704 -5.46915913 -0.0754548386 -5.48891068 5.71657467]\n",
      "   [0.00143664773 0 0 0 0.499136746]\n",
      "   [0 0 0 0 0]]\n",
      "\n",
      "  [[1.94152689 0 0 0 0]\n",
      "   [2.69545317 -0.193322614 1.41060054 -0.11600399 7.83921051]\n",
      "   [3.02921295 -5.44620228 -0.603967786 -5.20648575 8.78727722]\n",
      "   ...\n",
      "   [1.13621461 0 0 0 0]\n",
      "   [0 0 0 0 0]\n",
      "   [0 0 0 0 0]]\n",
      "\n",
      "  [[0.668023407 1.62094891 0.423298299 0 0.805537462]\n",
      "   [2.59316444 2.136163 0 0 0]\n",
      "   [1.46912503 0 0 0 0]\n",
      "   ...\n",
      "   [0 0 0 0 0]\n",
      "   [0 0 0 0 0]\n",
      "   [0 0 0 0 0]]]]\r\n"
     ]
    },
    {
     "data": {
      "image/png": "[encoded data removed]",
      "text/plain": [
       "<Figure size 432x288 with 5 Axes>"
      ]
     },
     "metadata": {
      "needs_background": "light"
     },
     "output_type": "display_data"
    }
   ],
   "source": [
    "pool = tf.nn.max_pool( conv2d, ksize = [ 1, 2, 2, 1 ],\n",
    "                      strides = [ 1, 2, 2, 1 ], padding = 'SAME' )\n",
    "tf.print( pool )\n",
    "pool_img = np.swapaxes( pool, 0, 3 )\n",
    "for i, one_img in enumerate( pool_img ):\n",
    "    plt.subplot( 1, 5, i + 1 )\n",
    "    plt.imshow( one_img.reshape( 7, 7 ), cmap = 'gray' )"
   ]
  }
 ],
 "metadata": {
  "kernelspec": {
   "display_name": "Python 3",
   "language": "python",
   "name": "python3"
  },
  "language_info": {
   "codemirror_mode": {
    "name": "ipython",
    "version": 3
   },
   "file_extension": ".py",
   "mimetype": "text/x-python",
   "name": "python",
   "nbconvert_exporter": "python",
   "pygments_lexer": "ipython3",
   "version": "3.7.4"
  }
 },
 "nbformat": 4,
 "nbformat_minor": 2
}
