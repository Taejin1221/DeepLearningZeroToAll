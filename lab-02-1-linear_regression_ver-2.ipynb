{
 "cells": [
  {
   "cell_type": "code",
   "execution_count": 1,
   "metadata": {},
   "outputs": [],
   "source": [
    "import tensorflow as tf"
   ]
  },
  {
   "cell_type": "code",
   "execution_count": 2,
   "metadata": {},
   "outputs": [],
   "source": [
    "x_train = [ 1, 2, 3 ]\n",
    "y_train = [ 3, 5, 7 ]\n",
    "\n",
    "W = tf.Variable( tf.random.normal( [ 1 ] ), name = 'W' )\n",
    "b = tf.Variable( tf.random.normal( [ 1 ] ), name = 'b')"
   ]
  },
  {
   "cell_type": "code",
   "execution_count": 3,
   "metadata": {},
   "outputs": [],
   "source": [
    "def Hypothesis():\n",
    "    hypothesis = W * x_train + b\n",
    "    \n",
    "    return hypothesis\n",
    "\n",
    "def CostFunction():    \n",
    "    hypothesis = Hypothesis()\n",
    "    cost = tf.reduce_mean( tf.square( hypothesis - y_train ) )\n",
    "    \n",
    "    return cost"
   ]
  },
  {
   "cell_type": "code",
   "execution_count": 4,
   "metadata": {},
   "outputs": [],
   "source": [
    "def TrainFunction():\n",
    "    loss = lambda : CostFunction()\n",
    "    \n",
    "    optimizer = tf.keras.optimizers.SGD( learning_rate = 0.01 )\n",
    "    optimizer.minimize( loss, [ W, b ] )"
   ]
  },
  {
   "cell_type": "code",
   "execution_count": 5,
   "metadata": {},
   "outputs": [
    {
     "name": "stdout",
     "output_type": "stream",
     "text": [
      "0 22.2793674 [0.605240583] [-0.791143477]\n",
      "200 0.0533263274 [2.26820493] [0.390307158]\n",
      "400 0.0203626323 [2.16573477] [0.62324667]\n",
      "600 0.00777543 [2.10241365] [0.767189443]\n",
      "800 0.00296901236 [2.06328511] [0.856137931]\n",
      "1000 0.00113370281 [2.03910589] [0.911102176]\n",
      "1200 0.0004328996 [2.02416515] [0.945067]\n",
      "1400 0.000165307079 [2.01493287] [0.96605438]\n",
      "1600 6.31237854e-05 [2.00922775] [0.979023218]\n",
      "1800 2.41049729e-05 [2.00570226] [0.987037301]\n",
      "2000 9.20682487e-06 [2.00352407] [0.991988838]\n"
     ]
    }
   ],
   "source": [
    "# best fit W : 2, b : 1\n",
    "for step in range( 2001 ):\n",
    "    TrainFunction()\n",
    "    if step % 200 == 0:\n",
    "        tf.print( step, CostFunction(), W, b )"
   ]
  },
  {
   "cell_type": "code",
   "execution_count": 6,
   "metadata": {},
   "outputs": [
    {
     "name": "stdout",
     "output_type": "stream",
     "text": [
      "[9.0060854]\n",
      "[21.0272293 41.0624695]\n"
     ]
    }
   ],
   "source": [
    "tf.print( W * 4 + b ) # 9\n",
    "tf.print( W * [ 10, 20 ] + b ) # [ 21, 41 ]"
   ]
  }
 ],
 "metadata": {
  "kernelspec": {
   "display_name": "Python 3",
   "language": "python",
   "name": "python3"
  },
  "language_info": {
   "codemirror_mode": {
    "name": "ipython",
    "version": 3
   },
   "file_extension": ".py",
   "mimetype": "text/x-python",
   "name": "python",
   "nbconvert_exporter": "python",
   "pygments_lexer": "ipython3",
   "version": "3.7.4"
  }
 },
 "nbformat": 4,
 "nbformat_minor": 2
}
