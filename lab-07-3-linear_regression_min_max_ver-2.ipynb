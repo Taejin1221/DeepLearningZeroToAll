{
 "cells": [
  {
   "cell_type": "code",
   "execution_count": 1,
   "metadata": {},
   "outputs": [],
   "source": [
    "import tensorflow as tf\n",
    "import numpy as np"
   ]
  },
  {
   "cell_type": "code",
   "execution_count": 2,
   "metadata": {},
   "outputs": [],
   "source": [
    "def min_max_scaler( data ):\n",
    "    numerator = data - np.min( data, 0 )\n",
    "    denominator = np.max( data, 0 ) - np.min( data, 0 )\n",
    "    \n",
    "    return numerator / ( denominator + 1e-7 )"
   ]
  },
  {
   "cell_type": "code",
   "execution_count": 3,
   "metadata": {},
   "outputs": [
    {
     "name": "stdout",
     "output_type": "stream",
     "text": [
      "[[1.         1.         0.         1.         1.        ]\n",
      " [0.70548487 0.70439553 1.         0.71881783 0.8375579 ]\n",
      " [0.5441255  0.50274825 0.57608694 0.606468   0.6606331 ]\n",
      " [0.33890355 0.31368026 0.10869565 0.45989135 0.4380092 ]\n",
      " [0.51436    0.4258239  0.3043478  0.5850481  0.42624405]\n",
      " [0.4955618  0.4258239  0.3152174  0.48131135 0.49276137]\n",
      " [0.11436066 0.         0.20652173 0.22007777 0.1859724 ]\n",
      " [0.         0.077471   0.5326087  0.         0.        ]]\n",
      "(8, 4) (8, 1)\n"
     ]
    }
   ],
   "source": [
    "xy = np.array([\n",
    "    [ 828.659973, 833.450012, 908100, 828.349976, 831.659973 ],\n",
    "    [ 823.02002, 828.070007, 1828100, 821.655029, 828.070007 ],\n",
    "    [ 819.929993, 824.400024, 1438100, 818.97998, 824.159973 ],\n",
    "    [ 816, 820.958984, 1008100, 815.48999, 819.23999 ],\n",
    "    [ 819.359985, 823, 1188100, 818.469971, 818.97998 ],\n",
    "    [ 819, 823, 1198100, 816, 820.450012 ],\n",
    "    [ 811.700012, 815.25, 1098100, 809.780029, 813.669983 ],\n",
    "    [ 809.51001, 816.659973, 1398100, 804.539978, 809.559998 ]\n",
    "], dtype = np.float32)\n",
    "\n",
    "xy = min_max_scaler( xy )\n",
    "print( xy )\n",
    "\n",
    "x_data = xy[ :, 0 : -1 ]\n",
    "y_data = xy[ :, [ -1] ]\n",
    "\n",
    "print( x_data.shape, y_data.shape )"
   ]
  },
  {
   "cell_type": "code",
   "execution_count": 4,
   "metadata": {},
   "outputs": [],
   "source": [
    "W = tf.Variable( tf.random.normal( [ 4, 1 ] ), name = 'weight' )\n",
    "b = tf.Variable( tf.random.normal( [ 1 ] ), name = 'bias' )"
   ]
  },
  {
   "cell_type": "code",
   "execution_count": 5,
   "metadata": {},
   "outputs": [],
   "source": [
    "@tf.function\n",
    "def Hypothesis( X ):\n",
    "    return tf.matmul( X, W ) + b\n",
    "\n",
    "@tf.function\n",
    "def Cost( X, Y ):\n",
    "    return (\n",
    "        tf.reduce_mean( tf.square( Hypothesis( X ) - Y ) )\n",
    "    )\n",
    "\n",
    "def Minimize( X, Y ):\n",
    "    loss = lambda: Cost( X, Y )\n",
    "    tf.keras.optimizers.SGD( 0.01 ).minimize( loss, [ W, b ] )"
   ]
  },
  {
   "cell_type": "code",
   "execution_count": 6,
   "metadata": {},
   "outputs": [
    {
     "name": "stdout",
     "output_type": "stream",
     "text": [
      "Step:  0 Cost:  2.66309261\n",
      "Step:  20 Cost:  0.922565162\n",
      "Step:  40 Cost:  0.522112131\n",
      "Step:  60 Cost:  0.407171369\n",
      "Step:  80 Cost:  0.355553985\n",
      "Step:  100 Cost:  0.32015878\n",
      "Step:  120 Cost:  0.290748417\n",
      "Step:  140 Cost:  0.264876842\n",
      "Step:  160 Cost:  0.241771534\n",
      "Step:  180 Cost:  0.221042529\n",
      "Step:  200 Cost:  0.202407211\n"
     ]
    }
   ],
   "source": [
    "for step in range( 201 ):\n",
    "    Minimize( x_data, y_data )\n",
    "    if ( step % 20 == 0 ):\n",
    "        tf.print( 'Step: ', step, 'Cost: ', Cost( x_data, y_data ) )"
   ]
  }
 ],
 "metadata": {
  "kernelspec": {
   "display_name": "Python 3",
   "language": "python",
   "name": "python3"
  },
  "language_info": {
   "codemirror_mode": {
    "name": "ipython",
    "version": 3
   },
   "file_extension": ".py",
   "mimetype": "text/x-python",
   "name": "python",
   "nbconvert_exporter": "python",
   "pygments_lexer": "ipython3",
   "version": "3.7.4"
  }
 },
 "nbformat": 4,
 "nbformat_minor": 2
}
