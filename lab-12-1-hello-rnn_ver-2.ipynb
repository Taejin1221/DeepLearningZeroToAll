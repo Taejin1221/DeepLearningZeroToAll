{
 "cells": [
  {
   "cell_type": "code",
   "execution_count": 1,
   "metadata": {},
   "outputs": [],
   "source": [
    "import tensorflow as tf\n",
    "from tensorflow.keras import layers\n",
    "import numpy as np"
   ]
  },
  {
   "cell_type": "code",
   "execution_count": 2,
   "metadata": {},
   "outputs": [],
   "source": [
    "idx2char = [ 'h', 'i', 'e', 'l', 'o' ]"
   ]
  },
  {
   "cell_type": "code",
   "execution_count": 3,
   "metadata": {},
   "outputs": [],
   "source": [
    "x_data = [ [ 0, 1, 0, 2, 3, 3 ] ] # hihell\n",
    "x_one_hot = np.array( [ [\n",
    "    [ 1, 0, 0, 0, 0 ],\n",
    "    [ 0, 1, 0, 0, 0 ],\n",
    "    [ 1, 0, 0, 0, 0 ],\n",
    "    [ 0, 0, 1, 0, 0 ],\n",
    "    [ 0, 0, 0, 1, 0 ],\n",
    "    [ 0, 0, 0, 1, 0 ]\n",
    "]], dtype = np.float32 )\n",
    "\n",
    "y_data = [ [ 1, 0, 2, 3, 3, 4 ] ]\n",
    "y_one_hot = tf.keras.utils.to_categorical( y_data, num_classes = 5 )"
   ]
  },
  {
   "cell_type": "code",
   "execution_count": 4,
   "metadata": {},
   "outputs": [],
   "source": [
    "num_classes = 5\n",
    "input_dim = 5\n",
    "sequence_length = 6\n",
    "learning_rate = 0.1"
   ]
  },
  {
   "cell_type": "code",
   "execution_count": 5,
   "metadata": {},
   "outputs": [],
   "source": [
    "model = tf.keras.Sequential()"
   ]
  },
  {
   "cell_type": "code",
   "execution_count": 6,
   "metadata": {},
   "outputs": [],
   "source": [
    "cell = layers.LSTMCell( units = num_classes,\n",
    "                                input_shape = [ sequence_length, input_dim ] )\n",
    "model.add( layers.RNN( cell = cell, return_sequences = True ) )"
   ]
  },
  {
   "cell_type": "code",
   "execution_count": 7,
   "metadata": {},
   "outputs": [],
   "source": [
    "fc_layer = layers.Dense( units = num_classes, activation = 'softmax' )\n",
    "model.add( layers.TimeDistributed( fc_layer ) )"
   ]
  },
  {
   "cell_type": "code",
   "execution_count": 8,
   "metadata": {},
   "outputs": [
    {
     "name": "stdout",
     "output_type": "stream",
     "text": [
      "Train on 1 samples\n",
      "Epoch 1/50\n",
      "1/1 [==============================] - 1s 769ms/sample - loss: 1.6286 - accuracy: 0.0000e+00\n",
      "Epoch 2/50\n",
      "1/1 [==============================] - 0s 6ms/sample - loss: 1.5294 - accuracy: 0.3333\n",
      "Epoch 3/50\n",
      "1/1 [==============================] - 0s 6ms/sample - loss: 1.4538 - accuracy: 0.3333\n",
      "Epoch 4/50\n",
      "1/1 [==============================] - 0s 5ms/sample - loss: 1.3900 - accuracy: 0.3333\n",
      "Epoch 5/50\n",
      "1/1 [==============================] - 0s 6ms/sample - loss: 1.3180 - accuracy: 0.3333\n",
      "Epoch 6/50\n",
      "1/1 [==============================] - 0s 6ms/sample - loss: 1.2168 - accuracy: 0.3333\n",
      "Epoch 7/50\n",
      "1/1 [==============================] - 0s 6ms/sample - loss: 1.1012 - accuracy: 0.5000\n",
      "Epoch 8/50\n",
      "1/1 [==============================] - 0s 6ms/sample - loss: 0.9907 - accuracy: 0.5000\n",
      "Epoch 9/50\n",
      "1/1 [==============================] - 0s 6ms/sample - loss: 0.8917 - accuracy: 0.6667\n",
      "Epoch 10/50\n",
      "1/1 [==============================] - 0s 6ms/sample - loss: 0.7978 - accuracy: 0.8333\n",
      "Epoch 11/50\n",
      "1/1 [==============================] - 0s 6ms/sample - loss: 0.7112 - accuracy: 0.6667\n",
      "Epoch 12/50\n",
      "1/1 [==============================] - 0s 6ms/sample - loss: 0.6307 - accuracy: 1.0000\n",
      "Epoch 13/50\n",
      "1/1 [==============================] - 0s 6ms/sample - loss: 0.5563 - accuracy: 0.8333\n",
      "Epoch 14/50\n",
      "1/1 [==============================] - 0s 6ms/sample - loss: 0.4942 - accuracy: 0.8333\n",
      "Epoch 15/50\n",
      "1/1 [==============================] - 0s 6ms/sample - loss: 0.4453 - accuracy: 0.8333\n",
      "Epoch 16/50\n",
      "1/1 [==============================] - 0s 6ms/sample - loss: 0.4025 - accuracy: 0.8333\n",
      "Epoch 17/50\n",
      "1/1 [==============================] - 0s 6ms/sample - loss: 0.3594 - accuracy: 0.8333\n",
      "Epoch 18/50\n",
      "1/1 [==============================] - 0s 6ms/sample - loss: 0.3164 - accuracy: 0.8333\n",
      "Epoch 19/50\n",
      "1/1 [==============================] - 0s 7ms/sample - loss: 0.2779 - accuracy: 1.0000\n",
      "Epoch 20/50\n",
      "1/1 [==============================] - 0s 6ms/sample - loss: 0.2452 - accuracy: 1.0000\n",
      "Epoch 21/50\n",
      "1/1 [==============================] - 0s 7ms/sample - loss: 0.2140 - accuracy: 1.0000\n",
      "Epoch 22/50\n",
      "1/1 [==============================] - 0s 6ms/sample - loss: 0.1833 - accuracy: 1.0000\n",
      "Epoch 23/50\n",
      "1/1 [==============================] - 0s 6ms/sample - loss: 0.1685 - accuracy: 1.0000\n",
      "Epoch 24/50\n",
      "1/1 [==============================] - 0s 6ms/sample - loss: 0.1374 - accuracy: 1.0000\n",
      "Epoch 25/50\n",
      "1/1 [==============================] - 0s 6ms/sample - loss: 0.1272 - accuracy: 1.0000\n",
      "Epoch 26/50\n",
      "1/1 [==============================] - 0s 6ms/sample - loss: 0.1064 - accuracy: 1.0000\n",
      "Epoch 27/50\n",
      "1/1 [==============================] - 0s 6ms/sample - loss: 0.0898 - accuracy: 1.0000\n",
      "Epoch 28/50\n",
      "1/1 [==============================] - 0s 6ms/sample - loss: 0.0821 - accuracy: 1.0000\n",
      "Epoch 29/50\n",
      "1/1 [==============================] - 0s 6ms/sample - loss: 0.0646 - accuracy: 1.0000\n",
      "Epoch 30/50\n",
      "1/1 [==============================] - 0s 6ms/sample - loss: 0.0600 - accuracy: 1.0000\n",
      "Epoch 31/50\n",
      "1/1 [==============================] - 0s 6ms/sample - loss: 0.0517 - accuracy: 1.0000\n",
      "Epoch 32/50\n",
      "1/1 [==============================] - 0s 6ms/sample - loss: 0.0434 - accuracy: 1.0000\n",
      "Epoch 33/50\n",
      "1/1 [==============================] - 0s 6ms/sample - loss: 0.0422 - accuracy: 1.0000\n",
      "Epoch 34/50\n",
      "1/1 [==============================] - 0s 6ms/sample - loss: 0.0356 - accuracy: 1.0000\n",
      "Epoch 35/50\n",
      "1/1 [==============================] - 0s 6ms/sample - loss: 0.0315 - accuracy: 1.0000\n",
      "Epoch 36/50\n",
      "1/1 [==============================] - 0s 6ms/sample - loss: 0.0300 - accuracy: 1.0000\n",
      "Epoch 37/50\n",
      "1/1 [==============================] - 0s 6ms/sample - loss: 0.0269 - accuracy: 1.0000\n",
      "Epoch 38/50\n",
      "1/1 [==============================] - 0s 6ms/sample - loss: 0.0236 - accuracy: 1.0000\n",
      "Epoch 39/50\n",
      "1/1 [==============================] - 0s 5ms/sample - loss: 0.0219 - accuracy: 1.0000\n",
      "Epoch 40/50\n",
      "1/1 [==============================] - 0s 6ms/sample - loss: 0.0209 - accuracy: 1.0000\n",
      "Epoch 41/50\n",
      "1/1 [==============================] - 0s 6ms/sample - loss: 0.0190 - accuracy: 1.0000\n",
      "Epoch 42/50\n",
      "1/1 [==============================] - 0s 5ms/sample - loss: 0.0169 - accuracy: 1.0000\n",
      "Epoch 43/50\n",
      "1/1 [==============================] - 0s 6ms/sample - loss: 0.0155 - accuracy: 1.0000\n",
      "Epoch 44/50\n",
      "1/1 [==============================] - 0s 6ms/sample - loss: 0.0147 - accuracy: 1.0000\n",
      "Epoch 45/50\n",
      "1/1 [==============================] - 0s 6ms/sample - loss: 0.0139 - accuracy: 1.0000\n",
      "Epoch 46/50\n",
      "1/1 [==============================] - 0s 6ms/sample - loss: 0.0129 - accuracy: 1.0000\n",
      "Epoch 47/50\n",
      "1/1 [==============================] - 0s 6ms/sample - loss: 0.0119 - accuracy: 1.0000\n",
      "Epoch 48/50\n",
      "1/1 [==============================] - 0s 6ms/sample - loss: 0.0113 - accuracy: 1.0000\n",
      "Epoch 49/50\n",
      "1/1 [==============================] - 0s 6ms/sample - loss: 0.0109 - accuracy: 1.0000\n",
      "Epoch 50/50\n",
      "1/1 [==============================] - 0s 6ms/sample - loss: 0.0105 - accuracy: 1.0000\n",
      "Model: \"sequential\"\n",
      "_________________________________________________________________\n",
      "Layer (type)                 Output Shape              Param #   \n",
      "=================================================================\n",
      "rnn (RNN)                    multiple                  220       \n",
      "_________________________________________________________________\n",
      "time_distributed (TimeDistri multiple                  30        \n",
      "=================================================================\n",
      "Total params: 250\n",
      "Trainable params: 250\n",
      "Non-trainable params: 0\n",
      "_________________________________________________________________\n"
     ]
    }
   ],
   "source": [
    "model.compile( loss = 'categorical_crossentropy', optimizer = tf.keras.optimizers.Adam( learning_rate ),\n",
    "              metrics = [ 'accuracy' ] )\n",
    "model.fit( x_one_hot, y_one_hot, epochs = 50 )\n",
    "model.summary()"
   ]
  },
  {
   "cell_type": "code",
   "execution_count": 9,
   "metadata": {},
   "outputs": [
    {
     "name": "stdout",
     "output_type": "stream",
     "text": [
      "[[9.4489346e-04 9.9314296e-01 4.5856116e-03 1.3234885e-03 3.1206173e-06]\n",
      " [9.9636734e-01 6.9260830e-05 2.9025198e-04 3.2723676e-03 8.6089278e-07]\n",
      " [7.5083175e-05 5.9667480e-04 9.8965865e-01 9.6692266e-03 3.3899653e-07]\n",
      " [6.7400304e-04 3.1196672e-04 1.2395372e-02 9.8655450e-01 6.4070329e-05]\n",
      " [7.6060183e-04 4.0811364e-04 1.5786013e-03 9.8962271e-01 7.6299608e-03]\n",
      " [2.2081369e-05 8.2555933e-05 9.7368720e-06 1.5169251e-02 9.8471642e-01]]\n",
      "Prediction str:  ihello\n"
     ]
    }
   ],
   "source": [
    "predictions = model.predict( x_one_hot )\n",
    "for i, prediction in enumerate( predictions ):\n",
    "    print( prediction )\n",
    "    \n",
    "    result_str = [ idx2char[ c ] for c in tf.argmax( prediction, axis = 1 ) ]\n",
    "    print( 'Prediction str: ', ''.join( result_str ) )"
   ]
  }
 ],
 "metadata": {
  "kernelspec": {
   "display_name": "Python 3",
   "language": "python",
   "name": "python3"
  },
  "language_info": {
   "codemirror_mode": {
    "name": "ipython",
    "version": 3
   },
   "file_extension": ".py",
   "mimetype": "text/x-python",
   "name": "python",
   "nbconvert_exporter": "python",
   "pygments_lexer": "ipython3",
   "version": "3.7.4"
  }
 },
 "nbformat": 4,
 "nbformat_minor": 2
}
