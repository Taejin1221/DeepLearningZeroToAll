{
 "cells": [
  {
   "cell_type": "code",
   "execution_count": 1,
   "metadata": {},
   "outputs": [],
   "source": [
    "import tensorflow as tf\n",
    "from tensorflow.keras import layers\n",
    "import numpy as np"
   ]
  },
  {
   "cell_type": "code",
   "execution_count": 2,
   "metadata": {},
   "outputs": [],
   "source": [
    "idx2char = [ 'h', 'i', 'e', 'l', 'o' ]"
   ]
  },
  {
   "cell_type": "code",
   "execution_count": 3,
   "metadata": {},
   "outputs": [],
   "source": [
    "x_data = [ [ 0, 1, 0, 2, 3, 3 ] ] # hihell\n",
    "x_one_hot = np.array( [ [\n",
    "    [ 1, 0, 0, 0, 0 ],\n",
    "    [ 0, 1, 0, 0, 0 ],\n",
    "    [ 1, 0, 0, 0, 0 ],\n",
    "    [ 0, 0, 1, 0, 0 ],\n",
    "    [ 0, 0, 0, 1, 0 ],\n",
    "    [ 0, 0, 0, 1, 0 ]\n",
    "]], dtype = np.float32 )\n",
    "\n",
    "y_data = [ [ 1, 0, 2, 3, 3, 4 ] ]\n",
    "y_one_hot = tf.keras.utils.to_categorical( y_data, num_classes = 5 )"
   ]
  },
  {
   "cell_type": "code",
   "execution_count": 4,
   "metadata": {},
   "outputs": [],
   "source": [
    "num_classes = 5\n",
    "input_dim = 5\n",
    "sequence_length = 6\n",
    "learning_rate = 0.1"
   ]
  },
  {
   "cell_type": "code",
   "execution_count": 5,
   "metadata": {},
   "outputs": [],
   "source": [
    "model = tf.keras.Sequential()"
   ]
  },
  {
   "cell_type": "code",
   "execution_count": 6,
   "metadata": {},
   "outputs": [],
   "source": [
    "cell = layers.LSTMCell( units = num_classes,\n",
    "                                input_shape = [ sequence_length, input_dim ] )\n",
    "model.add( layers.RNN( cell = cell, return_sequences = True ) )"
   ]
  },
  {
   "cell_type": "code",
   "execution_count": 7,
   "metadata": {},
   "outputs": [],
   "source": [
    "fc_layer = layers.Dense( units = num_classes, activation = 'softmax' )\n",
    "model.add( layers.TimeDistributed( fc_layer ) )"
   ]
  },
  {
   "cell_type": "code",
   "execution_count": 8,
   "metadata": {},
   "outputs": [
    {
     "name": "stdout",
     "output_type": "stream",
     "text": [
      "Train on 1 samples\n",
      "Epoch 1/50\n",
      "1/1 [==============================] - 1s 725ms/sample - loss: 1.6650 - accuracy: 0.0000e+00\n",
      "Epoch 2/50\n",
      "1/1 [==============================] - 0s 6ms/sample - loss: 1.5452 - accuracy: 0.3333\n",
      "Epoch 3/50\n",
      "1/1 [==============================] - 0s 6ms/sample - loss: 1.4723 - accuracy: 0.3333\n",
      "Epoch 4/50\n",
      "1/1 [==============================] - 0s 6ms/sample - loss: 1.4131 - accuracy: 0.3333\n",
      "Epoch 5/50\n",
      "1/1 [==============================] - 0s 7ms/sample - loss: 1.3462 - accuracy: 0.3333\n",
      "Epoch 6/50\n",
      "1/1 [==============================] - 0s 7ms/sample - loss: 1.2629 - accuracy: 0.3333\n",
      "Epoch 7/50\n",
      "1/1 [==============================] - 0s 6ms/sample - loss: 1.1655 - accuracy: 0.3333\n",
      "Epoch 8/50\n",
      "1/1 [==============================] - 0s 6ms/sample - loss: 1.0706 - accuracy: 0.6667\n",
      "Epoch 9/50\n",
      "1/1 [==============================] - 0s 6ms/sample - loss: 0.9782 - accuracy: 0.6667\n",
      "Epoch 10/50\n",
      "1/1 [==============================] - 0s 6ms/sample - loss: 0.8787 - accuracy: 0.8333\n",
      "Epoch 11/50\n",
      "1/1 [==============================] - 0s 6ms/sample - loss: 0.7968 - accuracy: 0.6667\n",
      "Epoch 12/50\n",
      "1/1 [==============================] - 0s 6ms/sample - loss: 0.7234 - accuracy: 0.6667\n",
      "Epoch 13/50\n",
      "1/1 [==============================] - 0s 7ms/sample - loss: 0.6458 - accuracy: 0.8333\n",
      "Epoch 14/50\n",
      "1/1 [==============================] - 0s 6ms/sample - loss: 0.5740 - accuracy: 1.0000\n",
      "Epoch 15/50\n",
      "1/1 [==============================] - 0s 6ms/sample - loss: 0.5161 - accuracy: 1.0000\n",
      "Epoch 16/50\n",
      "1/1 [==============================] - 0s 6ms/sample - loss: 0.4646 - accuracy: 0.8333\n",
      "Epoch 17/50\n",
      "1/1 [==============================] - 0s 5ms/sample - loss: 0.4117 - accuracy: 0.8333\n",
      "Epoch 18/50\n",
      "1/1 [==============================] - 0s 5ms/sample - loss: 0.3571 - accuracy: 0.8333\n",
      "Epoch 19/50\n",
      "1/1 [==============================] - 0s 6ms/sample - loss: 0.3039 - accuracy: 1.0000\n",
      "Epoch 20/50\n",
      "1/1 [==============================] - 0s 7ms/sample - loss: 0.2547 - accuracy: 1.0000\n",
      "Epoch 21/50\n",
      "1/1 [==============================] - 0s 6ms/sample - loss: 0.2100 - accuracy: 1.0000\n",
      "Epoch 22/50\n",
      "1/1 [==============================] - 0s 5ms/sample - loss: 0.1709 - accuracy: 1.0000\n",
      "Epoch 23/50\n",
      "1/1 [==============================] - 0s 6ms/sample - loss: 0.1402 - accuracy: 1.0000\n",
      "Epoch 24/50\n",
      "1/1 [==============================] - 0s 6ms/sample - loss: 0.1169 - accuracy: 1.0000\n",
      "Epoch 25/50\n",
      "1/1 [==============================] - 0s 6ms/sample - loss: 0.0984 - accuracy: 1.0000\n",
      "Epoch 26/50\n",
      "1/1 [==============================] - 0s 5ms/sample - loss: 0.0840 - accuracy: 1.0000\n",
      "Epoch 27/50\n",
      "1/1 [==============================] - 0s 5ms/sample - loss: 0.0721 - accuracy: 1.0000\n",
      "Epoch 28/50\n",
      "1/1 [==============================] - 0s 5ms/sample - loss: 0.0607 - accuracy: 1.0000\n",
      "Epoch 29/50\n",
      "1/1 [==============================] - 0s 6ms/sample - loss: 0.0508 - accuracy: 1.0000\n",
      "Epoch 30/50\n",
      "1/1 [==============================] - 0s 6ms/sample - loss: 0.0440 - accuracy: 1.0000\n",
      "Epoch 31/50\n",
      "1/1 [==============================] - 0s 6ms/sample - loss: 0.0374 - accuracy: 1.0000\n",
      "Epoch 32/50\n",
      "1/1 [==============================] - 0s 6ms/sample - loss: 0.0309 - accuracy: 1.0000\n",
      "Epoch 33/50\n",
      "1/1 [==============================] - 0s 6ms/sample - loss: 0.0268 - accuracy: 1.0000\n",
      "Epoch 34/50\n",
      "1/1 [==============================] - 0s 6ms/sample - loss: 0.0236 - accuracy: 1.0000\n",
      "Epoch 35/50\n",
      "1/1 [==============================] - 0s 6ms/sample - loss: 0.0199 - accuracy: 1.0000\n",
      "Epoch 36/50\n",
      "1/1 [==============================] - 0s 6ms/sample - loss: 0.0173 - accuracy: 1.0000\n",
      "Epoch 37/50\n",
      "1/1 [==============================] - 0s 6ms/sample - loss: 0.0156 - accuracy: 1.0000\n",
      "Epoch 38/50\n",
      "1/1 [==============================] - 0s 6ms/sample - loss: 0.0138 - accuracy: 1.0000\n",
      "Epoch 39/50\n",
      "1/1 [==============================] - 0s 6ms/sample - loss: 0.0120 - accuracy: 1.0000\n",
      "Epoch 40/50\n",
      "1/1 [==============================] - 0s 6ms/sample - loss: 0.0108 - accuracy: 1.0000\n",
      "Epoch 41/50\n",
      "1/1 [==============================] - 0s 6ms/sample - loss: 0.0099 - accuracy: 1.0000\n",
      "Epoch 42/50\n",
      "1/1 [==============================] - 0s 6ms/sample - loss: 0.0090 - accuracy: 1.0000\n",
      "Epoch 43/50\n",
      "1/1 [==============================] - 0s 5ms/sample - loss: 0.0081 - accuracy: 1.0000\n",
      "Epoch 44/50\n",
      "1/1 [==============================] - 0s 6ms/sample - loss: 0.0073 - accuracy: 1.0000\n",
      "Epoch 45/50\n",
      "1/1 [==============================] - 0s 5ms/sample - loss: 0.0068 - accuracy: 1.0000\n",
      "Epoch 46/50\n",
      "1/1 [==============================] - 0s 5ms/sample - loss: 0.0064 - accuracy: 1.0000\n",
      "Epoch 47/50\n",
      "1/1 [==============================] - 0s 6ms/sample - loss: 0.0059 - accuracy: 1.0000\n",
      "Epoch 48/50\n",
      "1/1 [==============================] - 0s 5ms/sample - loss: 0.0055 - accuracy: 1.0000\n",
      "Epoch 49/50\n",
      "1/1 [==============================] - 0s 6ms/sample - loss: 0.0051 - accuracy: 1.0000\n",
      "Epoch 50/50\n",
      "1/1 [==============================] - 0s 6ms/sample - loss: 0.0048 - accuracy: 1.0000\n",
      "Model: \"sequential\"\n",
      "_________________________________________________________________\n",
      "Layer (type)                 Output Shape              Param #   \n",
      "=================================================================\n",
      "rnn (RNN)                    multiple                  220       \n",
      "_________________________________________________________________\n",
      "time_distributed (TimeDistri multiple                  30        \n",
      "=================================================================\n",
      "Total params: 250\n",
      "Trainable params: 250\n",
      "Non-trainable params: 0\n",
      "_________________________________________________________________\n"
     ]
    }
   ],
   "source": [
    "model.compile( loss = 'categorical_crossentropy', optimizer = tf.keras.optimizers.Adam( learning_rate ),\n",
    "              metrics = [ 'accuracy' ] )\n",
    "model.fit( x_one_hot, y_one_hot, epochs = 50 )\n",
    "model.summary()"
   ]
  },
  {
   "cell_type": "code",
   "execution_count": 9,
   "metadata": {},
   "outputs": [
    {
     "name": "stdout",
     "output_type": "stream",
     "text": [
      "[[7.2356675e-06 9.9819618e-01 7.9735141e-04 9.9924661e-04 8.1174889e-09]\n",
      " [9.9510539e-01 7.6592994e-05 4.7574709e-03 3.5848939e-07 6.0154547e-05]\n",
      " [2.5782877e-04 7.1245310e-04 9.9621272e-01 2.8155919e-03 1.4685540e-06]\n",
      " [2.3770196e-08 9.1840891e-04 8.3051086e-04 9.9820781e-01 4.3287302e-05]\n",
      " [6.8653196e-07 2.9997871e-04 5.9080037e-04 9.9065137e-01 8.4571494e-03]\n",
      " [2.2920245e-05 1.3447377e-07 7.5588599e-05 5.7778656e-03 9.9412352e-01]]\n",
      "Prediction str:  ihello\n"
     ]
    }
   ],
   "source": [
    "predictions = model.predict( x_one_hot )\n",
    "for i, prediction in enumerate( predictions ):\n",
    "    print( prediction )\n",
    "    \n",
    "    result_str = [ idx2char[ c ] for c in tf.argmax( prediction, axis = 1 ) ]\n",
    "    print( 'Prediction str: ', ''.join( result_str ) )"
   ]
  }
 ],
 "metadata": {
  "kernelspec": {
   "display_name": "Python 3",
   "language": "python",
   "name": "python3"
  },
  "language_info": {
   "codemirror_mode": {
    "name": "ipython",
    "version": 3
   },
   "file_extension": ".py",
   "mimetype": "text/x-python",
   "name": "python",
   "nbconvert_exporter": "python",
   "pygments_lexer": "ipython3",
   "version": "3.7.4"
  }
 },
 "nbformat": 4,
 "nbformat_minor": 2
}
