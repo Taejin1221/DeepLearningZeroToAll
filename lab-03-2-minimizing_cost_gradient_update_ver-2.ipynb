{
 "cells": [
  {
   "cell_type": "code",
   "execution_count": 8,
   "metadata": {},
   "outputs": [],
   "source": [
    "import tensorflow as tf"
   ]
  },
  {
   "cell_type": "code",
   "execution_count": 9,
   "metadata": {},
   "outputs": [],
   "source": [
    "x_data = [ 1, 2, 3 ]\n",
    "y_data = [ 1, 2, 3 ]"
   ]
  },
  {
   "cell_type": "code",
   "execution_count": 10,
   "metadata": {},
   "outputs": [],
   "source": [
    "W = tf.Variable( tf.random.normal( [ 1 ] ), name = 'W' )"
   ]
  },
  {
   "cell_type": "code",
   "execution_count": 11,
   "metadata": {},
   "outputs": [],
   "source": [
    "def CostFunction(X, Y):\n",
    "    hypothesis = X * W\n",
    "    \n",
    "    cost = tf.reduce_sum( tf.square( hypothesis - Y ) )\n",
    "    \n",
    "    return cost"
   ]
  },
  {
   "cell_type": "code",
   "execution_count": 12,
   "metadata": {},
   "outputs": [],
   "source": [
    "def Minimize(X, Y):\n",
    "    learning_rate = 0.1\n",
    "    gradient = tf.reduce_mean( ( W * X - Y ) * X )\n",
    "    descent = W - learning_rate * gradient\n",
    "    \n",
    "    W.assign(descent)"
   ]
  },
  {
   "cell_type": "code",
   "execution_count": 13,
   "metadata": {},
   "outputs": [
    {
     "name": "stdout",
     "output_type": "stream",
     "text": [
      "0 19.3602543 [-0.175957203]\n",
      "1 5.506917 [0.372822821]\n",
      "2 1.56641173 [0.665505528]\n",
      "3 0.445557028 [0.821602941]\n",
      "4 0.126736209 [0.904854894]\n",
      "5 0.0360494331 [0.949255943]\n",
      "6 0.0102540739 [0.972936511]\n",
      "7 0.00291670882 [0.985566139]\n",
      "8 0.000829641591 [0.992301941]\n",
      "9 0.000235987958 [0.995894372]\n",
      "10 6.71230955e-05 [0.997810364]\n",
      "11 1.90941191e-05 [0.998832166]\n",
      "12 5.43195847e-06 [0.999377131]\n",
      "13 1.54489771e-06 [0.999667823]\n",
      "14 4.39324936e-07 [0.999822855]\n",
      "15 1.24986812e-07 [0.999905527]\n",
      "16 3.55321852e-08 [0.999949634]\n",
      "17 1.01071471e-08 [0.999973118]\n",
      "18 2.89397306e-09 [0.999985635]\n",
      "19 8.14907253e-10 [0.999992371]\n",
      "20 2.29988473e-10 [0.999995947]\n"
     ]
    }
   ],
   "source": [
    "for step in range( 21 ):\n",
    "    Minimize(x_data, y_data)\n",
    "    tf.print( step, CostFunction(x_data, y_data), W)"
   ]
  }
 ],
 "metadata": {
  "kernelspec": {
   "display_name": "Python 3",
   "language": "python",
   "name": "python3"
  },
  "language_info": {
   "codemirror_mode": {
    "name": "ipython",
    "version": 3
   },
   "file_extension": ".py",
   "mimetype": "text/x-python",
   "name": "python",
   "nbconvert_exporter": "python",
   "pygments_lexer": "ipython3",
   "version": "3.7.4"
  }
 },
 "nbformat": 4,
 "nbformat_minor": 2
}
